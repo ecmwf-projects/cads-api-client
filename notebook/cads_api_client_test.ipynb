{
 "cells": [
  {
   "cell_type": "markdown",
   "id": "c7b5366a",
   "metadata": {},
   "source": [
    "# CADS API Python client Tests"
   ]
  },
  {
   "cell_type": "code",
   "execution_count": null,
   "id": "710ef2fb",
   "metadata": {},
   "outputs": [],
   "source": [
    "import os\n",
    "import xarray as xr\n",
    "\n",
    "import cads_api_client"
   ]
  },
  {
   "cell_type": "code",
   "execution_count": null,
   "id": "10798c3d",
   "metadata": {},
   "outputs": [],
   "source": [
    "api_url = os.getenv(\"CADS_API_ROOT_URL\", \"http://cds2-dev.copernicus-climate.eu/api\")"
   ]
  },
  {
   "cell_type": "markdown",
   "id": "622e6c14",
   "metadata": {},
   "source": [
    "## Client instantiation\n",
    "\n",
    "The client expose the APIs for both \n",
    "- catalogue exploration \n",
    "- data retrieve"
   ]
  },
  {
   "cell_type": "code",
   "execution_count": null,
   "id": "5282a5d0",
   "metadata": {},
   "outputs": [],
   "source": [
    "client = cads_api_client.ApiClient(api_url)\n",
    "client"
   ]
  },
  {
   "cell_type": "markdown",
   "id": "9003f8fd",
   "metadata": {},
   "source": [
    "## 1. Catalogue Exploration\n",
    "\n",
    "**Objective**: verify the capabilities of the client to access the catalogue and to expose the catalogue information"
   ]
  },
  {
   "cell_type": "markdown",
   "id": "da787d64",
   "metadata": {},
   "source": [
    "### 1.1 Collections\n",
    "\n",
    "**Objective**: Verify the access to the list of **collections** and thier descriptions\n",
    "\n",
    "_**expected result**: correct instatiation of collections object._\n",
    "*if collections.response has 200 status code, the request is succesfull and the test can proceed*"
   ]
  },
  {
   "cell_type": "code",
   "execution_count": null,
   "id": "91edb11f",
   "metadata": {},
   "outputs": [],
   "source": [
    "collections = client.collections()\n",
    "collections.response"
   ]
  },
  {
   "cell_type": "markdown",
   "id": "efdfb022",
   "metadata": {},
   "source": [
    "_**expected result**: list of all available collection._"
   ]
  },
  {
   "cell_type": "code",
   "execution_count": null,
   "id": "e474e910",
   "metadata": {},
   "outputs": [],
   "source": [
    "collections.collection_ids()"
   ]
  },
  {
   "cell_type": "markdown",
   "id": "439b6a62",
   "metadata": {},
   "source": [
    "### 1.2 Collection\n",
    "\n",
    "**Objective**: Verify the access to the list of **collection** and it description\n",
    "\n",
    "_**expected result**: correct instatiation of collection object._\n",
    "\n",
    "*if collection.response has 200 status code, the request is succesfull and the test can proceed*"
   ]
  },
  {
   "cell_type": "code",
   "execution_count": null,
   "id": "0fdeb32d",
   "metadata": {},
   "outputs": [],
   "source": [
    "# select a collection\n",
    "collection = client.collection(\"reanalysis-era5-pressure-levels\")\n",
    "collection"
   ]
  },
  {
   "cell_type": "markdown",
   "id": "0fca7a47",
   "metadata": {
    "scrolled": false
   },
   "source": [
    "_**expected result**: display end datetime of the collection._"
   ]
  },
  {
   "cell_type": "code",
   "execution_count": null,
   "id": "8e54f235",
   "metadata": {},
   "outputs": [],
   "source": [
    "collection.end_datetime()"
   ]
  },
  {
   "cell_type": "markdown",
   "id": "f6066c65",
   "metadata": {},
   "source": [
    "_**expected result**: json of the collection response describing the collection._"
   ]
  },
  {
   "cell_type": "code",
   "execution_count": null,
   "id": "3a9b24bf",
   "metadata": {
    "scrolled": false
   },
   "outputs": [],
   "source": [
    "collection.json"
   ]
  },
  {
   "cell_type": "markdown",
   "id": "de595421",
   "metadata": {},
   "source": [
    "## 2. Data Retrieve"
   ]
  },
  {
   "cell_type": "markdown",
   "id": "df5f2a6e",
   "metadata": {},
   "source": [
    " **Objective**: verify the capabilities of the client to retrieve a data\n",
    "\n",
    "\n",
    "The retrieve can be done using an high level function that perform the submission, the monitoring and the download:\n",
    "- _client.retrieve_ see **2.1**\n",
    "\n",
    "or it can be done using the low level api (see **3** Data Retrieve: advanced usage): \n",
    "- client.sumbit for submitting the request, see **3.1**\n",
    "- remote.status for monitoring the request, see **3.2**\n",
    "- remote.download for downloading the result, see **3.3**\n"
   ]
  },
  {
   "cell_type": "markdown",
   "id": "997406bb",
   "metadata": {},
   "source": [
    "### 2.1  Retrieve: small data request"
   ]
  },
  {
   "cell_type": "markdown",
   "id": "287e2a49",
   "metadata": {},
   "source": [
    "The **retrieve** function is blocking: \n",
    "- submits the request\n",
    "- waits until the requests is completed\n",
    "- downloads the data\n"
   ]
  },
  {
   "cell_type": "markdown",
   "id": "8fd1fd9b",
   "metadata": {},
   "source": [
    "_**expected result**: the client subit the requests and when the process is completed, the client downloads file._"
   ]
  },
  {
   "cell_type": "code",
   "execution_count": null,
   "id": "68886e62",
   "metadata": {
    "scrolled": false
   },
   "outputs": [],
   "source": [
    "output_path = client.retrieve(\n",
    "    collection_id=\"reanalysis-era5-pressure-levels\",\n",
    "    target=\"test01.grib\", # optional\n",
    "    product_type=\"reanalysis\", \n",
    "    format=\"grib\", \n",
    "    variable=\"temperature\", \n",
    "    pressure_level=\"1\", \n",
    "    year=[\"1971\"], \n",
    "    month=\"01\", \n",
    "    day=\"25\", \n",
    "    time=\"06:00\"\n",
    ")\n",
    "\n",
    "output_path"
   ]
  },
  {
   "cell_type": "code",
   "execution_count": null,
   "id": "b82c51fb",
   "metadata": {},
   "outputs": [],
   "source": [
    "ls test01.grib"
   ]
  },
  {
   "cell_type": "markdown",
   "id": "80568436",
   "metadata": {},
   "source": [
    "_**expected output**: data compatible with the requests:_\n",
    "- _one variable: temperature (t)_\n",
    "- _two dimensions latitude and longitude_\n",
    "- _time coordinate has lenght 1_"
   ]
  },
  {
   "cell_type": "code",
   "execution_count": null,
   "id": "7d2a6226",
   "metadata": {},
   "outputs": [],
   "source": [
    "ds = xr.open_dataset(output_path)\n",
    "ds"
   ]
  },
  {
   "cell_type": "markdown",
   "id": "f3340f0c",
   "metadata": {},
   "source": [
    "## 3 Data Retrieve: adavanced API\n",
    "\n",
    "**Objective:** Verify the capability of the client to retreive the data using the advanced API "
   ]
  },
  {
   "cell_type": "markdown",
   "id": "3feb2b1a",
   "metadata": {},
   "source": [
    "### 3.1 Request Submission: big data request"
   ]
  },
  {
   "cell_type": "markdown",
   "id": "fe966a7a",
   "metadata": {},
   "source": [
    "**client.submit** function is async and returns a remote object that allows the monitoring of the request status\n",
    "\n",
    "_**expected result**: the client subit the requests and return a remote object that allows the process monitoring._"
   ]
  },
  {
   "cell_type": "code",
   "execution_count": null,
   "id": "90d38f81",
   "metadata": {},
   "outputs": [],
   "source": [
    "collection = client.collection(\"reanalysis-era5-pressure-levels\")\n",
    "remote = collection.submit( \n",
    "    target=\"test02.grib\", # optional\n",
    "    product_type=\"reanalysis\", \n",
    "    format=\"grib\", \n",
    "    variable=\"temperature\", \n",
    "    pressure_level=\"1\", \n",
    "    year=[\"1971\"], \n",
    "    month=['01', '02', '03', '04', '05', '06', '07', '08', '09', '10', '11', '12'],\n",
    "    day=[\n",
    "        '01', '02', '03', '04', '05', '06', '07', '08', '09', '10', '11', '12',\n",
    "        '13', '14', '15', '16', '17', '18', '19', '20', '21', '22', '23', '24',\n",
    "        '25', '26', '27', '28', '29', '30', '31',\n",
    "    ],\n",
    "    time=\"06:00\"\n",
    ")\n",
    "remote.request_uid"
   ]
  },
  {
   "cell_type": "markdown",
   "id": "8a4504f3",
   "metadata": {},
   "source": [
    "### 2.3 Request Monitoring"
   ]
  },
  {
   "cell_type": "markdown",
   "id": "623b39e9",
   "metadata": {},
   "source": [
    "**remote.status** allows to monitor the process status\n",
    "\n",
    "_**expected result**: return the updated stuatus of the requests: failed, successful, running_"
   ]
  },
  {
   "cell_type": "code",
   "execution_count": null,
   "id": "d9f750b6",
   "metadata": {},
   "outputs": [],
   "source": [
    "remote.status"
   ]
  },
  {
   "cell_type": "markdown",
   "id": "c198e314",
   "metadata": {},
   "source": [
    "**client.get_requests** returns the list of requests submitted \n",
    "\n",
    "_**expected result**: ids of the submitted requests._"
   ]
  },
  {
   "cell_type": "code",
   "execution_count": null,
   "id": "92396d01",
   "metadata": {
    "scrolled": false
   },
   "outputs": [],
   "source": [
    "requests = client.get_requests()\n",
    "requests.job_ids()"
   ]
  },
  {
   "cell_type": "markdown",
   "id": "01f7f962",
   "metadata": {},
   "source": [
    "_**expected result**: the remote.request_uid is in the list of the submitted requests._"
   ]
  },
  {
   "cell_type": "code",
   "execution_count": null,
   "id": "14e3617a",
   "metadata": {},
   "outputs": [],
   "source": [
    "remote.request_uid in requests.job_ids()"
   ]
  },
  {
   "cell_type": "markdown",
   "id": "a84a0a76",
   "metadata": {},
   "source": [
    "it is possibile to recreate the remote object starting from the requests id\n",
    "\n",
    "_**expected result**: new remote that allow to monitor the request._"
   ]
  },
  {
   "cell_type": "code",
   "execution_count": null,
   "id": "a6902ec2",
   "metadata": {},
   "outputs": [],
   "source": [
    "status_info = client.get_request(remote.request_uid)\n",
    "new_remote = status_info.make_remote()\n",
    "new_remote"
   ]
  },
  {
   "cell_type": "markdown",
   "id": "fbf5b638",
   "metadata": {},
   "source": [
    "_**expected result**: new remote id is equal to the orginal id._"
   ]
  },
  {
   "cell_type": "code",
   "execution_count": null,
   "id": "c56411d2",
   "metadata": {},
   "outputs": [],
   "source": [
    "new_remote.request_uid == remote.request_uid"
   ]
  },
  {
   "cell_type": "markdown",
   "id": "d02e6af2",
   "metadata": {},
   "source": [
    "### 2.4 Data download"
   ]
  },
  {
   "cell_type": "markdown",
   "id": "dd2cef08",
   "metadata": {},
   "source": [
    "**download** function it blocking: \n",
    "- waits until the requests is completed\n",
    "- downloads the data"
   ]
  },
  {
   "cell_type": "code",
   "execution_count": null,
   "id": "e0e04fc0",
   "metadata": {},
   "outputs": [],
   "source": [
    "output_path = remote.download(\"test02.grib\")\n",
    "output_path"
   ]
  },
  {
   "cell_type": "markdown",
   "id": "a56e6b29",
   "metadata": {},
   "source": [
    "_**expected output**: data compatible with the requests:_\n",
    "- _one variable: temperature (t)_\n",
    "- _three dimensions time (365), latitude (721) and longitude (1440)_"
   ]
  },
  {
   "cell_type": "code",
   "execution_count": null,
   "id": "0f8e7c90",
   "metadata": {},
   "outputs": [],
   "source": [
    "ds = xr.open_dataset(output_path)\n",
    "ds"
   ]
  },
  {
   "cell_type": "markdown",
   "id": "d7be5a18",
   "metadata": {},
   "source": [
    "## 4. Error Handling"
   ]
  },
  {
   "cell_type": "markdown",
   "id": "8c171814",
   "metadata": {},
   "source": [
    "**Objectives**: Verify how error are handled: error messages and codes"
   ]
  },
  {
   "cell_type": "markdown",
   "id": "ede9fe40",
   "metadata": {},
   "source": [
    "### 4.1 Wrong URL"
   ]
  },
  {
   "cell_type": "markdown",
   "id": "9438eb37",
   "metadata": {},
   "source": [
    "_**expected output**: ConnectionError: HTTPConnectionPool"
   ]
  },
  {
   "cell_type": "code",
   "execution_count": null,
   "id": "a8698964",
   "metadata": {
    "scrolled": false
   },
   "outputs": [],
   "source": [
    "client = cads_api_client.ApiClient(\"http://wrong_url/api\")\n",
    "client.collections()"
   ]
  },
  {
   "cell_type": "markdown",
   "id": "d531ccc7",
   "metadata": {},
   "source": [
    "### 4.2 Missing collection"
   ]
  },
  {
   "cell_type": "markdown",
   "id": "7ef73bcf",
   "metadata": {},
   "source": [
    "_**expected output**: 404 Client Error: Not Found for url_"
   ]
  },
  {
   "cell_type": "code",
   "execution_count": null,
   "id": "86fbd668",
   "metadata": {},
   "outputs": [],
   "source": [
    "client = cads_api_client.ApiClient(api_url)\n",
    "client.collection(\"missing_collection\")"
   ]
  },
  {
   "cell_type": "markdown",
   "id": "5959e563",
   "metadata": {},
   "source": [
    "### 4.3 Unknown job"
   ]
  },
  {
   "cell_type": "markdown",
   "id": "8fa6c81e",
   "metadata": {},
   "source": [
    "_**expected output**: 404 Client Error: Not Found for url_"
   ]
  },
  {
   "cell_type": "code",
   "execution_count": null,
   "id": "04369560",
   "metadata": {},
   "outputs": [],
   "source": [
    "status_info = client.get_request(\"ffffffff-4455-6677-8899-aabbccddeeff\")"
   ]
  },
  {
   "cell_type": "markdown",
   "id": "7f573b16",
   "metadata": {},
   "source": [
    "### 4.4 Wrong request"
   ]
  },
  {
   "cell_type": "markdown",
   "id": "9e5eebdd",
   "metadata": {},
   "source": [
    "**async request using collection.submit**\n",
    "\n",
    "_**expected output**: _collection.submit doesn't raise any Error_\n"
   ]
  },
  {
   "cell_type": "code",
   "execution_count": null,
   "id": "b9032ab3",
   "metadata": {},
   "outputs": [],
   "source": [
    "client = cads_api_client.ApiClient(api_url)\n",
    "collection = client.collection(\"reanalysis-era5-pressure-levels\")\n",
    "remote = collection.submit( \n",
    "    target=\"output.grib\", # optional\n",
    "    product_type=\"reanalysis\", \n",
    "    format=\"grib\", \n",
    "    variable=\"temperature\", \n",
    "    pressure_level=\"1\", \n",
    "    year=[\"2222\"], \n",
    "    month=\"01\", \n",
    "    day=\"25\", \n",
    "    time=\"06:00\"\n",
    ")"
   ]
  },
  {
   "cell_type": "markdown",
   "id": "96a7c347",
   "metadata": {},
   "source": [
    "_**expected output**: remote.wait_on_result raises a ProcessingFailedError and dispalys the information of the json result (see next cells) in the format: {type} - {title} - {detail}. Where:_\n",
    "-  _type is RuntimeError_ \n",
    "- _title is job failed_\n",
    "- _detail contains the error traceback_"
   ]
  },
  {
   "cell_type": "code",
   "execution_count": null,
   "id": "5755cbef",
   "metadata": {},
   "outputs": [],
   "source": [
    "remote.wait_on_result()"
   ]
  },
  {
   "cell_type": "markdown",
   "id": "1f722e04",
   "metadata": {},
   "source": [
    "_**expected output**: result status code is 400_"
   ]
  },
  {
   "cell_type": "code",
   "execution_count": null,
   "id": "0acbc31d",
   "metadata": {},
   "outputs": [],
   "source": [
    "results = remote.make_results()"
   ]
  },
  {
   "cell_type": "code",
   "execution_count": null,
   "id": "0065164b",
   "metadata": {},
   "outputs": [],
   "source": [
    "results.status_code"
   ]
  },
  {
   "cell_type": "markdown",
   "id": "d4702b46",
   "metadata": {},
   "source": [
    "_**expected output**:_\n",
    "- _result.json describes the error in the fields: \"type\", \"title\" and \"detail\"_\n",
    "- _\"detail\" contains the error traceback_"
   ]
  },
  {
   "cell_type": "code",
   "execution_count": null,
   "id": "f3d4975d",
   "metadata": {},
   "outputs": [],
   "source": [
    "results.json"
   ]
  },
  {
   "cell_type": "markdown",
   "id": "1280d038",
   "metadata": {},
   "source": [
    "**sync request using collection.retrieve**\n",
    "\n",
    "_**expected output**: client.retrieve raises a ProcessingFailedError and dispalys the information of the json result in the format: {type} - {title} - {detail}. Where:_\n",
    "-  _type is RuntimeError_ \n",
    "- _title is job failed_\n",
    "- _detail contains the error traceback_\n"
   ]
  },
  {
   "cell_type": "code",
   "execution_count": null,
   "id": "581d4c0b",
   "metadata": {},
   "outputs": [],
   "source": [
    "remote = client.retrieve( \n",
    "    \"reanalysis-era5-pressure-levels\",\n",
    "    target=\"output.grib\", # optional\n",
    "    product_type=\"reanalysis\", \n",
    "    format=\"grib\", \n",
    "    variable=\"temperature\", \n",
    "    pressure_level=\"1\", \n",
    "    year=[\"2222\"], \n",
    "    month=\"01\", \n",
    "    day=\"25\", \n",
    "    time=\"06:00\"\n",
    ")"
   ]
  }
 ],
 "metadata": {
  "kernelspec": {
   "display_name": "Python 3 (ipykernel)",
   "language": "python",
   "name": "python3"
  },
  "language_info": {
   "codemirror_mode": {
    "name": "ipython",
    "version": 3
   },
   "file_extension": ".py",
   "mimetype": "text/x-python",
   "name": "python",
   "nbconvert_exporter": "python",
   "pygments_lexer": "ipython3",
   "version": "3.10.4"
  }
 },
 "nbformat": 4,
 "nbformat_minor": 5
}
