{
 "cells": [
  {
   "cell_type": "markdown",
   "id": "c7b5366a",
   "metadata": {},
   "source": [
    "# CADS API Python client Tests"
   ]
  },
  {
   "cell_type": "code",
   "execution_count": null,
   "id": "710ef2fb",
   "metadata": {},
   "outputs": [],
   "source": [
    "import cads_api_client"
   ]
  },
  {
   "cell_type": "code",
   "execution_count": null,
   "id": "78528026",
   "metadata": {},
   "outputs": [],
   "source": [
    "api_url = \"http://localhost:8080\""
   ]
  },
  {
   "cell_type": "markdown",
   "id": "622e6c14",
   "metadata": {},
   "source": [
    "## Client\n",
    "\n",
    "The client expose the APIs for both \n",
    "- catalogue exploration \n",
    "- data retrieve"
   ]
  },
  {
   "cell_type": "code",
   "execution_count": null,
   "id": "5282a5d0",
   "metadata": {},
   "outputs": [],
   "source": [
    "client = cads_api_client.ApiClient(f\"{api_url}/api\")\n",
    "client"
   ]
  },
  {
   "cell_type": "code",
   "execution_count": null,
   "id": "259f85c6",
   "metadata": {},
   "outputs": [],
   "source": [
    "client.url"
   ]
  },
  {
   "cell_type": "markdown",
   "id": "9003f8fd",
   "metadata": {},
   "source": [
    "## Catalogue Exploration\n",
    "\n",
    "The client "
   ]
  },
  {
   "cell_type": "code",
   "execution_count": null,
   "id": "91edb11f",
   "metadata": {},
   "outputs": [],
   "source": [
    "collections = client.collections()\n",
    "collections.response.url"
   ]
  },
  {
   "cell_type": "code",
   "execution_count": null,
   "id": "db2b0069",
   "metadata": {},
   "outputs": [],
   "source": [
    "# access to request response\n",
    "collections.response"
   ]
  },
  {
   "cell_type": "code",
   "execution_count": null,
   "id": "e474e910",
   "metadata": {},
   "outputs": [],
   "source": [
    "# list of available collections\n",
    "collections.collection_ids()"
   ]
  },
  {
   "cell_type": "code",
   "execution_count": null,
   "id": "0fdeb32d",
   "metadata": {},
   "outputs": [],
   "source": [
    "# select a collection\n",
    "collection = client.collection(\"reanalysis-era5-pressure-levels\")\n",
    "collection"
   ]
  },
  {
   "cell_type": "code",
   "execution_count": null,
   "id": "4e538adf",
   "metadata": {},
   "outputs": [],
   "source": [
    "# access to request response\n",
    "collection.response"
   ]
  },
  {
   "cell_type": "markdown",
   "id": "0fca7a47",
   "metadata": {
    "scrolled": false
   },
   "source": [
    "**explore collection information**"
   ]
  },
  {
   "cell_type": "code",
   "execution_count": null,
   "id": "a0a23b78",
   "metadata": {},
   "outputs": [],
   "source": [
    "collection.end_datetime()"
   ]
  },
  {
   "cell_type": "code",
   "execution_count": null,
   "id": "1e84d96b",
   "metadata": {
    "scrolled": false
   },
   "outputs": [],
   "source": [
    "collection.json[\"id\"]"
   ]
  },
  {
   "cell_type": "code",
   "execution_count": null,
   "id": "3a9b24bf",
   "metadata": {},
   "outputs": [],
   "source": [
    "collection.json[\"description\"]"
   ]
  },
  {
   "cell_type": "markdown",
   "id": "de595421",
   "metadata": {},
   "source": [
    "## Data Retrieve"
   ]
  },
  {
   "cell_type": "markdown",
   "id": "37885bca",
   "metadata": {},
   "source": [
    "### high level API: retrieve using client API"
   ]
  },
  {
   "cell_type": "markdown",
   "id": "5368196a",
   "metadata": {},
   "source": [
    "the **retrieve** function is blocking: \n",
    "- submits the request\n",
    "- waits until the requests is completed\n",
    "- downloads the data"
   ]
  },
  {
   "cell_type": "code",
   "execution_count": null,
   "id": "68886e62",
   "metadata": {
    "scrolled": false
   },
   "outputs": [],
   "source": [
    "output_path = client.retrieve(\n",
    "    collection_id=\"reanalysis-era5-pressure-levels\",\n",
    "    target=\"output.grib\", # optional\n",
    "    product_type=\"reanalysis\", \n",
    "    format=\"grib\", \n",
    "    variable=\"temperature\", \n",
    "    pressure_level=\"1\", \n",
    "    year=[\"1971\"], \n",
    "    month=\"01\", \n",
    "    day=\"25\", \n",
    "    time=\"06:00\"\n",
    ")\n",
    "\n",
    "output_path"
   ]
  },
  {
   "cell_type": "code",
   "execution_count": null,
   "id": "787ffc65",
   "metadata": {},
   "outputs": [],
   "source": [
    "ls output.grib"
   ]
  },
  {
   "cell_type": "markdown",
   "id": "f991990e",
   "metadata": {},
   "source": [
    "**list of all submitted requests**"
   ]
  },
  {
   "cell_type": "code",
   "execution_count": null,
   "id": "e8a35790",
   "metadata": {
    "scrolled": false
   },
   "outputs": [],
   "source": [
    "requests = client.get_requests()\n",
    "requests.job_ids()"
   ]
  },
  {
   "cell_type": "code",
   "execution_count": null,
   "id": "c07451d4",
   "metadata": {},
   "outputs": [],
   "source": [
    "requests.response.url"
   ]
  },
  {
   "cell_type": "markdown",
   "id": "d647a7e4",
   "metadata": {},
   "source": [
    "TODO: add access to a single job"
   ]
  },
  {
   "cell_type": "markdown",
   "id": "3ca166f5",
   "metadata": {},
   "source": [
    "### retrieve using collection API"
   ]
  },
  {
   "cell_type": "markdown",
   "id": "4bfc206b",
   "metadata": {},
   "source": [
    "**request submission**"
   ]
  },
  {
   "cell_type": "code",
   "execution_count": null,
   "id": "03956048",
   "metadata": {},
   "outputs": [],
   "source": [
    "collection = client.collection(\"reanalysis-era5-pressure-levels\")\n",
    "remote = collection.submit( \n",
    "    target=\"output.grib\", # optional\n",
    "    product_type=\"reanalysis\", \n",
    "    format=\"grib\", \n",
    "    variable=\"temperature\", \n",
    "    pressure_level=\"1\", \n",
    "    year=[\"1971\"], \n",
    "    month=\"01\", \n",
    "    day=\"25\", \n",
    "    time=\"06:00\"\n",
    ")"
   ]
  },
  {
   "cell_type": "markdown",
   "id": "81f9afa9",
   "metadata": {},
   "source": [
    "**request monitoring**"
   ]
  },
  {
   "cell_type": "code",
   "execution_count": null,
   "id": "12118ccf",
   "metadata": {},
   "outputs": [],
   "source": [
    "remote.status"
   ]
  },
  {
   "cell_type": "markdown",
   "id": "62a02a78",
   "metadata": {},
   "source": [
    "**download** function it blocking: \n",
    "- waits until the requests is completed\n",
    "- downloads the data"
   ]
  },
  {
   "cell_type": "code",
   "execution_count": null,
   "id": "4e37257b",
   "metadata": {},
   "outputs": [],
   "source": [
    "remote.download(\"output.grib\")"
   ]
  },
  {
   "cell_type": "markdown",
   "id": "c6b67f02",
   "metadata": {},
   "source": [
    "## Retrieve advanced usage (TBD)"
   ]
  },
  {
   "cell_type": "markdown",
   "id": "0a7ed396",
   "metadata": {},
   "source": [
    "### explore processes"
   ]
  },
  {
   "cell_type": "code",
   "execution_count": null,
   "id": "5f93635a",
   "metadata": {},
   "outputs": [],
   "source": [
    "processing = client.retrieve_api\n",
    "processing"
   ]
  },
  {
   "cell_type": "markdown",
   "id": "07dd2f53",
   "metadata": {},
   "source": [
    "**list of available processes**"
   ]
  },
  {
   "cell_type": "code",
   "execution_count": null,
   "id": "26cd7c16",
   "metadata": {
    "scrolled": false
   },
   "outputs": [],
   "source": [
    "processes = processing.processes()\n",
    "processes.process_ids()"
   ]
  },
  {
   "cell_type": "markdown",
   "id": "bfbf1ed3",
   "metadata": {},
   "source": [
    "**select a process**"
   ]
  },
  {
   "cell_type": "code",
   "execution_count": null,
   "id": "f2961623",
   "metadata": {},
   "outputs": [],
   "source": [
    "process = processing.process(\"reanalysis-era5-pressure-levels\")\n",
    "process"
   ]
  },
  {
   "cell_type": "code",
   "execution_count": null,
   "id": "74007cf3",
   "metadata": {
    "scrolled": false
   },
   "outputs": [],
   "source": [
    "process.json"
   ]
  },
  {
   "cell_type": "markdown",
   "id": "3b261cd1",
   "metadata": {},
   "source": [
    "### submitting a process"
   ]
  },
  {
   "cell_type": "code",
   "execution_count": null,
   "id": "73ae24c5",
   "metadata": {},
   "outputs": [],
   "source": [
    "status_info = process.execute(\n",
    "    inputs=dict(\n",
    "        product_type=\"reanalysis\", \n",
    "        format=\"grib\", \n",
    "        variable=\"temperature\", \n",
    "        pressure_level=\"1\", \n",
    "        year=[\"1971\"], \n",
    "        month=\"01\", \n",
    "        day=\"25\", \n",
    "        time=\"06:00\"\n",
    "    )\n",
    ")\n",
    "status_info"
   ]
  },
  {
   "cell_type": "markdown",
   "id": "1f09cd9a",
   "metadata": {},
   "source": [
    "### monitoring"
   ]
  },
  {
   "cell_type": "code",
   "execution_count": null,
   "id": "0a6c5599",
   "metadata": {},
   "outputs": [],
   "source": [
    "remote = statusinfo.make_remote()"
   ]
  },
  {
   "cell_type": "code",
   "execution_count": null,
   "id": "dd2bac74",
   "metadata": {
    "scrolled": false
   },
   "outputs": [],
   "source": [
    "remote.status"
   ]
  },
  {
   "cell_type": "markdown",
   "id": "a4ee5a05",
   "metadata": {},
   "source": [
    "**Re-create a remote from the request id**"
   ]
  },
  {
   "cell_type": "code",
   "execution_count": null,
   "id": "34a773e0",
   "metadata": {},
   "outputs": [],
   "source": [
    "request_uid = remote.request_uid\n",
    "request_uid"
   ]
  },
  {
   "cell_type": "code",
   "execution_count": null,
   "id": "5498a5e0",
   "metadata": {},
   "outputs": [],
   "source": [
    "processing.make_remote(request_uid)"
   ]
  },
  {
   "cell_type": "markdown",
   "id": "490a35f9",
   "metadata": {},
   "source": [
    "### download result"
   ]
  },
  {
   "cell_type": "code",
   "execution_count": null,
   "id": "1992ddc1",
   "metadata": {},
   "outputs": [],
   "source": [
    "result = remote.build_result()\n",
    "result"
   ]
  },
  {
   "cell_type": "code",
   "execution_count": null,
   "id": "bc9632d4",
   "metadata": {},
   "outputs": [],
   "source": [
    "result.json"
   ]
  },
  {
   "cell_type": "code",
   "execution_count": null,
   "id": "20758473",
   "metadata": {},
   "outputs": [],
   "source": [
    "result.download(\"output.grib\")"
   ]
  },
  {
   "cell_type": "markdown",
   "id": "5f0fee60",
   "metadata": {},
   "source": [
    "### ERROR MANAGMENT"
   ]
  },
  {
   "cell_type": "markdown",
   "id": "ede9fe40",
   "metadata": {},
   "source": [
    "**WRONG URL**"
   ]
  },
  {
   "cell_type": "code",
   "execution_count": null,
   "id": "a8698964",
   "metadata": {},
   "outputs": [],
   "source": [
    "client = cads_api_client.ApiClient((f\"{api_url}/not_found\")\n",
    "client.collections()"
   ]
  },
  {
   "cell_type": "markdown",
   "id": "d531ccc7",
   "metadata": {},
   "source": [
    "**MISSING COLLECTION**"
   ]
  },
  {
   "cell_type": "code",
   "execution_count": null,
   "id": "86fbd668",
   "metadata": {},
   "outputs": [],
   "source": [
    "client = cads_api_client.ApiClient(f\"{api_url}/api\")\n",
    "client.collection(\"missing_collection\")"
   ]
  },
  {
   "cell_type": "markdown",
   "id": "52e35efa",
   "metadata": {},
   "source": [
    "**WRONG REQUEST**"
   ]
  },
  {
   "cell_type": "code",
   "execution_count": null,
   "id": "1d7b7c85",
   "metadata": {},
   "outputs": [],
   "source": [
    "client = cads_api_client.ApiClient(f\"{api_url}/api\")\n",
    "collection = client.collection(\"reanalysis-era5-pressure-levels\")\n",
    "remote = collection.submit( \n",
    "    target=\"output.grib\", # optional\n",
    "    product_type=\"reanalysis\", \n",
    "    format=\"grib\", \n",
    "    variable=\"temperature\", \n",
    "    pressure_level=\"1\", \n",
    "    year=[\"2222\"], \n",
    "    month=\"01\", \n",
    "    day=\"25\", \n",
    "    time=\"06:00\"\n",
    ")"
   ]
  },
  {
   "cell_type": "code",
   "execution_count": null,
   "id": "163f737c",
   "metadata": {
    "scrolled": false
   },
   "outputs": [],
   "source": [
    "remote.status"
   ]
  },
  {
   "cell_type": "code",
   "execution_count": null,
   "id": "5b0759b3",
   "metadata": {},
   "outputs": [],
   "source": [
    "remote = collection.retrieve( \n",
    "    target=\"output.grib\", # optional\n",
    "    product_type=\"reanalysis\", \n",
    "    format=\"grib\", \n",
    "    variable=\"temperature\", \n",
    "    pressure_level=\"1\", \n",
    "    year=[\"2222\"], \n",
    "    month=\"01\", \n",
    "    day=\"25\", \n",
    "    time=\"06:00\"\n",
    ")"
   ]
  },
  {
   "cell_type": "code",
   "execution_count": null,
   "id": "0f95a36f",
   "metadata": {},
   "outputs": [],
   "source": []
  }
 ],
 "metadata": {
  "kernelspec": {
   "display_name": "Python 3 (ipykernel)",
   "language": "python",
   "name": "python3"
  },
  "language_info": {
   "codemirror_mode": {
    "name": "ipython",
    "version": 3
   },
   "file_extension": ".py",
   "mimetype": "text/x-python",
   "name": "python",
   "nbconvert_exporter": "python",
   "pygments_lexer": "ipython3",
   "version": "3.10.4"
  }
 },
 "nbformat": 4,
 "nbformat_minor": 5
}
