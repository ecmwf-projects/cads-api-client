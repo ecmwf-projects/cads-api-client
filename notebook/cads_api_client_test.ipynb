{
 "cells": [
  {
   "cell_type": "markdown",
   "id": "c7b5366a",
   "metadata": {},
   "source": [
    "# CADS API Python client Tests"
   ]
  },
  {
   "cell_type": "code",
   "execution_count": 1,
   "id": "710ef2fb",
   "metadata": {},
   "outputs": [],
   "source": [
    "import cads_api_client"
   ]
  },
  {
   "cell_type": "markdown",
   "id": "622e6c14",
   "metadata": {},
   "source": [
    "## Client\n",
    "\n",
    "The client expose the APIs for both catalogue exploration and data retrieve"
   ]
  },
  {
   "cell_type": "code",
   "execution_count": 2,
   "id": "5282a5d0",
   "metadata": {},
   "outputs": [
    {
     "data": {
      "text/plain": [
       "ApiClient(url='http://localhost:8080/api')"
      ]
     },
     "execution_count": 2,
     "metadata": {},
     "output_type": "execute_result"
    }
   ],
   "source": [
    "client = cads_api_client.ApiClient(\"http://localhost:8080/api\")\n",
    "client"
   ]
  },
  {
   "cell_type": "code",
   "execution_count": 3,
   "id": "259f85c6",
   "metadata": {},
   "outputs": [
    {
     "data": {
      "text/plain": [
       "'http://localhost:8080/api'"
      ]
     },
     "execution_count": 3,
     "metadata": {},
     "output_type": "execute_result"
    }
   ],
   "source": [
    "client.url"
   ]
  },
  {
   "cell_type": "markdown",
   "id": "9003f8fd",
   "metadata": {},
   "source": [
    "## Catalogue Exploration"
   ]
  },
  {
   "cell_type": "code",
   "execution_count": 4,
   "id": "91edb11f",
   "metadata": {},
   "outputs": [
    {
     "data": {
      "text/plain": [
       "'http://localhost:8080/api/catalogue/v1/collections'"
      ]
     },
     "execution_count": 4,
     "metadata": {},
     "output_type": "execute_result"
    }
   ],
   "source": [
    "collections = client.collections()\n",
    "collections.response.url"
   ]
  },
  {
   "cell_type": "code",
   "execution_count": 5,
   "id": "db2b0069",
   "metadata": {},
   "outputs": [
    {
     "data": {
      "text/plain": [
       "<Response [200]>"
      ]
     },
     "execution_count": 5,
     "metadata": {},
     "output_type": "execute_result"
    }
   ],
   "source": [
    "# access to request response\n",
    "collections.response"
   ]
  },
  {
   "cell_type": "code",
   "execution_count": 6,
   "id": "e474e910",
   "metadata": {},
   "outputs": [
    {
     "data": {
      "text/plain": [
       "['derived-near-surface-meteorological-variables',\n",
       " 'reanalysis-era5-land-monthly-means',\n",
       " 'reanalysis-era5-pressure-levels',\n",
       " 'reanalysis-era5-land',\n",
       " 'reanalysis-era5-single-levels']"
      ]
     },
     "execution_count": 6,
     "metadata": {},
     "output_type": "execute_result"
    }
   ],
   "source": [
    "# list of available collections\n",
    "collections.collection_ids()"
   ]
  },
  {
   "cell_type": "code",
   "execution_count": 7,
   "id": "0fdeb32d",
   "metadata": {},
   "outputs": [
    {
     "data": {
      "text/plain": [
       "Collection(response=<Response [200]>)"
      ]
     },
     "execution_count": 7,
     "metadata": {},
     "output_type": "execute_result"
    }
   ],
   "source": [
    "# select a collection\n",
    "collection = client.collection(\"reanalysis-era5-pressure-levels\")\n",
    "collection"
   ]
  },
  {
   "cell_type": "code",
   "execution_count": 8,
   "id": "4e538adf",
   "metadata": {},
   "outputs": [
    {
     "data": {
      "text/plain": [
       "<Response [200]>"
      ]
     },
     "execution_count": 8,
     "metadata": {},
     "output_type": "execute_result"
    }
   ],
   "source": [
    "# access to request response\n",
    "collection.response"
   ]
  },
  {
   "cell_type": "markdown",
   "id": "0fca7a47",
   "metadata": {
    "scrolled": false
   },
   "source": [
    "**explore collection information**"
   ]
  },
  {
   "cell_type": "code",
   "execution_count": 9,
   "id": "1e84d96b",
   "metadata": {
    "scrolled": false
   },
   "outputs": [
    {
     "data": {
      "text/plain": [
       "'reanalysis-era5-pressure-levels'"
      ]
     },
     "execution_count": 9,
     "metadata": {},
     "output_type": "execute_result"
    }
   ],
   "source": [
    "collection.json[\"id\"]"
   ]
  },
  {
   "cell_type": "code",
   "execution_count": 10,
   "id": "849f3906",
   "metadata": {},
   "outputs": [
    {
     "data": {
      "text/plain": [
       "datetime.datetime(2022, 7, 20, 23, 0)"
      ]
     },
     "execution_count": 10,
     "metadata": {},
     "output_type": "execute_result"
    }
   ],
   "source": [
    "collection.end_datetime()"
   ]
  },
  {
   "cell_type": "code",
   "execution_count": 11,
   "id": "3a9b24bf",
   "metadata": {},
   "outputs": [
    {
     "data": {
      "text/plain": [
       "'**ERA5** is the fifth generation ECMWF reanalysis for the global climate and weather for the past 4 to 7 decades.\\nCurrently data is available from 1950, with Climate Data Store entries for 1950-1978 (preliminary back extension) and from 1959 onwards (final release plus timely updates, this page).\\nERA5 replaces the ERA-Interim reanalysis.\\n\\nReanalysis combines model data with observations from across the world into a globally complete and consistent dataset using the laws of physics. This principle, called data assimilation, is based on the method used by numerical weather prediction centres, where every so many hours (12 hours at ECMWF) a previous forecast is combined with newly available observations in an optimal way to produce a new best estimate of the state of the atmosphere, called analysis, from which an updated, improved forecast is issued. Reanalysis works in the same way, but at reduced resolution to allow for the provision of a dataset spanning back several decades. Reanalysis does not have the constraint of issuing timely forecasts, so there is more time to collect observations, and when going further back in time, to allow for the ingestion of improved versions of the original observations, which all benefit the quality of the reanalysis product.\\n\\nERA5 provides hourly estimates for a large number of atmospheric, ocean-wave and land-surface quantities.\\nAn uncertainty estimate is sampled by an underlying 10-member ensemble\\nat three-hourly intervals. Ensemble mean and spread have been pre-computed for convenience.\\nSuch uncertainty estimates are closely related to the information content of the available observing system which\\nhas evolved considerably over time. They also indicate flow-dependent sensitive areas.\\nTo facilitate many climate applications, monthly-mean averages have been pre-calculated too,\\nthough monthly means are not available for the ensemble mean and spread.\\n\\nERA5 is updated daily with a latency of about 5 days. In case that serious flaws are detected in this early release (called ERA5T), this data could be different from the final release 2 to 3 months later. In case that this occurs users are notified.\\n\\nThe data set presented here is a regridded subset of the full ERA5 data set on native resolution.\\nIt is online on spinning disk, which should ensure fast and easy access.\\nIt should satisfy the requirements for most common applications.\\n\\nAn overview of all ERA5 datasets can be found in [this article](https://confluence.ecmwf.int/display/CKB/The+family+of+ERA5+datasets \"The family of ERA5 datasets\").\\nInformation on access to ERA5 data on native resolution is provided in [these guidelines](https://confluence.ecmwf.int/display/CKB/How+to+download+ERA5 \"How to download ERA5\").\\n\\nData has been regridded to a regular lat-lon grid of 0.25 degrees for the reanalysis and 0.5 degrees for\\nthe uncertainty estimate (0.5 and 1 degree respectively for ocean waves).\\nThere are four main sub sets: hourly and monthly products, both on pressure levels (upper air fields) and single levels (atmospheric, ocean-wave and land surface quantities).\\n\\nThe present entry is \"ERA5 hourly data on pressure levels from 1959 to present\".\\n'"
      ]
     },
     "execution_count": 11,
     "metadata": {},
     "output_type": "execute_result"
    }
   ],
   "source": [
    "collection.json[\"description\"]"
   ]
  },
  {
   "cell_type": "markdown",
   "id": "de595421",
   "metadata": {},
   "source": [
    "## Data Retrieve"
   ]
  },
  {
   "cell_type": "markdown",
   "id": "d0fe8c05",
   "metadata": {},
   "source": [
    "### high level API: retrieve using client API"
   ]
  },
  {
   "cell_type": "markdown",
   "id": "7deca278",
   "metadata": {},
   "source": [
    "the **retrieve** function is blocking: \n",
    "- submits the request\n",
    "- waits until the requests is completed\n",
    "- downloads the data"
   ]
  },
  {
   "cell_type": "code",
   "execution_count": 12,
   "id": "68886e62",
   "metadata": {
    "scrolled": false
   },
   "outputs": [
    {
     "data": {
      "application/vnd.jupyter.widget-view+json": {
       "model_id": "",
       "version_major": 2,
       "version_minor": 0
      },
      "text/plain": [
       "33176215601857374894914268157826669692.grib:   0%|          | 0.00/1.98M [00:00<?, ?B/s]"
      ]
     },
     "metadata": {},
     "output_type": "display_data"
    },
    {
     "data": {
      "text/plain": [
       "'output.grib'"
      ]
     },
     "execution_count": 12,
     "metadata": {},
     "output_type": "execute_result"
    }
   ],
   "source": [
    "client.retrieve(\n",
    "    collection_id=\"reanalysis-era5-pressure-levels\",\n",
    "    target=\"output.grib\", # optional\n",
    "    product_type=\"reanalysis\", \n",
    "    format=\"grib\", \n",
    "    variable=\"temperature\", \n",
    "    pressure_level=\"1\", \n",
    "    year=[\"1971\"], \n",
    "    month=\"01\", \n",
    "    day=\"25\", \n",
    "    time=\"06:00\"\n",
    ")"
   ]
  },
  {
   "cell_type": "code",
   "execution_count": 13,
   "id": "f3284df5",
   "metadata": {},
   "outputs": [
    {
     "name": "stdout",
     "output_type": "stream",
     "text": [
      "output.grib\r\n"
     ]
    }
   ],
   "source": [
    "ls output.grib"
   ]
  },
  {
   "cell_type": "markdown",
   "id": "ba72ce95",
   "metadata": {},
   "source": [
    "**list of all submitted requests**"
   ]
  },
  {
   "cell_type": "code",
   "execution_count": 14,
   "id": "123210df",
   "metadata": {
    "scrolled": false
   },
   "outputs": [
    {
     "data": {
      "text/plain": [
       "['67dd2659-79bb-4f26-bfbe-f2d4d3fc35d9']"
      ]
     },
     "execution_count": 14,
     "metadata": {},
     "output_type": "execute_result"
    }
   ],
   "source": [
    "requests = client.get_requests()\n",
    "requests.job_ids()"
   ]
  },
  {
   "cell_type": "markdown",
   "id": "71a44a8e",
   "metadata": {},
   "source": [
    "### retrieve using collection API"
   ]
  },
  {
   "cell_type": "markdown",
   "id": "e98cb804",
   "metadata": {},
   "source": [
    "**request submission**"
   ]
  },
  {
   "cell_type": "code",
   "execution_count": 15,
   "id": "0881a213",
   "metadata": {},
   "outputs": [],
   "source": [
    "collection = client.collection(\"reanalysis-era5-pressure-levels\")\n",
    "remote = collection.submit( \n",
    "    target=\"output.grib\", # optional\n",
    "    product_type=\"reanalysis\", \n",
    "    format=\"grib\", \n",
    "    variable=\"temperature\", \n",
    "    pressure_level=\"1\", \n",
    "    year=[\"1971\"], \n",
    "    month=\"01\", \n",
    "    day=\"25\", \n",
    "    time=\"06:00\"\n",
    ")"
   ]
  },
  {
   "cell_type": "markdown",
   "id": "9ef0be1c",
   "metadata": {},
   "source": [
    "**request monitoring**"
   ]
  },
  {
   "cell_type": "code",
   "execution_count": 17,
   "id": "512085ec",
   "metadata": {},
   "outputs": [
    {
     "data": {
      "text/plain": [
       "'successful'"
      ]
     },
     "execution_count": 17,
     "metadata": {},
     "output_type": "execute_result"
    }
   ],
   "source": [
    "remote.status"
   ]
  },
  {
   "cell_type": "markdown",
   "id": "876e24fa",
   "metadata": {},
   "source": [
    "**download** function it blocking: \n",
    "- waits until the requests is completed\n",
    "- downloads the data"
   ]
  },
  {
   "cell_type": "code",
   "execution_count": 18,
   "id": "c2e5f48b",
   "metadata": {},
   "outputs": [
    {
     "data": {
      "application/vnd.jupyter.widget-view+json": {
       "model_id": "",
       "version_major": 2,
       "version_minor": 0
      },
      "text/plain": [
       "220113098894721259038618506309813230772.grib:   0%|          | 0.00/1.98M [00:00<?, ?B/s]"
      ]
     },
     "metadata": {},
     "output_type": "display_data"
    },
    {
     "data": {
      "text/plain": [
       "'output.grib'"
      ]
     },
     "execution_count": 18,
     "metadata": {},
     "output_type": "execute_result"
    }
   ],
   "source": [
    "remote.download(\"output.grib\")"
   ]
  },
  {
   "cell_type": "markdown",
   "id": "c6b67f02",
   "metadata": {},
   "source": [
    "## Retrieve advanced usage (TBD)"
   ]
  },
  {
   "cell_type": "markdown",
   "id": "05581dca",
   "metadata": {},
   "source": [
    "### explore processes"
   ]
  },
  {
   "cell_type": "code",
   "execution_count": 19,
   "id": "5f93635a",
   "metadata": {},
   "outputs": [
    {
     "data": {
      "text/plain": [
       "<cads_api_client.processing.Processing at 0x7f7c76c14fa0>"
      ]
     },
     "execution_count": 19,
     "metadata": {},
     "output_type": "execute_result"
    }
   ],
   "source": [
    "processing = client.retrieve_api\n",
    "processing"
   ]
  },
  {
   "cell_type": "markdown",
   "id": "375d65ac",
   "metadata": {},
   "source": [
    "**list of available processes**"
   ]
  },
  {
   "cell_type": "code",
   "execution_count": 25,
   "id": "c42f6e9a",
   "metadata": {
    "scrolled": false
   },
   "outputs": [
    {
     "data": {
      "text/plain": [
       "['derived-near-surface-meteorological-variables',\n",
       " 'reanalysis-era5-land-monthly-means',\n",
       " 'reanalysis-era5-pressure-levels',\n",
       " 'reanalysis-era5-land',\n",
       " 'reanalysis-era5-single-levels']"
      ]
     },
     "execution_count": 25,
     "metadata": {},
     "output_type": "execute_result"
    }
   ],
   "source": [
    "processes = processing.processes()\n",
    "processes.process_ids()"
   ]
  },
  {
   "cell_type": "markdown",
   "id": "085171d7",
   "metadata": {},
   "source": [
    "**select a process**"
   ]
  },
  {
   "cell_type": "code",
   "execution_count": 21,
   "id": "351ec57a",
   "metadata": {},
   "outputs": [
    {
     "data": {
      "text/plain": [
       "Process(response=<Response [200]>)"
      ]
     },
     "execution_count": 21,
     "metadata": {},
     "output_type": "execute_result"
    }
   ],
   "source": [
    "process = processing.process(\"reanalysis-era5-pressure-levels\")\n",
    "process"
   ]
  },
  {
   "cell_type": "code",
   "execution_count": 22,
   "id": "74007cf3",
   "metadata": {
    "scrolled": false
   },
   "outputs": [
    {
     "data": {
      "text/plain": [
       "{'title': 'ERA5 hourly data on pressure levels from 1959 to present',\n",
       " 'description': '**ERA5** is the fifth generation ECMWF reanalysis for the global climate and weather for the past 4 to 7 decades.\\nCurrently data is available from 1950, with Climate Data Store entries for 1950-1978 (preliminary back extension) and from 1959 onwards (final release plus timely updates, this page).\\nERA5 replaces the ERA-Interim reanalysis.\\n\\nReanalysis combines model data with observations from across the world into a globally complete and consistent dataset using the laws of physics. This principle, called data assimilation, is based on the method used by numerical weather prediction centres, where every so many hours (12 hours at ECMWF) a previous forecast is combined with newly available observations in an optimal way to produce a new best estimate of the state of the atmosphere, called analysis, from which an updated, improved forecast is issued. Reanalysis works in the same way, but at reduced resolution to allow for the provision of a dataset spanning back several decades. Reanalysis does not have the constraint of issuing timely forecasts, so there is more time to collect observations, and when going further back in time, to allow for the ingestion of improved versions of the original observations, which all benefit the quality of the reanalysis product.\\n\\nERA5 provides hourly estimates for a large number of atmospheric, ocean-wave and land-surface quantities.\\nAn uncertainty estimate is sampled by an underlying 10-member ensemble\\nat three-hourly intervals. Ensemble mean and spread have been pre-computed for convenience.\\nSuch uncertainty estimates are closely related to the information content of the available observing system which\\nhas evolved considerably over time. They also indicate flow-dependent sensitive areas.\\nTo facilitate many climate applications, monthly-mean averages have been pre-calculated too,\\nthough monthly means are not available for the ensemble mean and spread.\\n\\nERA5 is updated daily with a latency of about 5 days. In case that serious flaws are detected in this early release (called ERA5T), this data could be different from the final release 2 to 3 months later. In case that this occurs users are notified.\\n\\nThe data set presented here is a regridded subset of the full ERA5 data set on native resolution.\\nIt is online on spinning disk, which should ensure fast and easy access.\\nIt should satisfy the requirements for most common applications.\\n\\nAn overview of all ERA5 datasets can be found in [this article](https://confluence.ecmwf.int/display/CKB/The+family+of+ERA5+datasets \"The family of ERA5 datasets\").\\nInformation on access to ERA5 data on native resolution is provided in [these guidelines](https://confluence.ecmwf.int/display/CKB/How+to+download+ERA5 \"How to download ERA5\").\\n\\nData has been regridded to a regular lat-lon grid of 0.25 degrees for the reanalysis and 0.5 degrees for\\nthe uncertainty estimate (0.5 and 1 degree respectively for ocean waves).\\nThere are four main sub sets: hourly and monthly products, both on pressure levels (upper air fields) and single levels (atmospheric, ocean-wave and land surface quantities).\\n\\nThe present entry is \"ERA5 hourly data on pressure levels from 1959 to present\".\\n',\n",
       " 'keywords': ['Variable domain: Atmosphere (surface)',\n",
       "  'Variable domain: Atmosphere (upper air)',\n",
       "  'Temporal coverage: Past',\n",
       "  'Spatial coverage: Global',\n",
       "  'Product type: Reanalysis',\n",
       "  'Provider: Copernicus C3S'],\n",
       " 'id': 'reanalysis-era5-pressure-levels',\n",
       " 'version': '1.0.0',\n",
       " 'jobControlOptions': ['async-execute'],\n",
       " 'outputTransmission': ['reference'],\n",
       " 'links': [{'href': 'http://localhost:8080/api/retrieve/v1/processes/reanalysis-era5-pressure-levels',\n",
       "   'rel': 'self',\n",
       "   'type': 'application/json'},\n",
       "  {'href': 'http://localhost:8080/api/retrieve/v1/processes/reanalysis-era5-pressure-levels/execute',\n",
       "   'rel': 'execute',\n",
       "   'type': 'application/json',\n",
       "   'title': 'process execution'}],\n",
       " 'inputs': {'product_type': {'title': 'Product type',\n",
       "   'schema': {'type': 'array',\n",
       "    'items': {'enum': ['ensemble_mean',\n",
       "      'ensemble_members',\n",
       "      'ensemble_spread',\n",
       "      'reanalysis'],\n",
       "     'type': 'string'}}},\n",
       "  'variable': {'title': 'Variable',\n",
       "   'schema': {'type': 'array',\n",
       "    'items': {'enum': ['divergence',\n",
       "      'fraction_of_cloud_cover',\n",
       "      'geopotential',\n",
       "      'ozone_mass_mixing_ratio',\n",
       "      'potential_vorticity',\n",
       "      'relative_humidity',\n",
       "      'specific_cloud_ice_water_content',\n",
       "      'specific_cloud_liquid_water_content',\n",
       "      'specific_humidity',\n",
       "      'specific_rain_water_content',\n",
       "      'specific_snow_water_content',\n",
       "      'temperature',\n",
       "      'u_component_of_wind',\n",
       "      'v_component_of_wind',\n",
       "      'vertical_velocity',\n",
       "      'vorticity'],\n",
       "     'type': 'string'}}},\n",
       "  'year': {'title': 'Year',\n",
       "   'schema': {'type': 'array',\n",
       "    'items': {'enum': ['1959',\n",
       "      '1960',\n",
       "      '1961',\n",
       "      '1962',\n",
       "      '1963',\n",
       "      '1964',\n",
       "      '1965',\n",
       "      '1966',\n",
       "      '1967',\n",
       "      '1968',\n",
       "      '1969',\n",
       "      '1970',\n",
       "      '1971',\n",
       "      '1972',\n",
       "      '1973',\n",
       "      '1974',\n",
       "      '1975',\n",
       "      '1976',\n",
       "      '1977',\n",
       "      '1978',\n",
       "      '1979',\n",
       "      '1980',\n",
       "      '1981',\n",
       "      '1982',\n",
       "      '1983',\n",
       "      '1984',\n",
       "      '1985',\n",
       "      '1986',\n",
       "      '1987',\n",
       "      '1988',\n",
       "      '1989',\n",
       "      '1990',\n",
       "      '1991',\n",
       "      '1992',\n",
       "      '1993',\n",
       "      '1994',\n",
       "      '1995',\n",
       "      '1996',\n",
       "      '1997',\n",
       "      '1998',\n",
       "      '1999',\n",
       "      '2000',\n",
       "      '2001',\n",
       "      '2002',\n",
       "      '2003',\n",
       "      '2004',\n",
       "      '2005',\n",
       "      '2006',\n",
       "      '2007',\n",
       "      '2008',\n",
       "      '2009',\n",
       "      '2010',\n",
       "      '2011',\n",
       "      '2012',\n",
       "      '2013',\n",
       "      '2014',\n",
       "      '2015',\n",
       "      '2016',\n",
       "      '2017',\n",
       "      '2018',\n",
       "      '2019',\n",
       "      '2020',\n",
       "      '2021',\n",
       "      '2022'],\n",
       "     'type': 'string'}}},\n",
       "  'month': {'title': 'Month',\n",
       "   'schema': {'type': 'array',\n",
       "    'items': {'enum': ['01',\n",
       "      '02',\n",
       "      '03',\n",
       "      '04',\n",
       "      '05',\n",
       "      '06',\n",
       "      '07',\n",
       "      '08',\n",
       "      '09',\n",
       "      '10',\n",
       "      '11',\n",
       "      '12'],\n",
       "     'type': 'string'}}},\n",
       "  'time': {'title': 'Time',\n",
       "   'schema': {'type': 'array',\n",
       "    'items': {'enum': ['00:00',\n",
       "      '01:00',\n",
       "      '02:00',\n",
       "      '03:00',\n",
       "      '04:00',\n",
       "      '05:00',\n",
       "      '06:00',\n",
       "      '07:00',\n",
       "      '08:00',\n",
       "      '09:00',\n",
       "      '10:00',\n",
       "      '11:00',\n",
       "      '12:00',\n",
       "      '13:00',\n",
       "      '14:00',\n",
       "      '15:00',\n",
       "      '16:00',\n",
       "      '17:00',\n",
       "      '18:00',\n",
       "      '19:00',\n",
       "      '20:00',\n",
       "      '21:00',\n",
       "      '22:00',\n",
       "      '23:00'],\n",
       "     'type': 'string'}}},\n",
       "  'area': {'title': 'Sub-region extraction',\n",
       "   'schema': {'maxItems': 4,\n",
       "    'minItems': 4,\n",
       "    'type': 'array',\n",
       "    'default': [90, -180, -90, 180],\n",
       "    'items': {'type': 'number'}}},\n",
       "  'format': {'title': 'Format',\n",
       "   'schema': {'enum': ['grib', 'netcdf'],\n",
       "    'type': 'string',\n",
       "    'default': ['grib']}}},\n",
       " 'outputs': {'download_url': {'title': 'Download URL',\n",
       "   'description': 'URL to download process result',\n",
       "   'schema': {'type': 'string', 'format': 'url'}}}}"
      ]
     },
     "execution_count": 22,
     "metadata": {},
     "output_type": "execute_result"
    }
   ],
   "source": [
    "process.json"
   ]
  },
  {
   "cell_type": "markdown",
   "id": "9ce70f86",
   "metadata": {},
   "source": [
    "### submitting a process"
   ]
  },
  {
   "cell_type": "code",
   "execution_count": 28,
   "id": "73ae24c5",
   "metadata": {},
   "outputs": [
    {
     "data": {
      "text/plain": [
       "StatusInfo(response=<Response [201]>)"
      ]
     },
     "execution_count": 28,
     "metadata": {},
     "output_type": "execute_result"
    }
   ],
   "source": [
    "status_info = process.execute(\n",
    "    inputs=dict(\n",
    "        product_type=\"reanalysis\", \n",
    "        format=\"grib\", \n",
    "        variable=\"temperature\", \n",
    "        pressure_level=\"1\", \n",
    "        year=[\"1971\"], \n",
    "        month=\"01\", \n",
    "        day=\"25\", \n",
    "        time=\"06:00\"\n",
    "    )\n",
    ")\n",
    "status_info"
   ]
  },
  {
   "cell_type": "markdown",
   "id": "9de59469",
   "metadata": {},
   "source": [
    "### monitoring"
   ]
  },
  {
   "cell_type": "code",
   "execution_count": 33,
   "id": "0a6c5599",
   "metadata": {},
   "outputs": [],
   "source": [
    "remote = statusinfo.make_remote()"
   ]
  },
  {
   "cell_type": "code",
   "execution_count": 34,
   "id": "dd2bac74",
   "metadata": {
    "scrolled": false
   },
   "outputs": [
    {
     "data": {
      "text/plain": [
       "'successful'"
      ]
     },
     "execution_count": 34,
     "metadata": {},
     "output_type": "execute_result"
    }
   ],
   "source": [
    "remote.status"
   ]
  },
  {
   "cell_type": "markdown",
   "id": "65978331",
   "metadata": {},
   "source": [
    "**Re-create a remote from the request id**"
   ]
  },
  {
   "cell_type": "code",
   "execution_count": 35,
   "id": "87027358",
   "metadata": {},
   "outputs": [
    {
     "data": {
      "text/plain": [
       "'5d3265d3-8708-4a7b-8645-06ade157a644'"
      ]
     },
     "execution_count": 35,
     "metadata": {},
     "output_type": "execute_result"
    }
   ],
   "source": [
    "request_uid = remote.request_uid\n",
    "request_uid"
   ]
  },
  {
   "cell_type": "code",
   "execution_count": 36,
   "id": "8a81865f",
   "metadata": {},
   "outputs": [
    {
     "data": {
      "text/plain": [
       "Remote(url='http://localhost:8080/api/retrieve/v1/jobs/5d3265d3-8708-4a7b-8645-06ade157a644', sleep_max=120, retry_options={})"
      ]
     },
     "execution_count": 36,
     "metadata": {},
     "output_type": "execute_result"
    }
   ],
   "source": [
    "processing.make_remote(request_uid)"
   ]
  },
  {
   "cell_type": "markdown",
   "id": "1592b015",
   "metadata": {},
   "source": [
    "### download result"
   ]
  },
  {
   "cell_type": "code",
   "execution_count": 37,
   "id": "1992ddc1",
   "metadata": {},
   "outputs": [
    {
     "data": {
      "text/plain": [
       "Results(response=<Response [200]>)"
      ]
     },
     "execution_count": 37,
     "metadata": {},
     "output_type": "execute_result"
    }
   ],
   "source": [
    "result = remote.build_result()\n",
    "result"
   ]
  },
  {
   "cell_type": "code",
   "execution_count": 38,
   "id": "e4f9eb17",
   "metadata": {},
   "outputs": [
    {
     "data": {
      "text/plain": [
       "{'asset': {'value': {'type': 'application/x-grib',\n",
       "   'href': 'http://localhost:8080/api/storage/v1/cache/33176215601857374894914268157826669692.grib',\n",
       "   'file:checksum': 262207807576530987902283886641006014631,\n",
       "   'file:size': 2076600,\n",
       "   'file:local_path': 's3://cache/33176215601857374894914268157826669692.grib',\n",
       "   'tmp:storage_options': {},\n",
       "   'tmp:open_kwargs': {'mode': 'rb'}}}}"
      ]
     },
     "execution_count": 38,
     "metadata": {},
     "output_type": "execute_result"
    }
   ],
   "source": [
    "result.json"
   ]
  },
  {
   "cell_type": "code",
   "execution_count": 40,
   "id": "20758473",
   "metadata": {},
   "outputs": [
    {
     "data": {
      "application/vnd.jupyter.widget-view+json": {
       "model_id": "",
       "version_major": 2,
       "version_minor": 0
      },
      "text/plain": [
       "33176215601857374894914268157826669692.grib:   0%|          | 0.00/1.98M [00:00<?, ?B/s]"
      ]
     },
     "metadata": {},
     "output_type": "display_data"
    },
    {
     "data": {
      "text/plain": [
       "'output.grib'"
      ]
     },
     "execution_count": 40,
     "metadata": {},
     "output_type": "execute_result"
    }
   ],
   "source": [
    "result.download(\"output.grib\")"
   ]
  },
  {
   "cell_type": "markdown",
   "id": "0e11da86",
   "metadata": {},
   "source": [
    "## ERROS "
   ]
  },
  {
   "cell_type": "markdown",
   "id": "d531ccc7",
   "metadata": {},
   "source": [
    "**MISSING COLLECTION**"
   ]
  },
  {
   "cell_type": "code",
   "execution_count": null,
   "id": "86fbd668",
   "metadata": {},
   "outputs": [],
   "source": [
    "client.collection(\"missing_collection\")"
   ]
  },
  {
   "cell_type": "markdown",
   "id": "ede9fe40",
   "metadata": {},
   "source": [
    "**WRONG URL**"
   ]
  },
  {
   "cell_type": "code",
   "execution_count": null,
   "id": "a8698964",
   "metadata": {},
   "outputs": [],
   "source": [
    "client = cads_api_client.ApiClient(\"http://localhost:8080/not_found\")\n",
    "client.collections()"
   ]
  }
 ],
 "metadata": {
  "kernelspec": {
   "display_name": "Python 3 (ipykernel)",
   "language": "python",
   "name": "python3"
  },
  "language_info": {
   "codemirror_mode": {
    "name": "ipython",
    "version": 3
   },
   "file_extension": ".py",
   "mimetype": "text/x-python",
   "name": "python",
   "nbconvert_exporter": "python",
   "pygments_lexer": "ipython3",
   "version": "3.10.4"
  }
 },
 "nbformat": 4,
 "nbformat_minor": 5
}
