{
 "cells": [
  {
   "cell_type": "markdown",
   "id": "7c97612f",
   "metadata": {},
   "source": [
    "# CADS API: constraints tests"
   ]
  },
  {
   "cell_type": "code",
   "execution_count": 19,
   "id": "14d10194",
   "metadata": {},
   "outputs": [
    {
     "name": "stdout",
     "output_type": "stream",
     "text": [
      "The autoreload extension is already loaded. To reload it, use:\n",
      "  %reload_ext autoreload\n"
     ]
    }
   ],
   "source": [
    "%load_ext autoreload\n",
    "%autoreload 2"
   ]
  },
  {
   "cell_type": "code",
   "execution_count": 20,
   "id": "6655b0d2",
   "metadata": {},
   "outputs": [],
   "source": [
    "import os\n",
    "import xarray as xr\n",
    "\n",
    "import cads_api_client\n",
    "import cads_processing_api_service"
   ]
  },
  {
   "cell_type": "code",
   "execution_count": 21,
   "id": "b76bb911",
   "metadata": {},
   "outputs": [
    {
     "data": {
      "text/plain": [
       "'http://cds2-dev.copernicus-climate.eu/api'"
      ]
     },
     "execution_count": 21,
     "metadata": {},
     "output_type": "execute_result"
    }
   ],
   "source": [
    "api_url = os.getenv(\"CADS_API_URL\", \"http://cds2-dev.copernicus-climate.eu/api\")\n",
    "api_url"
   ]
  },
  {
   "cell_type": "markdown",
   "id": "4336b457",
   "metadata": {},
   "source": [
    "## Client instantiation"
   ]
  },
  {
   "cell_type": "code",
   "execution_count": 22,
   "id": "4916eb9b",
   "metadata": {},
   "outputs": [
    {
     "data": {
      "text/plain": [
       "ApiClient(key='00112233-4455-6677-c899-aabbccddeeff', url='http://cds2-dev.copernicus-climate.eu/api')"
      ]
     },
     "execution_count": 22,
     "metadata": {},
     "output_type": "execute_result"
    }
   ],
   "source": [
    "client = cads_api_client.ApiClient(url=api_url, key=\"00112233-4455-6677-c899-aabbccddeeff\")\n",
    "client"
   ]
  },
  {
   "cell_type": "markdown",
   "id": "d0be84fb",
   "metadata": {},
   "source": [
    "## Check Collections ids"
   ]
  },
  {
   "cell_type": "code",
   "execution_count": 5,
   "id": "919e391c",
   "metadata": {
    "scrolled": true
   },
   "outputs": [
    {
     "data": {
      "text/plain": [
       "['cams-global-reanalysis-eac4-monthly',\n",
       " 'reanalysis-era5-single-levels',\n",
       " 'reanalysis-era5-land',\n",
       " 'reanalysis-era5-pressure-levels',\n",
       " 'reanalysis-era5-land-monthly-means',\n",
       " 'derived-near-surface-meteorological-variables']"
      ]
     },
     "execution_count": 5,
     "metadata": {},
     "output_type": "execute_result"
    }
   ],
   "source": [
    "client.collections().collection_ids()"
   ]
  },
  {
   "cell_type": "markdown",
   "id": "4e53a7ca",
   "metadata": {},
   "source": [
    "## Constraints API validation\n",
    "\n",
    "**Objective**: verify the correct functioning of the constraints API.\n",
    "\n",
    "**Expected result:** client.valid_values() returns values that can be downloaded together with the input."
   ]
  },
  {
   "cell_type": "markdown",
   "id": "dcca8343",
   "metadata": {},
   "source": [
    "### Test 1 - Data availability\n",
    "\n",
    "#### 1.0 - Get all available values"
   ]
  },
  {
   "cell_type": "markdown",
   "id": "b02de4f5",
   "metadata": {},
   "source": [
    "Consider the `\"reanalysis-era5-single-levels\"` dataset \n",
    "\n",
    "In order to get all available values we can leave the `request` param empty  "
   ]
  },
  {
   "cell_type": "code",
   "execution_count": 6,
   "id": "5d880864",
   "metadata": {},
   "outputs": [
    {
     "data": {
      "text/plain": [
       "{'product_type': ['ensemble_spread',\n",
       "  'ensemble_mean',\n",
       "  'reanalysis',\n",
       "  'ensemble_members'],\n",
       " 'variable': ['convective_precipitation',\n",
       "  'vertical_integral_of_eastward_heat_flux',\n",
       "  'lake_total_layer_temperature',\n",
       "  'mean_direction_of_total_swell',\n",
       "  'surface_net_solar_radiation_clear_sky',\n",
       "  'sea_ice_cover',\n",
       "  'soil_temperature_level_4',\n",
       "  'mean_top_net_short_wave_radiation_flux',\n",
       "  'charnock',\n",
       "  'type_of_high_vegetation',\n",
       "  'sub_surface_runoff',\n",
       "  'lake_cover',\n",
       "  'mean_surface_downward_short_wave_radiation_flux_clear_sky',\n",
       "  'ice_temperature_layer_1',\n",
       "  'total_sky_direct_solar_radiation_at_surface',\n",
       "  'temperature_of_snow_layer',\n",
       "  '100m_u_component_of_wind',\n",
       "  'precipitation_type',\n",
       "  'vertical_integral_of_eastward_cloud_frozen_water_flux',\n",
       "  'duct_base_height',\n",
       "  'mean_surface_net_long_wave_radiation_flux_clear_sky',\n",
       "  'mean_large_scale_precipitation_fraction',\n",
       "  'minimum_2m_temperature_since_previous_post_processing',\n",
       "  'total_column_supercooled_liquid_water',\n",
       "  'mean_surface_latent_heat_flux',\n",
       "  'northward_turbulent_surface_stress',\n",
       "  'large_scale_snowfall_rate_water_equivalent',\n",
       "  'lake_mix_layer_temperature',\n",
       "  'wave_spectral_peakedness',\n",
       "  'snowmelt',\n",
       "  'ice_temperature_layer_4',\n",
       "  'potential_evaporation',\n",
       "  'skin_reservoir_content',\n",
       "  'high_cloud_cover',\n",
       "  'maximum_individual_wave_height',\n",
       "  'u_component_stokes_drift',\n",
       "  'convective_rain_rate',\n",
       "  'air_density_over_the_oceans',\n",
       "  'mean_top_net_long_wave_radiation_flux',\n",
       "  'mean_wave_period_based_on_first_moment',\n",
       "  'vertical_integral_of_northward_ozone_flux',\n",
       "  'mean_vertically_integrated_moisture_divergence',\n",
       "  'instantaneous_moisture_flux',\n",
       "  'boundary_layer_dissipation',\n",
       "  'surface_thermal_radiation_downward_clear_sky',\n",
       "  'large_scale_precipitation_fraction',\n",
       "  'near_ir_albedo_for_direct_radiation',\n",
       "  'ice_temperature_layer_2',\n",
       "  'eastward_turbulent_surface_stress',\n",
       "  'gravity_wave_dissipation',\n",
       "  'type_of_low_vegetation',\n",
       "  'toa_incident_solar_radiation',\n",
       "  '10m_v_component_of_wind',\n",
       "  'mean_large_scale_snowfall_rate',\n",
       "  'mean_surface_downward_long_wave_radiation_flux',\n",
       "  'mean_wave_period_of_second_swell_partition',\n",
       "  'vertical_integral_of_divergence_of_ozone_flux',\n",
       "  'total_column_water',\n",
       "  'total_totals_index',\n",
       "  'vertical_integral_of_thermal_energy',\n",
       "  'vertical_integral_of_eastward_cloud_liquid_water_flux',\n",
       "  'mean_runoff_rate',\n",
       "  'near_ir_albedo_for_diffuse_radiation',\n",
       "  'surface_latent_heat_flux',\n",
       "  'vertical_integral_of_divergence_of_thermal_energy_flux',\n",
       "  'mean_snowmelt_rate',\n",
       "  'mean_wave_period',\n",
       "  'model_bathymetry',\n",
       "  'lake_depth',\n",
       "  'convective_snowfall_rate_water_equivalent',\n",
       "  'surface_runoff',\n",
       "  'vertical_integral_of_divergence_of_geopotential_flux',\n",
       "  'period_corresponding_to_maximum_individual_wave_height',\n",
       "  'vertical_integral_of_northward_total_energy_flux',\n",
       "  'mean_wave_period_based_on_first_moment_for_wind_waves',\n",
       "  'snow_albedo',\n",
       "  'vertical_integral_of_divergence_of_mass_flux',\n",
       "  'vertical_integral_of_divergence_of_cloud_frozen_water_flux',\n",
       "  'total_column_water_vapour',\n",
       "  'benjamin_feir_index',\n",
       "  'high_vegetation_cover',\n",
       "  'mean_square_slope_of_waves',\n",
       "  'maximum_total_precipitation_rate_since_previous_post_processing',\n",
       "  'skin_temperature',\n",
       "  'mean_top_net_long_wave_radiation_flux_clear_sky',\n",
       "  'clear_sky_direct_solar_radiation_at_surface',\n",
       "  'vertical_integral_of_eastward_total_energy_flux',\n",
       "  'vertical_integral_of_northward_kinetic_energy_flux',\n",
       "  '10m_wind_gust_since_previous_post_processing',\n",
       "  'vertical_integral_of_northward_heat_flux',\n",
       "  'vertical_integral_of_divergence_of_kinetic_energy_flux',\n",
       "  'medium_cloud_cover',\n",
       "  'vertical_integral_of_northward_geopotential_flux',\n",
       "  'vertical_integral_of_mass_of_atmosphere',\n",
       "  'large_scale_rain_rate',\n",
       "  'surface_thermal_radiation_downwards',\n",
       "  'mean_surface_direct_short_wave_radiation_flux',\n",
       "  'vertical_integral_of_total_energy',\n",
       "  'vertical_integral_of_energy_conversion',\n",
       "  'angle_of_sub_gridscale_orography',\n",
       "  'low_vegetation_cover',\n",
       "  'mean_surface_runoff_rate',\n",
       "  'forecast_albedo',\n",
       "  'uv_visible_albedo_for_direct_radiation',\n",
       "  'mean_surface_downward_long_wave_radiation_flux_clear_sky',\n",
       "  'low_cloud_cover',\n",
       "  'significant_height_of_total_swell',\n",
       "  'soil_temperature_level_3',\n",
       "  'top_net_thermal_radiation_clear_sky',\n",
       "  'mean_boundary_layer_dissipation',\n",
       "  'vertical_integral_of_northward_cloud_frozen_water_flux',\n",
       "  'convective_available_potential_energy',\n",
       "  'leaf_area_index_high_vegetation',\n",
       "  'wave_spectral_skewness',\n",
       "  'vertical_integral_of_eastward_kinetic_energy_flux',\n",
       "  'friction_velocity',\n",
       "  'volumetric_soil_water_layer_4',\n",
       "  'mean_vertical_gradient_of_refractivity_inside_trapping_layer',\n",
       "  'vertical_integral_of_divergence_of_cloud_liquid_water_flux',\n",
       "  'uv_visible_albedo_for_diffuse_radiation',\n",
       "  'normalized_stress_into_ocean',\n",
       "  'mean_convective_snowfall_rate',\n",
       "  'mean_wave_period_based_on_second_moment_for_wind_waves',\n",
       "  'mean_wave_period_of_first_swell_partition',\n",
       "  'wave_spectral_directional_width_for_swell',\n",
       "  'vertical_integral_of_northward_mass_flux',\n",
       "  'convective_snowfall',\n",
       "  'total_column_rain_water',\n",
       "  'mean_surface_net_short_wave_radiation_flux_clear_sky',\n",
       "  'lake_mix_layer_depth',\n",
       "  'forecast_surface_roughness',\n",
       "  'lake_shape_factor',\n",
       "  'soil_temperature_level_2',\n",
       "  'cloud_base_height',\n",
       "  'free_convective_velocity_over_the_oceans',\n",
       "  'vertically_integrated_moisture_divergence',\n",
       "  'mean_zero_crossing_wave_period',\n",
       "  'instantaneous_surface_sensible_heat_flux',\n",
       "  'normalized_energy_flux_into_waves',\n",
       "  'total_precipitation',\n",
       "  'vertical_integral_of_kinetic_energy',\n",
       "  'trapping_layer_top_height',\n",
       "  'standard_deviation_of_orography',\n",
       "  'vertical_integral_of_eastward_ozone_flux',\n",
       "  'surface_net_solar_radiation',\n",
       "  'surface_net_thermal_radiation_clear_sky',\n",
       "  'mean_evaporation_rate',\n",
       "  'significant_wave_height_of_first_swell_partition',\n",
       "  'mean_sub_surface_runoff_rate',\n",
       "  'large_scale_precipitation',\n",
       "  'evaporation',\n",
       "  'surface_pressure',\n",
       "  'total_column_snow_water',\n",
       "  'v_component_stokes_drift',\n",
       "  'surface_net_thermal_radiation',\n",
       "  'k_index',\n",
       "  'significant_wave_height_of_third_swell_partition',\n",
       "  'mean_wave_period_of_third_swell_partition',\n",
       "  'total_column_ozone',\n",
       "  'mean_eastward_gravity_wave_surface_stress',\n",
       "  'downward_uv_radiation_at_the_surface',\n",
       "  'mean_surface_sensible_heat_flux',\n",
       "  'trapping_layer_base_height',\n",
       "  'runoff',\n",
       "  'mean_wave_period_based_on_first_moment_for_swell',\n",
       "  'mean_gravity_wave_dissipation',\n",
       "  'wave_spectral_directional_width_for_wind_waves',\n",
       "  'leaf_area_index_low_vegetation',\n",
       "  'maximum_2m_temperature_since_previous_post_processing',\n",
       "  'anisotropy_of_sub_gridscale_orography',\n",
       "  'mean_wave_direction_of_third_swell_partition',\n",
       "  'instantaneous_northward_turbulent_surface_stress',\n",
       "  'significant_wave_height_of_second_swell_partition',\n",
       "  'mean_wave_direction',\n",
       "  'mean_convective_precipitation_rate',\n",
       "  'large_scale_snowfall',\n",
       "  'vertical_integral_of_northward_cloud_liquid_water_flux',\n",
       "  'mean_snow_evaporation_rate',\n",
       "  'mean_top_downward_short_wave_radiation_flux',\n",
       "  'minimum_vertical_gradient_of_refractivity_inside_trapping_layer',\n",
       "  'mean_wave_direction_of_second_swell_partition',\n",
       "  'volumetric_soil_water_layer_2',\n",
       "  'standard_deviation_of_filtered_subgrid_orography',\n",
       "  'mean_potential_evaporation_rate',\n",
       "  'minimum_total_precipitation_rate_since_previous_post_processing',\n",
       "  'instantaneous_10m_wind_gust',\n",
       "  'snow_depth',\n",
       "  '100m_v_component_of_wind',\n",
       "  'mean_snowfall_rate',\n",
       "  'snow_density',\n",
       "  'mean_surface_downward_uv_radiation_flux',\n",
       "  'mean_eastward_turbulent_surface_stress',\n",
       "  '2m_temperature',\n",
       "  'total_column_cloud_ice_water',\n",
       "  'vertical_integral_of_divergence_of_total_energy_flux',\n",
       "  'surface_solar_radiation_downward_clear_sky',\n",
       "  'mean_large_scale_precipitation_rate',\n",
       "  'mean_total_precipitation_rate',\n",
       "  'total_column_cloud_liquid_water',\n",
       "  '10m_v_component_of_neutral_wind',\n",
       "  'soil_type',\n",
       "  'ice_temperature_layer_3',\n",
       "  'significant_height_of_combined_wind_waves_and_swell',\n",
       "  'top_net_thermal_radiation',\n",
       "  'soil_temperature_level_1',\n",
       "  'lake_ice_temperature',\n",
       "  'vertical_integral_of_eastward_water_vapour_flux',\n",
       "  '10m_u_component_of_neutral_wind',\n",
       "  'snowfall',\n",
       "  'significant_height_of_wind_waves',\n",
       "  'top_net_solar_radiation',\n",
       "  'mean_period_of_wind_waves',\n",
       "  'zero_degree_level',\n",
       "  'surface_sensible_heat_flux',\n",
       "  'vertical_integral_of_divergence_of_moisture_flux',\n",
       "  'mean_surface_direct_short_wave_radiation_flux_clear_sky',\n",
       "  'volumetric_soil_water_layer_3',\n",
       "  'convective_inhibition',\n",
       "  'eastward_gravity_wave_surface_stress',\n",
       "  'mean_surface_net_long_wave_radiation_flux',\n",
       "  'vertical_integral_of_eastward_geopotential_flux',\n",
       "  'mean_northward_gravity_wave_surface_stress',\n",
       "  'mean_sea_level_pressure',\n",
       "  'vertical_integral_of_northward_water_vapour_flux',\n",
       "  'vertical_integral_of_mass_tendency',\n",
       "  'mean_period_of_total_swell',\n",
       "  'mean_surface_net_short_wave_radiation_flux',\n",
       "  'sea_surface_temperature',\n",
       "  'total_cloud_cover',\n",
       "  'northward_gravity_wave_surface_stress',\n",
       "  'mean_wave_period_based_on_second_moment_for_swell',\n",
       "  'wave_spectral_kurtosis',\n",
       "  'slope_of_sub_gridscale_orography',\n",
       "  'surface_solar_radiation_downwards',\n",
       "  '2m_dewpoint_temperature',\n",
       "  'lake_bottom_temperature',\n",
       "  'forecast_logarithm_of_surface_roughness_for_heat',\n",
       "  'ocean_surface_stress_equivalent_10m_neutral_wind_direction',\n",
       "  'mean_direction_of_wind_waves',\n",
       "  'snow_evaporation',\n",
       "  'volumetric_soil_water_layer_1',\n",
       "  'lake_ice_depth',\n",
       "  'top_net_solar_radiation_clear_sky',\n",
       "  'geopotential',\n",
       "  'peak_wave_period',\n",
       "  'mean_top_net_short_wave_radiation_flux_clear_sky',\n",
       "  'land_sea_mask',\n",
       "  'mean_wave_direction_of_first_swell_partition',\n",
       "  'normalized_energy_flux_into_ocean',\n",
       "  'boundary_layer_height',\n",
       "  'wave_spectral_directional_width',\n",
       "  'vertical_integral_of_eastward_mass_flux',\n",
       "  'vertical_integral_of_potential_and_internal_energy',\n",
       "  'vertical_integral_of_potential_internal_and_latent_energy',\n",
       "  'coefficient_of_drag_with_waves',\n",
       "  'mean_surface_downward_short_wave_radiation_flux',\n",
       "  'instantaneous_eastward_turbulent_surface_stress',\n",
       "  'instantaneous_large_scale_surface_precipitation_fraction',\n",
       "  'mean_northward_turbulent_surface_stress',\n",
       "  '10m_u_component_of_wind',\n",
       "  'ocean_surface_stress_equivalent_10m_neutral_wind_speed',\n",
       "  'vertical_integral_of_temperature'],\n",
       " 'year': ['2020',\n",
       "  '1966',\n",
       "  '1971',\n",
       "  '2015',\n",
       "  '2022',\n",
       "  '1990',\n",
       "  '1982',\n",
       "  '1989',\n",
       "  '1974',\n",
       "  '1981',\n",
       "  '2021',\n",
       "  '2008',\n",
       "  '1993',\n",
       "  '1964',\n",
       "  '1969',\n",
       "  '1975',\n",
       "  '1999',\n",
       "  '2006',\n",
       "  '1994',\n",
       "  '1991',\n",
       "  '1965',\n",
       "  '2017',\n",
       "  '1984',\n",
       "  '2011',\n",
       "  '1977',\n",
       "  '1996',\n",
       "  '1978',\n",
       "  '2016',\n",
       "  '1962',\n",
       "  '2009',\n",
       "  '2002',\n",
       "  '1959',\n",
       "  '1985',\n",
       "  '1992',\n",
       "  '1979',\n",
       "  '1983',\n",
       "  '1960',\n",
       "  '1963',\n",
       "  '1987',\n",
       "  '2014',\n",
       "  '1961',\n",
       "  '2018',\n",
       "  '1976',\n",
       "  '2003',\n",
       "  '1998',\n",
       "  '2007',\n",
       "  '2019',\n",
       "  '2010',\n",
       "  '1986',\n",
       "  '2004',\n",
       "  '1970',\n",
       "  '1973',\n",
       "  '1968',\n",
       "  '2001',\n",
       "  '1995',\n",
       "  '2012',\n",
       "  '1972',\n",
       "  '1967',\n",
       "  '1997',\n",
       "  '2005',\n",
       "  '1980',\n",
       "  '2013',\n",
       "  '2000',\n",
       "  '1988'],\n",
       " 'month': ['06',\n",
       "  '05',\n",
       "  '09',\n",
       "  '03',\n",
       "  '04',\n",
       "  '10',\n",
       "  '07',\n",
       "  '08',\n",
       "  '01',\n",
       "  '11',\n",
       "  '02',\n",
       "  '12'],\n",
       " 'day': ['05',\n",
       "  '23',\n",
       "  '24',\n",
       "  '19',\n",
       "  '27',\n",
       "  '17',\n",
       "  '07',\n",
       "  '25',\n",
       "  '01',\n",
       "  '31',\n",
       "  '30',\n",
       "  '02',\n",
       "  '12',\n",
       "  '28',\n",
       "  '09',\n",
       "  '15',\n",
       "  '03',\n",
       "  '29',\n",
       "  '04',\n",
       "  '11',\n",
       "  '10',\n",
       "  '21',\n",
       "  '14',\n",
       "  '16',\n",
       "  '06',\n",
       "  '20',\n",
       "  '08',\n",
       "  '13',\n",
       "  '22',\n",
       "  '26',\n",
       "  '18'],\n",
       " 'time': ['11:00',\n",
       "  '01:00',\n",
       "  '16:00',\n",
       "  '08:00',\n",
       "  '05:00',\n",
       "  '07:00',\n",
       "  '20:00',\n",
       "  '21:00',\n",
       "  '06:00',\n",
       "  '09:00',\n",
       "  '19:00',\n",
       "  '22:00',\n",
       "  '00:00',\n",
       "  '15:00',\n",
       "  '04:00',\n",
       "  '12:00',\n",
       "  '02:00',\n",
       "  '13:00',\n",
       "  '03:00',\n",
       "  '14:00',\n",
       "  '17:00',\n",
       "  '10:00',\n",
       "  '23:00',\n",
       "  '18:00'],\n",
       " 'format': ['grib', 'netcdf']}"
      ]
     },
     "execution_count": 6,
     "metadata": {},
     "output_type": "execute_result"
    }
   ],
   "source": [
    "client.valid_values(\"reanalysis-era5-single-levels\", {})\n"
   ]
  },
  {
   "cell_type": "markdown",
   "id": "c398606a",
   "metadata": {},
   "source": [
    "\n",
    "#### 1.1 - Availability limits\n",
    "The `\"reanalysis-era5-single-levels\"` dataset stops the 31th of october. Checking which values are valid for the year `\"2022\"` should return month numbers up to 8 (august).\n"
   ]
  },
  {
   "cell_type": "code",
   "execution_count": 7,
   "id": "52be85f8",
   "metadata": {},
   "outputs": [
    {
     "data": {
      "text/plain": [
       "['01', '02', '03', '04', '05', '06', '07', '08']"
      ]
     },
     "execution_count": 7,
     "metadata": {},
     "output_type": "execute_result"
    }
   ],
   "source": [
    "response = client.valid_values(\"reanalysis-era5-single-levels\", {\"year\" : [\"2022\"]})\n",
    "sorted(response[\"month\"])"
   ]
  },
  {
   "cell_type": "code",
   "execution_count": 8,
   "id": "385d4566",
   "metadata": {},
   "outputs": [
    {
     "name": "stdout",
     "output_type": "stream",
     "text": [
      "['1959', '1960', '1961', '1962', '1963', '1964', '1965', '1966', '1967', '1968', '1969', '1970', '1971', '1972', '1973', '1974', '1975', '1976', '1977', '1978', '1979', '1980', '1981', '1982', '1983', '1984', '1985', '1986', '1987', '1988', '1989', '1990', '1991', '1992', '1993', '1994', '1995', '1996', '1997', '1998', '1999', '2000', '2001', '2002', '2003', '2004', '2005', '2006', '2007', '2008', '2009', '2010', '2011', '2012', '2013', '2014', '2015', '2016', '2017', '2018', '2019', '2020', '2021', '2022']\n"
     ]
    }
   ],
   "source": [
    "print(sorted(response[\"year\"]))"
   ]
  },
  {
   "cell_type": "markdown",
   "id": "55fc3b69",
   "metadata": {},
   "source": [
    "#### 1.2  - Unavailable data\n",
    "\n",
    "For a valid key, if none of the requested value(s) are valid, the API will return no valid combinations and suggest a list of valid values for the same key.\n"
   ]
  },
  {
   "cell_type": "code",
   "execution_count": 9,
   "id": "547f293a",
   "metadata": {},
   "outputs": [
    {
     "name": "stdout",
     "output_type": "stream",
     "text": [
      "{'product_type': [], 'variable': [], 'year': ['2020', '1966', '1971', '2015', '2022', '1990', '1982', '1989', '1974', '1981', '2021', '2008', '1993', '1964', '1969', '1975', '1999', '2006', '1994', '1991', '1965', '2017', '1984', '2011', '1977', '1996', '1978', '2016', '1962', '2009', '2002', '1959', '1985', '1992', '1979', '1983', '1960', '1963', '1987', '2014', '1961', '2018', '1976', '2003', '1998', '2007', '2019', '2010', '1986', '2004', '1970', '1973', '1968', '2001', '1995', '2012', '1972', '1967', '1997', '2005', '1980', '2013', '2000', '1988'], 'month': [], 'day': [], 'time': [], 'format': ['grib', 'netcdf']}\n"
     ]
    }
   ],
   "source": [
    "print(client.valid_values(\"reanalysis-era5-single-levels\", {\"year\":[\"1000\"]}))"
   ]
  },
  {
   "cell_type": "markdown",
   "id": "30a19da0",
   "metadata": {},
   "source": [
    "### Test 2 - Restricted params\n",
    "\n",
    "Consider the `\"cams-global-reanalysis-eac4-monthly\"` dataset. \n"
   ]
  },
  {
   "cell_type": "code",
   "execution_count": 10,
   "id": "e4b91d86",
   "metadata": {
    "scrolled": true
   },
   "outputs": [
    {
     "name": "stdout",
     "output_type": "stream",
     "text": [
      "{'variable': ['so2_precursor_mixing_ratio', 'nitrogen_dioxide', 'carbon_monoxide', 'specific_humidity', 'snow_density', 'dust_aerosol_optical_depth_550nm', 'snow_albedo', 'sea_ice_cover', 'nitric_acid', 'sulphate_aerosol_mixing_ratio', 'total_column_water_vapour', 'vertically_integrated_mass_of_sea_salt_aerosol_5-20um', '2m_temperature', 'charnock', 'vertically_integrated_mass_of_dust_aerosol_9-20um', 'dust_aerosol_0.9-20um_mixing_ratio', 'vertically_integrated_mass_of_dust_aerosol_0.55-9um', 'peroxyacetyl_nitrate', 'total_column_carbon_monoxide', 'ice_temperature_layer_1', 'sea_salt_aerosol_5-20um_mixing_ratio', 'temperature_of_snow_layer', 'methane_chemistry', 'hydroxyl_radical', 'vertically_integrated_mass_of_hydrophobic_black_carbon_aerosol', 'total_column_nitric_acid', 'total_column_nitrogen_dioxide', 'vertically_integrated_mass_of_sea_salt_aerosol_0.5-5um', 'sea_salt_aerosol_0.03-0.5um_mixing_ratio', 'soil_temperature_level_1', 'particulate_matter_2.5um', 'total_column_formaldehyde', 'hydrophobic_black_carbon_aerosol_mixing_ratio', 'vertical_velocity', 'nitrogen_monoxide', 'formaldehyde', 'sulphate_aerosol_optical_depth_550nm', 'vertically_integrated_mass_of_sulphur_dioxide', 'hydrophilic_organic_matter_aerosol_mixing_ratio', 'particulate_matter_10um', 'total_column_peroxyacetyl_nitrate', 'total_column_sulphur_dioxide', 'sea_salt_aerosol_optical_depth_550nm', 'temperature', 'ozone', 'sulphur_dioxide', 'total_column_nitrogen_monoxide', 'vertically_integrated_mass_of_hydrophobic_organic_matter_aerosol', 'vertically_integrated_mass_of_sulphate_aerosol', 'surface_pressure', 'vertically_integrated_mass_of_hydrophilic_organic_matter_aerosol', 'relative_humidity', 'dust_aerosol_0.03-0.55um_mixing_ratio', 'mean_sea_level_pressure', 'sea_surface_temperature', 'vertically_integrated_mass_of_hydrophilic_black_carbon_aerosol', 'hydrophilic_black_carbon_aerosol_mixing_ratio', 'total_column_ozone', '2m_dewpoint_temperature', 'total_column_hydroxyl_radical', 'isoprene', 'total_column_isoprene', 'hydrophobic_organic_matter_aerosol_mixing_ratio', 'vertically_integrated_mass_of_sea_salt_aerosol_0.03-0.5um', 'sea_salt_aerosol_0.5-5um_mixing_ratio', 'propane', 'geopotential', 'leaf_area_index_high_vegetation', 'total_column_ethane', 'leaf_area_index_low_vegetation', 'total_column_propane', 'black_carbon_aerosol_optical_depth_550nm', 'organic_matter_aerosol_optical_depth_550nm', 'total_column_water', 'total_aerosol_optical_depth_550nm', 'dust_aerosol_0.55-0.9um_mixing_ratio', 'potential_vorticity', 'ethane', 'vertically_integrated_mass_of_dust_aerosol_0.03-0.55um', 'total_column_methane', 'snow_depth'], 'pressure_level': ['150', '70', '400', '1', '30', '5', '2', '500', '600', '100', '200', '3', '50', '850', '7', '925', '300', '800', '950', '10', '20', '700', '1000', '250', '900'], 'model_level': ['60'], 'year': ['2009', '2020', '2014', '2013', '2018', '2003', '2007', '2019', '2021', '2008', '2010', '2006', '2004', '2017', '2011', '2012', '2005', '2015', '2016'], 'month': ['05', '03', '04', '07', '01', '11', '10', '02', '12', '06', '09', '08'], 'product_type': ['monthly_mean_by_hour_of_day', 'monthly_mean'], 'time': ['03:00', '06:00', '09:00', '21:00', '00:00', '15:00', '12:00', '18:00'], 'format': ['grib', 'netcdf']}\n"
     ]
    }
   ],
   "source": [
    "print(client.valid_values(\"cams-global-reanalysis-eac4-monthly\", {}))"
   ]
  },
  {
   "cell_type": "markdown",
   "id": "d5e5370a",
   "metadata": {},
   "source": [
    "selecting `\"product_type\":\"monthly_mean\"` should not be compatible with any `\"time\"` value.\n"
   ]
  },
  {
   "cell_type": "code",
   "execution_count": 11,
   "id": "ad8a3657",
   "metadata": {
    "scrolled": false
   },
   "outputs": [
    {
     "data": {
      "text/plain": [
       "[]"
      ]
     },
     "execution_count": 11,
     "metadata": {},
     "output_type": "execute_result"
    }
   ],
   "source": [
    "response = client.valid_values(\"cams-global-reanalysis-eac4-monthly\", {\"product_type\": [\"monthly_mean\"]})\n",
    "response[\"time\"]"
   ]
  },
  {
   "cell_type": "markdown",
   "id": "8d5c6a4a",
   "metadata": {},
   "source": [
    "On the countrary, if `\"product_type\"` is `\"monthly_mean_by_hour_of_day\"`, all `\"time\"` values should be available"
   ]
  },
  {
   "cell_type": "code",
   "execution_count": 12,
   "id": "91169fe5",
   "metadata": {},
   "outputs": [
    {
     "data": {
      "text/plain": [
       "['03:00', '06:00', '09:00', '21:00', '00:00', '15:00', '12:00', '18:00']"
      ]
     },
     "execution_count": 12,
     "metadata": {},
     "output_type": "execute_result"
    }
   ],
   "source": [
    "client.valid_values(\"cams-global-reanalysis-eac4-monthly\", {'product_type': ['monthly_mean_by_hour_of_day']})[\"time\"]"
   ]
  },
  {
   "cell_type": "markdown",
   "id": "ceee078e",
   "metadata": {},
   "source": [
    "the reverse is also true:"
   ]
  },
  {
   "cell_type": "code",
   "execution_count": 13,
   "id": "d953ee1a",
   "metadata": {},
   "outputs": [
    {
     "data": {
      "text/plain": [
       "['monthly_mean_by_hour_of_day']"
      ]
     },
     "execution_count": 13,
     "metadata": {},
     "output_type": "execute_result"
    }
   ],
   "source": [
    "client.valid_values(\"cams-global-reanalysis-eac4-monthly\", {\"time\": ['00:00', '03:00', '18:00', '09:00', '15:00', '21:00', '06:00', '12:00']})[\"product_type\"]"
   ]
  },
  {
   "cell_type": "markdown",
   "id": "b63c2025",
   "metadata": {},
   "source": [
    "### Test 3 - invalid combination\n",
    "Consider the `\"cams-global-reanalysis-eac4-monthly\"` dataset. \n",
    "\n",
    "There should be no valid values for `\"time\":\"12:00\"` and `\"product type\":\"montly_mean\"`.\n"
   ]
  },
  {
   "cell_type": "code",
   "execution_count": 14,
   "id": "19574aaa",
   "metadata": {
    "scrolled": true
   },
   "outputs": [
    {
     "data": {
      "text/plain": [
       "{'variable': [],\n",
       " 'pressure_level': [],\n",
       " 'model_level': [],\n",
       " 'year': [],\n",
       " 'month': [],\n",
       " 'product_type': ['monthly_mean_by_hour_of_day'],\n",
       " 'time': [],\n",
       " 'format': ['grib', 'netcdf']}"
      ]
     },
     "execution_count": 14,
     "metadata": {},
     "output_type": "execute_result"
    }
   ],
   "source": [
    "client.valid_values(\"cams-global-reanalysis-eac4-monthly\", {\"product_type\" : [\"montly_mean\"], \"time\":[\"12:00\"]})"
   ]
  },
  {
   "cell_type": "markdown",
   "id": "bbf96205",
   "metadata": {},
   "source": [
    "The API responce suggests that adding `\"monthly_mean_by_hour_of_day\"` to the request may produce some valid values. \n",
    "\n",
    "Indeed:"
   ]
  },
  {
   "cell_type": "code",
   "execution_count": 15,
   "id": "0f15d972",
   "metadata": {
    "scrolled": false
   },
   "outputs": [
    {
     "data": {
      "text/plain": [
       "{'variable': ['so2_precursor_mixing_ratio',\n",
       "  'nitrogen_dioxide',\n",
       "  'carbon_monoxide',\n",
       "  'specific_humidity',\n",
       "  'snow_density',\n",
       "  'dust_aerosol_optical_depth_550nm',\n",
       "  'snow_albedo',\n",
       "  'sea_ice_cover',\n",
       "  'nitric_acid',\n",
       "  'sulphate_aerosol_mixing_ratio',\n",
       "  'total_column_water_vapour',\n",
       "  'vertically_integrated_mass_of_sea_salt_aerosol_5-20um',\n",
       "  '2m_temperature',\n",
       "  'charnock',\n",
       "  'vertically_integrated_mass_of_dust_aerosol_9-20um',\n",
       "  'dust_aerosol_0.9-20um_mixing_ratio',\n",
       "  'vertically_integrated_mass_of_dust_aerosol_0.55-9um',\n",
       "  'peroxyacetyl_nitrate',\n",
       "  'total_column_carbon_monoxide',\n",
       "  'ice_temperature_layer_1',\n",
       "  'sea_salt_aerosol_5-20um_mixing_ratio',\n",
       "  'temperature_of_snow_layer',\n",
       "  'methane_chemistry',\n",
       "  'hydroxyl_radical',\n",
       "  'vertically_integrated_mass_of_hydrophobic_black_carbon_aerosol',\n",
       "  'total_column_nitric_acid',\n",
       "  'total_column_nitrogen_dioxide',\n",
       "  'vertically_integrated_mass_of_sea_salt_aerosol_0.5-5um',\n",
       "  'sea_salt_aerosol_0.03-0.5um_mixing_ratio',\n",
       "  'soil_temperature_level_1',\n",
       "  'particulate_matter_2.5um',\n",
       "  'total_column_formaldehyde',\n",
       "  'hydrophobic_black_carbon_aerosol_mixing_ratio',\n",
       "  'vertical_velocity',\n",
       "  'nitrogen_monoxide',\n",
       "  'formaldehyde',\n",
       "  'sulphate_aerosol_optical_depth_550nm',\n",
       "  'vertically_integrated_mass_of_sulphur_dioxide',\n",
       "  'hydrophilic_organic_matter_aerosol_mixing_ratio',\n",
       "  'particulate_matter_10um',\n",
       "  'total_column_peroxyacetyl_nitrate',\n",
       "  'total_column_sulphur_dioxide',\n",
       "  'sea_salt_aerosol_optical_depth_550nm',\n",
       "  'temperature',\n",
       "  'ozone',\n",
       "  'sulphur_dioxide',\n",
       "  'total_column_nitrogen_monoxide',\n",
       "  'vertically_integrated_mass_of_hydrophobic_organic_matter_aerosol',\n",
       "  'vertically_integrated_mass_of_sulphate_aerosol',\n",
       "  'surface_pressure',\n",
       "  'vertically_integrated_mass_of_hydrophilic_organic_matter_aerosol',\n",
       "  'relative_humidity',\n",
       "  'dust_aerosol_0.03-0.55um_mixing_ratio',\n",
       "  'mean_sea_level_pressure',\n",
       "  'sea_surface_temperature',\n",
       "  'vertically_integrated_mass_of_hydrophilic_black_carbon_aerosol',\n",
       "  'hydrophilic_black_carbon_aerosol_mixing_ratio',\n",
       "  'total_column_ozone',\n",
       "  '2m_dewpoint_temperature',\n",
       "  'total_column_hydroxyl_radical',\n",
       "  'isoprene',\n",
       "  'total_column_isoprene',\n",
       "  'hydrophobic_organic_matter_aerosol_mixing_ratio',\n",
       "  'vertically_integrated_mass_of_sea_salt_aerosol_0.03-0.5um',\n",
       "  'sea_salt_aerosol_0.5-5um_mixing_ratio',\n",
       "  'propane',\n",
       "  'geopotential',\n",
       "  'leaf_area_index_high_vegetation',\n",
       "  'total_column_ethane',\n",
       "  'leaf_area_index_low_vegetation',\n",
       "  'total_column_propane',\n",
       "  'black_carbon_aerosol_optical_depth_550nm',\n",
       "  'organic_matter_aerosol_optical_depth_550nm',\n",
       "  'total_column_water',\n",
       "  'total_aerosol_optical_depth_550nm',\n",
       "  'dust_aerosol_0.55-0.9um_mixing_ratio',\n",
       "  'potential_vorticity',\n",
       "  'ethane',\n",
       "  'vertically_integrated_mass_of_dust_aerosol_0.03-0.55um',\n",
       "  'total_column_methane',\n",
       "  'snow_depth'],\n",
       " 'pressure_level': ['150',\n",
       "  '70',\n",
       "  '400',\n",
       "  '1',\n",
       "  '30',\n",
       "  '5',\n",
       "  '2',\n",
       "  '500',\n",
       "  '600',\n",
       "  '100',\n",
       "  '200',\n",
       "  '3',\n",
       "  '50',\n",
       "  '850',\n",
       "  '7',\n",
       "  '925',\n",
       "  '300',\n",
       "  '800',\n",
       "  '950',\n",
       "  '10',\n",
       "  '20',\n",
       "  '700',\n",
       "  '1000',\n",
       "  '250',\n",
       "  '900'],\n",
       " 'model_level': ['60'],\n",
       " 'year': ['2009',\n",
       "  '2020',\n",
       "  '2014',\n",
       "  '2013',\n",
       "  '2018',\n",
       "  '2003',\n",
       "  '2007',\n",
       "  '2019',\n",
       "  '2021',\n",
       "  '2008',\n",
       "  '2010',\n",
       "  '2006',\n",
       "  '2004',\n",
       "  '2017',\n",
       "  '2011',\n",
       "  '2012',\n",
       "  '2005',\n",
       "  '2015',\n",
       "  '2016'],\n",
       " 'month': ['05',\n",
       "  '03',\n",
       "  '04',\n",
       "  '07',\n",
       "  '01',\n",
       "  '11',\n",
       "  '10',\n",
       "  '02',\n",
       "  '12',\n",
       "  '06',\n",
       "  '09',\n",
       "  '08'],\n",
       " 'product_type': ['monthly_mean_by_hour_of_day'],\n",
       " 'time': ['03:00',\n",
       "  '06:00',\n",
       "  '09:00',\n",
       "  '21:00',\n",
       "  '00:00',\n",
       "  '15:00',\n",
       "  '12:00',\n",
       "  '18:00'],\n",
       " 'format': ['grib', 'netcdf']}"
      ]
     },
     "execution_count": 15,
     "metadata": {},
     "output_type": "execute_result"
    }
   ],
   "source": [
    "client.valid_values(\n",
    "    \"cams-global-reanalysis-eac4-monthly\", \n",
    "    {\"product_type\" : [\"montly_mean\", \"monthly_mean_by_hour_of_day\"] , \"time\":\"12:00\"}\n",
    ")"
   ]
  },
  {
   "cell_type": "markdown",
   "id": "2dd9531d",
   "metadata": {},
   "source": [
    "### Test 4 - Always valid params\n",
    "\n",
    "Some params are always valid, meaning they can go along with any other combination. Theese are always returned by the API:"
   ]
  },
  {
   "cell_type": "code",
   "execution_count": 16,
   "id": "b6457e5d",
   "metadata": {},
   "outputs": [
    {
     "data": {
      "text/plain": [
       "{'variable': [],\n",
       " 'pressure_level': [],\n",
       " 'model_level': [],\n",
       " 'year': [],\n",
       " 'month': [],\n",
       " 'product_type': [],\n",
       " 'time': [],\n",
       " 'format': ['grib', 'netcdf']}"
      ]
     },
     "execution_count": 16,
     "metadata": {},
     "output_type": "execute_result"
    }
   ],
   "source": [
    "client.valid_values(\"cams-global-reanalysis-eac4-monthly\", {\"product_type\" : [\"X\"], \"variable\":[\"X\"]})"
   ]
  },
  {
   "cell_type": "markdown",
   "id": "0a78ed2d",
   "metadata": {},
   "source": [
    "### Test 5 - Invalid Keys\n"
   ]
  },
  {
   "cell_type": "markdown",
   "id": "19a769de",
   "metadata": {},
   "source": [
    "If some param with invalid or misspelled name is requested the API throws an error "
   ]
  },
  {
   "cell_type": "code",
   "execution_count": 24,
   "id": "727ce339",
   "metadata": {
    "scrolled": true
   },
   "outputs": [
    {
     "data": {
      "text/plain": [
       "{'variable': [],\n",
       " 'pressure_level': [],\n",
       " 'model_level': [],\n",
       " 'year': [],\n",
       " 'month': [],\n",
       " 'product_type': [],\n",
       " 'time': [],\n",
       " 'format': ['grib', 'netcdf']}"
      ]
     },
     "execution_count": 24,
     "metadata": {},
     "output_type": "execute_result"
    }
   ],
   "source": [
    "client.valid_values(\"cams-global-reanalysis-eac4-monthly\", {\"invalid_param\":[\"X\"]})"
   ]
  },
  {
   "cell_type": "code",
   "execution_count": 18,
   "id": "f9aaec2d",
   "metadata": {
    "scrolled": false
   },
   "outputs": [
    {
     "name": "stdout",
     "output_type": "stream",
     "text": [
      "CADS API Error: invalid param \"typo\"\n"
     ]
    },
    {
     "ename": "KeyError",
     "evalue": "",
     "output_type": "error",
     "traceback": [
      "\u001b[0;31m---------------------------------------------------------------------------\u001b[0m",
      "\u001b[0;31mKeyError\u001b[0m                                  Traceback (most recent call last)",
      "Cell \u001b[0;32mIn [18], line 8\u001b[0m\n\u001b[1;32m      1\u001b[0m form \u001b[38;5;241m=\u001b[39m {\u001b[38;5;124m\"\u001b[39m\u001b[38;5;124mlevel\u001b[39m\u001b[38;5;124m\"\u001b[39m: {\u001b[38;5;124m\"\u001b[39m\u001b[38;5;124m500\u001b[39m\u001b[38;5;124m\"\u001b[39m}, \u001b[38;5;124m\"\u001b[39m\u001b[38;5;124mtime\u001b[39m\u001b[38;5;124m\"\u001b[39m: {\u001b[38;5;124m\"\u001b[39m\u001b[38;5;124m12:00\u001b[39m\u001b[38;5;124m\"\u001b[39m, \u001b[38;5;124m\"\u001b[39m\u001b[38;5;124m00:00\u001b[39m\u001b[38;5;124m\"\u001b[39m}, \u001b[38;5;124m\"\u001b[39m\u001b[38;5;124mparam\u001b[39m\u001b[38;5;124m\"\u001b[39m: {\u001b[38;5;124m\"\u001b[39m\u001b[38;5;124mZ\u001b[39m\u001b[38;5;124m\"\u001b[39m, \u001b[38;5;124m\"\u001b[39m\u001b[38;5;124mT\u001b[39m\u001b[38;5;124m\"\u001b[39m}, \u001b[38;5;124m\"\u001b[39m\u001b[38;5;124mproduct_type\u001b[39m\u001b[38;5;124m\"\u001b[39m: {\u001b[38;5;124m\"\u001b[39m\u001b[38;5;124mmean\u001b[39m\u001b[38;5;124m\"\u001b[39m},}\n\u001b[1;32m      3\u001b[0m constraints \u001b[38;5;241m=\u001b[39m [\n\u001b[1;32m      4\u001b[0m     {\u001b[38;5;124m\"\u001b[39m\u001b[38;5;124mlevel\u001b[39m\u001b[38;5;124m\"\u001b[39m: {\u001b[38;5;124m\"\u001b[39m\u001b[38;5;124m500\u001b[39m\u001b[38;5;124m\"\u001b[39m}, \u001b[38;5;124m\"\u001b[39m\u001b[38;5;124mparam\u001b[39m\u001b[38;5;124m\"\u001b[39m: {\u001b[38;5;124m\"\u001b[39m\u001b[38;5;124mZ\u001b[39m\u001b[38;5;124m\"\u001b[39m, \u001b[38;5;124m\"\u001b[39m\u001b[38;5;124mT\u001b[39m\u001b[38;5;124m\"\u001b[39m}, \u001b[38;5;124m\"\u001b[39m\u001b[38;5;124mtime\u001b[39m\u001b[38;5;124m\"\u001b[39m: {\u001b[38;5;124m\"\u001b[39m\u001b[38;5;124m12:00\u001b[39m\u001b[38;5;124m\"\u001b[39m, \u001b[38;5;124m\"\u001b[39m\u001b[38;5;124m00:00\u001b[39m\u001b[38;5;124m\"\u001b[39m}},\n\u001b[1;32m      5\u001b[0m     {\u001b[38;5;124m\"\u001b[39m\u001b[38;5;124mlevel\u001b[39m\u001b[38;5;124m\"\u001b[39m: {\u001b[38;5;124m\"\u001b[39m\u001b[38;5;124m500\u001b[39m\u001b[38;5;124m\"\u001b[39m, \u001b[38;5;124m\"\u001b[39m\u001b[38;5;124m850\u001b[39m\u001b[38;5;124m\"\u001b[39m}, \u001b[38;5;124m\"\u001b[39m\u001b[38;5;124mparam\u001b[39m\u001b[38;5;124m\"\u001b[39m: {\u001b[38;5;124m\"\u001b[39m\u001b[38;5;124mZ\u001b[39m\u001b[38;5;124m\"\u001b[39m, \u001b[38;5;124m\"\u001b[39m\u001b[38;5;124mT\u001b[39m\u001b[38;5;124m\"\u001b[39m}, \u001b[38;5;124m\"\u001b[39m\u001b[38;5;124mproduct_type\u001b[39m\u001b[38;5;124m\"\u001b[39m: {\u001b[38;5;124m\"\u001b[39m\u001b[38;5;124mmean\u001b[39m\u001b[38;5;124m\"\u001b[39m}},\n\u001b[1;32m      6\u001b[0m ]\n\u001b[0;32m----> 8\u001b[0m \u001b[43mcads_processing_api_service\u001b[49m\u001b[38;5;241;43m.\u001b[39;49m\u001b[43mapply_constraints\u001b[49m\u001b[43m(\u001b[49m\u001b[43mform\u001b[49m\u001b[43m,\u001b[49m\u001b[43m \u001b[49m\u001b[43m{\u001b[49m\u001b[38;5;124;43m\"\u001b[39;49m\u001b[38;5;124;43mtypo\u001b[39;49m\u001b[38;5;124;43m\"\u001b[39;49m\u001b[43m:\u001b[49m\u001b[43m{\u001b[49m\u001b[38;5;124;43m\"\u001b[39;49m\u001b[38;5;124;43m500\u001b[39;49m\u001b[38;5;124;43m\"\u001b[39;49m\u001b[43m}\u001b[49m\u001b[43m}\u001b[49m\u001b[43m,\u001b[49m\u001b[43m \u001b[49m\u001b[43mconstraints\u001b[49m\u001b[43m)\u001b[49m\n",
      "File \u001b[0;32m~/devel/cads/cads-processing-api-service/cads_processing_api_service/constraints.py:81\u001b[0m, in \u001b[0;36mapply_constraints\u001b[0;34m(form, selection, constraints)\u001b[0m\n\u001b[1;32m     78\u001b[0m         form\u001b[38;5;241m.\u001b[39mpop(key, \u001b[38;5;28;01mNone\u001b[39;00m)\n\u001b[1;32m     79\u001b[0m         selection\u001b[38;5;241m.\u001b[39mpop(key, \u001b[38;5;28;01mNone\u001b[39;00m)\n\u001b[0;32m---> 81\u001b[0m result \u001b[38;5;241m=\u001b[39m \u001b[43mget_form_state\u001b[49m\u001b[43m(\u001b[49m\u001b[43mform\u001b[49m\u001b[43m,\u001b[49m\u001b[43m \u001b[49m\u001b[43mselection\u001b[49m\u001b[43m,\u001b[49m\u001b[43m \u001b[49m\u001b[43mconstraints\u001b[49m\u001b[43m)\u001b[49m\n\u001b[1;32m     82\u001b[0m result\u001b[38;5;241m.\u001b[39mupdate(always_valid)\n\u001b[1;32m     84\u001b[0m \u001b[38;5;28;01mreturn\u001b[39;00m format_to_json(result)\n",
      "File \u001b[0;32m~/devel/cads/cads-processing-api-service/cads_processing_api_service/constraints.py:224\u001b[0m, in \u001b[0;36mget_form_state\u001b[0;34m(form, selection, constraints)\u001b[0m\n\u001b[1;32m    222\u001b[0m     \u001b[38;5;28;01mif\u001b[39;00m key \u001b[38;5;129;01min\u001b[39;00m sub_selection:\n\u001b[1;32m    223\u001b[0m         sub_selection\u001b[38;5;241m.\u001b[39mpop(key)\n\u001b[0;32m--> 224\u001b[0m     sub_results \u001b[38;5;241m=\u001b[39m \u001b[43mget_possible_values\u001b[49m\u001b[43m(\u001b[49m\u001b[43mform\u001b[49m\u001b[43m,\u001b[49m\u001b[43m \u001b[49m\u001b[43msub_selection\u001b[49m\u001b[43m,\u001b[49m\u001b[43m \u001b[49m\u001b[43mconstraints\u001b[49m\u001b[43m)\u001b[49m\n\u001b[1;32m    225\u001b[0m     result[key] \u001b[38;5;241m=\u001b[39m sub_results\u001b[38;5;241m.\u001b[39msetdefault(key, \u001b[38;5;28mset\u001b[39m())\n\u001b[1;32m    226\u001b[0m \u001b[38;5;28;01mreturn\u001b[39;00m result\n",
      "File \u001b[0;32m~/devel/cads/cads-processing-api-service/cads_processing_api_service/constraints.py:146\u001b[0m, in \u001b[0;36mget_possible_values\u001b[0;34m(form, selection, constraints)\u001b[0m\n\u001b[1;32m    144\u001b[0m     \u001b[38;5;28;01melse\u001b[39;00m:\n\u001b[1;32m    145\u001b[0m         \u001b[38;5;28mprint\u001b[39m(\u001b[38;5;124mf\u001b[39m\u001b[38;5;124m'\u001b[39m\u001b[38;5;124mCADS API Error: invalid param \u001b[39m\u001b[38;5;124m\"\u001b[39m\u001b[38;5;132;01m{\u001b[39;00mfield_name\u001b[38;5;132;01m}\u001b[39;00m\u001b[38;5;124m\"\u001b[39m\u001b[38;5;124m'\u001b[39m)\n\u001b[0;32m--> 146\u001b[0m         \u001b[38;5;28;01mraise\u001b[39;00m \u001b[38;5;167;01mKeyError\u001b[39;00m\n\u001b[1;32m    147\u001b[0m \u001b[38;5;28;01mif\u001b[39;00m ok:\n\u001b[1;32m    148\u001b[0m     \u001b[38;5;28;01mfor\u001b[39;00m field_name, valid_values \u001b[38;5;129;01min\u001b[39;00m combination\u001b[38;5;241m.\u001b[39mitems():\n",
      "\u001b[0;31mKeyError\u001b[0m: "
     ]
    }
   ],
   "source": [
    "form = {\"level\": {\"500\"}, \"time\": {\"12:00\", \"00:00\"}, \"param\": {\"Z\", \"T\"}, \"product_type\": {\"mean\"},}\n",
    "\n",
    "constraints = [\n",
    "    {\"level\": {\"500\"}, \"param\": {\"Z\", \"T\"}, \"time\": {\"12:00\", \"00:00\"}},\n",
    "    {\"level\": {\"500\", \"850\"}, \"param\": {\"Z\", \"T\"}, \"product_type\": {\"mean\"}},\n",
    "]\n",
    "\n",
    "cads_processing_api_service.apply_constraints(form, {\"typo\":{\"500\"}}, constraints)"
   ]
  },
  {
   "cell_type": "code",
   "execution_count": 30,
   "id": "ce1d78b2",
   "metadata": {},
   "outputs": [
    {
     "data": {
      "text/plain": [
       "'http://cds2-dev.copernicus-climate.eu/api'"
      ]
     },
     "execution_count": 30,
     "metadata": {},
     "output_type": "execute_result"
    }
   ],
   "source": [
    "api_url"
   ]
  },
  {
   "cell_type": "code",
   "execution_count": 29,
   "id": "5c7a4ae9",
   "metadata": {},
   "outputs": [
    {
     "ename": "TypeError",
     "evalue": "ApiClient.collections() got an unexpected keyword argument 'limit'",
     "output_type": "error",
     "traceback": [
      "\u001b[0;31m---------------------------------------------------------------------------\u001b[0m",
      "\u001b[0;31mTypeError\u001b[0m                                 Traceback (most recent call last)",
      "Cell \u001b[0;32mIn [29], line 2\u001b[0m\n\u001b[1;32m      1\u001b[0m client \u001b[38;5;241m=\u001b[39m cads_api_client\u001b[38;5;241m.\u001b[39mApiClient(url\u001b[38;5;241m=\u001b[39mapi_url, key\u001b[38;5;241m=\u001b[39m\u001b[38;5;124m\"\u001b[39m\u001b[38;5;124m00112233-4455-6677-c899-aabbccddeeff\u001b[39m\u001b[38;5;124m\"\u001b[39m)\n\u001b[0;32m----> 2\u001b[0m collections \u001b[38;5;241m=\u001b[39m \u001b[43mclient\u001b[49m\u001b[38;5;241;43m.\u001b[39;49m\u001b[43mcollections\u001b[49m\u001b[43m(\u001b[49m\u001b[43mlimit\u001b[49m\u001b[38;5;241;43m=\u001b[39;49m\u001b[38;5;241;43m1\u001b[39;49m\u001b[43m,\u001b[49m\u001b[43m \u001b[49m\u001b[43mq\u001b[49m\u001b[38;5;241;43m=\u001b[39;49m\u001b[38;5;124;43m\"\u001b[39;49m\u001b[38;5;124;43mhourly\u001b[39;49m\u001b[38;5;124;43m\"\u001b[39;49m\u001b[43m,\u001b[49m\u001b[43m \u001b[49m\u001b[43mkw\u001b[49m\u001b[38;5;241;43m=\u001b[39;49m\u001b[38;5;124;43m\"\u001b[39;49m\u001b[38;5;124;43mTemporal coverage: Past\u001b[39;49m\u001b[38;5;124;43m\"\u001b[39;49m\u001b[43m)\u001b[49m\n\u001b[1;32m      3\u001b[0m collections\u001b[38;5;241m.\u001b[39mresponse\u001b[38;5;241m.\u001b[39murl\n",
      "\u001b[0;31mTypeError\u001b[0m: ApiClient.collections() got an unexpected keyword argument 'limit'"
     ]
    }
   ],
   "source": [
    "client = cads_api_client.ApiClient(url=api_url, key=\"00112233-4455-6677-c899-aabbccddeeff\")\n",
    "collections = client.collections(limit=1, q=\"hourly\", kw=\"Temporal coverage: Past\")\n",
    "collections.response.url"
   ]
  },
  {
   "cell_type": "code",
   "execution_count": null,
   "id": "7602cf44",
   "metadata": {},
   "outputs": [],
   "source": []
  }
 ],
 "metadata": {
  "kernelspec": {
   "display_name": "Python 3 (ipykernel)",
   "language": "python",
   "name": "python3"
  },
  "language_info": {
   "codemirror_mode": {
    "name": "ipython",
    "version": 3
   },
   "file_extension": ".py",
   "mimetype": "text/x-python",
   "name": "python",
   "nbconvert_exporter": "python",
   "pygments_lexer": "ipython3",
   "version": "3.10.6"
  }
 },
 "nbformat": 4,
 "nbformat_minor": 5
}
