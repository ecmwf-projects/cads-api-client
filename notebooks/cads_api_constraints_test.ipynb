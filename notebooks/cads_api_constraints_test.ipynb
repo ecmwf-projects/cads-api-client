{
 "cells": [
  {
   "cell_type": "markdown",
   "id": "7c97612f",
   "metadata": {},
   "source": [
    "# CADS API: constraints tests"
   ]
  },
  {
   "cell_type": "code",
   "execution_count": 69,
   "id": "14d10194",
   "metadata": {},
   "outputs": [
    {
     "name": "stdout",
     "output_type": "stream",
     "text": [
      "The autoreload extension is already loaded. To reload it, use:\n",
      "  %reload_ext autoreload\n"
     ]
    }
   ],
   "source": [
    "%load_ext autoreload\n",
    "%autoreload 2"
   ]
  },
  {
   "cell_type": "code",
   "execution_count": 70,
   "id": "6655b0d2",
   "metadata": {},
   "outputs": [],
   "source": [
    "import os\n",
    "import xarray as xr\n",
    "\n",
    "import cads_api_client"
   ]
  },
  {
   "cell_type": "code",
   "execution_count": 71,
   "id": "b76bb911",
   "metadata": {},
   "outputs": [
    {
     "data": {
      "text/plain": [
       "'http://cds2-dev.bopen.eu/api'"
      ]
     },
     "execution_count": 71,
     "metadata": {},
     "output_type": "execute_result"
    }
   ],
   "source": [
    "api_url = os.getenv(\"CADS_API_URL\", \"http://cds2-dev.bopen.eu/api\")\n",
    "api_url"
   ]
  },
  {
   "cell_type": "markdown",
   "id": "4336b457",
   "metadata": {},
   "source": [
    "## Client instantiation"
   ]
  },
  {
   "cell_type": "code",
   "execution_count": 72,
   "id": "4916eb9b",
   "metadata": {},
   "outputs": [
    {
     "data": {
      "text/plain": [
       "ApiClient(url='http://cds2-dev.bopen.eu/api', api_key='mysecretpat')"
      ]
     },
     "execution_count": 72,
     "metadata": {},
     "output_type": "execute_result"
    }
   ],
   "source": [
    "client = cads_api_client.ApiClient(api_url, api_key=\"mysecretpat\")\n",
    "client"
   ]
  },
  {
   "cell_type": "markdown",
   "id": "d0be84fb",
   "metadata": {},
   "source": [
    "## Check Collections ids"
   ]
  },
  {
   "cell_type": "code",
   "execution_count": 73,
   "id": "919e391c",
   "metadata": {
    "scrolled": true
   },
   "outputs": [
    {
     "data": {
      "text/plain": [
       "['cams-global-reanalysis-eac4-monthly',\n",
       " 'reanalysis-era5-single-levels',\n",
       " 'reanalysis-era5-land',\n",
       " 'reanalysis-era5-pressure-levels',\n",
       " 'reanalysis-era5-land-monthly-means',\n",
       " 'derived-near-surface-meteorological-variables']"
      ]
     },
     "execution_count": 73,
     "metadata": {},
     "output_type": "execute_result"
    }
   ],
   "source": [
    "client.collections().collection_ids()"
   ]
  },
  {
   "cell_type": "markdown",
   "id": "49378b41",
   "metadata": {},
   "source": [
    "## Constraints API validation\n",
    "\n",
    "**Objective**: verify the correct functioning of the constraints API.\n",
    "\n",
    "**Expected result:** client.valid_values() returns values that can be downloaded together with the input."
   ]
  },
  {
   "cell_type": "markdown",
   "id": "6df27bac",
   "metadata": {},
   "source": [
    "Consider the `\"reanalysis-era5-single-levels\"` dataset \n",
    "\n",
    "In order to check all available values for a dataset leave the `request` param empty  "
   ]
  },
  {
   "cell_type": "code",
   "execution_count": 92,
   "id": "b2a5d0a8",
   "metadata": {},
   "outputs": [
    {
     "data": {
      "text/plain": [
       "{'product_type': ['reanalysis',\n",
       "  'ensemble_members',\n",
       "  'ensemble_spread',\n",
       "  'ensemble_mean'],\n",
       " 'variable': ['mean_vertically_integrated_moisture_divergence',\n",
       "  'trapping_layer_base_height',\n",
       "  'forecast_albedo',\n",
       "  'high_vegetation_cover',\n",
       "  'ice_temperature_layer_1',\n",
       "  'mean_surface_net_short_wave_radiation_flux',\n",
       "  'surface_runoff',\n",
       "  'uv_visible_albedo_for_direct_radiation',\n",
       "  'convective_inhibition',\n",
       "  'vertical_integral_of_potential_internal_and_latent_energy',\n",
       "  'wave_spectral_directional_width',\n",
       "  'lake_ice_depth',\n",
       "  'mean_top_net_long_wave_radiation_flux_clear_sky',\n",
       "  'vertical_integral_of_kinetic_energy',\n",
       "  'mean_surface_downward_long_wave_radiation_flux',\n",
       "  'lake_mix_layer_temperature',\n",
       "  'snowfall',\n",
       "  'mean_direction_of_total_swell',\n",
       "  'mean_top_downward_short_wave_radiation_flux',\n",
       "  'maximum_individual_wave_height',\n",
       "  'free_convective_velocity_over_the_oceans',\n",
       "  'significant_wave_height_of_second_swell_partition',\n",
       "  'normalized_stress_into_ocean',\n",
       "  'mean_sub_surface_runoff_rate',\n",
       "  'mean_large_scale_precipitation_rate',\n",
       "  'vertical_integral_of_northward_total_energy_flux',\n",
       "  'temperature_of_snow_layer',\n",
       "  'vertical_integral_of_northward_ozone_flux',\n",
       "  'boundary_layer_height',\n",
       "  'vertical_integral_of_mass_of_atmosphere',\n",
       "  'vertical_integral_of_divergence_of_kinetic_energy_flux',\n",
       "  'v_component_stokes_drift',\n",
       "  'vertical_integral_of_total_energy',\n",
       "  'mean_top_net_short_wave_radiation_flux',\n",
       "  'peak_wave_period',\n",
       "  'northward_turbulent_surface_stress',\n",
       "  'type_of_low_vegetation',\n",
       "  'minimum_2m_temperature_since_previous_post_processing',\n",
       "  'sea_ice_cover',\n",
       "  'instantaneous_northward_turbulent_surface_stress',\n",
       "  'downward_uv_radiation_at_the_surface',\n",
       "  'mean_wave_direction_of_first_swell_partition',\n",
       "  'wave_spectral_skewness',\n",
       "  'vertical_integral_of_northward_mass_flux',\n",
       "  'surface_net_solar_radiation_clear_sky',\n",
       "  'significant_height_of_total_swell',\n",
       "  'lake_bottom_temperature',\n",
       "  'zero_degree_level',\n",
       "  'mean_wave_period_based_on_first_moment',\n",
       "  'top_net_solar_radiation',\n",
       "  'mean_wave_period_based_on_second_moment_for_wind_waves',\n",
       "  'ocean_surface_stress_equivalent_10m_neutral_wind_speed',\n",
       "  '10m_v_component_of_wind',\n",
       "  'precipitation_type',\n",
       "  'soil_temperature_level_1',\n",
       "  'normalized_energy_flux_into_ocean',\n",
       "  '2m_dewpoint_temperature',\n",
       "  'instantaneous_large_scale_surface_precipitation_fraction',\n",
       "  'total_totals_index',\n",
       "  'mean_top_net_long_wave_radiation_flux',\n",
       "  'volumetric_soil_water_layer_4',\n",
       "  'mean_eastward_turbulent_surface_stress',\n",
       "  'mean_surface_downward_uv_radiation_flux',\n",
       "  'sea_surface_temperature',\n",
       "  'ice_temperature_layer_3',\n",
       "  'wave_spectral_directional_width_for_swell',\n",
       "  'period_corresponding_to_maximum_individual_wave_height',\n",
       "  'mean_snowfall_rate',\n",
       "  'vertical_integral_of_eastward_water_vapour_flux',\n",
       "  'low_vegetation_cover',\n",
       "  'mean_top_net_short_wave_radiation_flux_clear_sky',\n",
       "  'angle_of_sub_gridscale_orography',\n",
       "  'type_of_high_vegetation',\n",
       "  'vertical_integral_of_divergence_of_thermal_energy_flux',\n",
       "  'coefficient_of_drag_with_waves',\n",
       "  'mean_eastward_gravity_wave_surface_stress',\n",
       "  'forecast_logarithm_of_surface_roughness_for_heat',\n",
       "  'vertical_integral_of_eastward_mass_flux',\n",
       "  'anisotropy_of_sub_gridscale_orography',\n",
       "  'cloud_base_height',\n",
       "  'surface_net_thermal_radiation',\n",
       "  'lake_total_layer_temperature',\n",
       "  'total_column_supercooled_liquid_water',\n",
       "  'mean_northward_turbulent_surface_stress',\n",
       "  'lake_cover',\n",
       "  'vertical_integral_of_northward_geopotential_flux',\n",
       "  'snow_albedo',\n",
       "  'vertical_integral_of_eastward_cloud_liquid_water_flux',\n",
       "  'mean_surface_latent_heat_flux',\n",
       "  'mean_wave_period_of_first_swell_partition',\n",
       "  'mean_gravity_wave_dissipation',\n",
       "  'ice_temperature_layer_2',\n",
       "  'northward_gravity_wave_surface_stress',\n",
       "  'normalized_energy_flux_into_waves',\n",
       "  'trapping_layer_top_height',\n",
       "  'surface_pressure',\n",
       "  'surface_net_thermal_radiation_clear_sky',\n",
       "  'mean_surface_net_long_wave_radiation_flux_clear_sky',\n",
       "  'wave_spectral_peakedness',\n",
       "  'runoff',\n",
       "  'total_column_ozone',\n",
       "  'vertical_integral_of_eastward_heat_flux',\n",
       "  'soil_temperature_level_4',\n",
       "  'mean_wave_period_based_on_second_moment_for_swell',\n",
       "  'vertical_integral_of_eastward_geopotential_flux',\n",
       "  'soil_temperature_level_2',\n",
       "  'maximum_total_precipitation_rate_since_previous_post_processing',\n",
       "  'mean_large_scale_snowfall_rate',\n",
       "  'snow_evaporation',\n",
       "  'vertical_integral_of_divergence_of_geopotential_flux',\n",
       "  'significant_height_of_wind_waves',\n",
       "  'ice_temperature_layer_4',\n",
       "  'total_column_cloud_ice_water',\n",
       "  'vertical_integral_of_divergence_of_cloud_liquid_water_flux',\n",
       "  'mean_total_precipitation_rate',\n",
       "  'surface_latent_heat_flux',\n",
       "  'forecast_surface_roughness',\n",
       "  'charnock',\n",
       "  'lake_shape_factor',\n",
       "  'mean_surface_runoff_rate',\n",
       "  'mean_surface_net_short_wave_radiation_flux_clear_sky',\n",
       "  'surface_sensible_heat_flux',\n",
       "  'volumetric_soil_water_layer_1',\n",
       "  'mean_vertical_gradient_of_refractivity_inside_trapping_layer',\n",
       "  'total_column_rain_water',\n",
       "  'vertical_integral_of_divergence_of_ozone_flux',\n",
       "  'vertical_integral_of_divergence_of_mass_flux',\n",
       "  'air_density_over_the_oceans',\n",
       "  'leaf_area_index_high_vegetation',\n",
       "  'skin_temperature',\n",
       "  'mean_convective_precipitation_rate',\n",
       "  'mean_wave_direction_of_third_swell_partition',\n",
       "  'medium_cloud_cover',\n",
       "  'mean_potential_evaporation_rate',\n",
       "  '100m_v_component_of_wind',\n",
       "  'vertical_integral_of_potential_and_internal_energy',\n",
       "  'slope_of_sub_gridscale_orography',\n",
       "  'leaf_area_index_low_vegetation',\n",
       "  'surface_solar_radiation_downwards',\n",
       "  'convective_snowfall',\n",
       "  'snowmelt',\n",
       "  'large_scale_precipitation_fraction',\n",
       "  'mean_large_scale_precipitation_fraction',\n",
       "  'mean_boundary_layer_dissipation',\n",
       "  'vertical_integral_of_temperature',\n",
       "  'convective_rain_rate',\n",
       "  '100m_u_component_of_wind',\n",
       "  'instantaneous_surface_sensible_heat_flux',\n",
       "  'standard_deviation_of_filtered_subgrid_orography',\n",
       "  'mean_snow_evaporation_rate',\n",
       "  'instantaneous_eastward_turbulent_surface_stress',\n",
       "  'vertical_integral_of_mass_tendency',\n",
       "  'mean_runoff_rate',\n",
       "  'total_sky_direct_solar_radiation_at_surface',\n",
       "  'total_column_cloud_liquid_water',\n",
       "  'mean_snowmelt_rate',\n",
       "  '10m_u_component_of_neutral_wind',\n",
       "  'duct_base_height',\n",
       "  'lake_mix_layer_depth',\n",
       "  'mean_wave_direction',\n",
       "  'clear_sky_direct_solar_radiation_at_surface',\n",
       "  'lake_depth',\n",
       "  'vertical_integral_of_eastward_total_energy_flux',\n",
       "  'potential_evaporation',\n",
       "  'total_column_water',\n",
       "  'lake_ice_temperature',\n",
       "  'mean_surface_net_long_wave_radiation_flux',\n",
       "  'wave_spectral_directional_width_for_wind_waves',\n",
       "  'mean_surface_downward_short_wave_radiation_flux_clear_sky',\n",
       "  'instantaneous_10m_wind_gust',\n",
       "  'benjamin_feir_index',\n",
       "  'instantaneous_moisture_flux',\n",
       "  'surface_net_solar_radiation',\n",
       "  'vertical_integral_of_northward_kinetic_energy_flux',\n",
       "  'surface_thermal_radiation_downwards',\n",
       "  'sub_surface_runoff',\n",
       "  'uv_visible_albedo_for_diffuse_radiation',\n",
       "  'near_ir_albedo_for_diffuse_radiation',\n",
       "  'mean_surface_direct_short_wave_radiation_flux_clear_sky',\n",
       "  'mean_zero_crossing_wave_period',\n",
       "  'volumetric_soil_water_layer_3',\n",
       "  'mean_square_slope_of_waves',\n",
       "  'convective_precipitation',\n",
       "  'land_sea_mask',\n",
       "  'mean_surface_downward_short_wave_radiation_flux',\n",
       "  'large_scale_rain_rate',\n",
       "  'vertical_integral_of_northward_heat_flux',\n",
       "  'mean_direction_of_wind_waves',\n",
       "  'large_scale_precipitation',\n",
       "  '10m_wind_gust_since_previous_post_processing',\n",
       "  'standard_deviation_of_orography',\n",
       "  'eastward_gravity_wave_surface_stress',\n",
       "  'ocean_surface_stress_equivalent_10m_neutral_wind_direction',\n",
       "  'toa_incident_solar_radiation',\n",
       "  'vertically_integrated_moisture_divergence',\n",
       "  'vertical_integral_of_northward_cloud_liquid_water_flux',\n",
       "  'mean_convective_snowfall_rate',\n",
       "  'convective_available_potential_energy',\n",
       "  'vertical_integral_of_thermal_energy',\n",
       "  'vertical_integral_of_eastward_ozone_flux',\n",
       "  'boundary_layer_dissipation',\n",
       "  'significant_wave_height_of_third_swell_partition',\n",
       "  'wave_spectral_kurtosis',\n",
       "  'vertical_integral_of_divergence_of_moisture_flux',\n",
       "  'vertical_integral_of_divergence_of_total_energy_flux',\n",
       "  'vertical_integral_of_northward_cloud_frozen_water_flux',\n",
       "  'large_scale_snowfall',\n",
       "  '2m_temperature',\n",
       "  'total_column_snow_water',\n",
       "  'skin_reservoir_content',\n",
       "  'top_net_thermal_radiation',\n",
       "  'surface_thermal_radiation_downward_clear_sky',\n",
       "  'vertical_integral_of_eastward_kinetic_energy_flux',\n",
       "  'significant_height_of_combined_wind_waves_and_swell',\n",
       "  'evaporation',\n",
       "  'gravity_wave_dissipation',\n",
       "  'top_net_solar_radiation_clear_sky',\n",
       "  'maximum_2m_temperature_since_previous_post_processing',\n",
       "  'near_ir_albedo_for_direct_radiation',\n",
       "  'surface_solar_radiation_downward_clear_sky',\n",
       "  'minimum_total_precipitation_rate_since_previous_post_processing',\n",
       "  'mean_wave_period_of_third_swell_partition',\n",
       "  'vertical_integral_of_divergence_of_cloud_frozen_water_flux',\n",
       "  'mean_wave_period_based_on_first_moment_for_wind_waves',\n",
       "  'mean_evaporation_rate',\n",
       "  'mean_sea_level_pressure',\n",
       "  'minimum_vertical_gradient_of_refractivity_inside_trapping_layer',\n",
       "  '10m_u_component_of_wind',\n",
       "  'mean_wave_period_based_on_first_moment_for_swell',\n",
       "  'geopotential',\n",
       "  'soil_temperature_level_3',\n",
       "  'mean_northward_gravity_wave_surface_stress',\n",
       "  'total_column_water_vapour',\n",
       "  'total_cloud_cover',\n",
       "  'mean_period_of_wind_waves',\n",
       "  'mean_surface_direct_short_wave_radiation_flux',\n",
       "  'mean_wave_period',\n",
       "  'k_index',\n",
       "  'mean_wave_period_of_second_swell_partition',\n",
       "  'model_bathymetry',\n",
       "  'mean_surface_downward_long_wave_radiation_flux_clear_sky',\n",
       "  'vertical_integral_of_eastward_cloud_frozen_water_flux',\n",
       "  'mean_wave_direction_of_second_swell_partition',\n",
       "  '10m_v_component_of_neutral_wind',\n",
       "  'vertical_integral_of_northward_water_vapour_flux',\n",
       "  'vertical_integral_of_energy_conversion',\n",
       "  'high_cloud_cover',\n",
       "  'snow_depth',\n",
       "  'snow_density',\n",
       "  'total_precipitation',\n",
       "  'significant_wave_height_of_first_swell_partition',\n",
       "  'large_scale_snowfall_rate_water_equivalent',\n",
       "  'top_net_thermal_radiation_clear_sky',\n",
       "  'mean_surface_sensible_heat_flux',\n",
       "  'eastward_turbulent_surface_stress',\n",
       "  'volumetric_soil_water_layer_2',\n",
       "  'convective_snowfall_rate_water_equivalent',\n",
       "  'friction_velocity',\n",
       "  'soil_type',\n",
       "  'low_cloud_cover',\n",
       "  'mean_period_of_total_swell',\n",
       "  'u_component_stokes_drift'],\n",
       " 'year': ['1970',\n",
       "  '1993',\n",
       "  '1997',\n",
       "  '2006',\n",
       "  '1965',\n",
       "  '1962',\n",
       "  '1979',\n",
       "  '1964',\n",
       "  '2013',\n",
       "  '2008',\n",
       "  '1989',\n",
       "  '1966',\n",
       "  '2015',\n",
       "  '2012',\n",
       "  '2011',\n",
       "  '2001',\n",
       "  '1990',\n",
       "  '1981',\n",
       "  '1977',\n",
       "  '2020',\n",
       "  '1991',\n",
       "  '1980',\n",
       "  '2009',\n",
       "  '1978',\n",
       "  '2003',\n",
       "  '2017',\n",
       "  '1982',\n",
       "  '2019',\n",
       "  '2002',\n",
       "  '1987',\n",
       "  '1994',\n",
       "  '1959',\n",
       "  '1986',\n",
       "  '1996',\n",
       "  '2000',\n",
       "  '1971',\n",
       "  '1995',\n",
       "  '1973',\n",
       "  '2021',\n",
       "  '1975',\n",
       "  '1984',\n",
       "  '1961',\n",
       "  '1972',\n",
       "  '2010',\n",
       "  '1968',\n",
       "  '2007',\n",
       "  '1969',\n",
       "  '2005',\n",
       "  '2018',\n",
       "  '1992',\n",
       "  '1967',\n",
       "  '1985',\n",
       "  '1974',\n",
       "  '1960',\n",
       "  '1988',\n",
       "  '1963',\n",
       "  '2016',\n",
       "  '1999',\n",
       "  '1998',\n",
       "  '2004',\n",
       "  '1983',\n",
       "  '2022',\n",
       "  '1976',\n",
       "  '2014'],\n",
       " 'month': ['10',\n",
       "  '01',\n",
       "  '08',\n",
       "  '06',\n",
       "  '11',\n",
       "  '03',\n",
       "  '04',\n",
       "  '05',\n",
       "  '12',\n",
       "  '09',\n",
       "  '07',\n",
       "  '02'],\n",
       " 'day': ['22',\n",
       "  '28',\n",
       "  '27',\n",
       "  '29',\n",
       "  '08',\n",
       "  '03',\n",
       "  '12',\n",
       "  '30',\n",
       "  '02',\n",
       "  '18',\n",
       "  '11',\n",
       "  '04',\n",
       "  '23',\n",
       "  '31',\n",
       "  '07',\n",
       "  '20',\n",
       "  '16',\n",
       "  '05',\n",
       "  '19',\n",
       "  '09',\n",
       "  '21',\n",
       "  '10',\n",
       "  '26',\n",
       "  '01',\n",
       "  '06',\n",
       "  '24',\n",
       "  '14',\n",
       "  '13',\n",
       "  '17',\n",
       "  '15',\n",
       "  '25'],\n",
       " 'time': ['13:00',\n",
       "  '18:00',\n",
       "  '10:00',\n",
       "  '21:00',\n",
       "  '05:00',\n",
       "  '06:00',\n",
       "  '23:00',\n",
       "  '17:00',\n",
       "  '00:00',\n",
       "  '19:00',\n",
       "  '14:00',\n",
       "  '07:00',\n",
       "  '02:00',\n",
       "  '01:00',\n",
       "  '15:00',\n",
       "  '11:00',\n",
       "  '04:00',\n",
       "  '08:00',\n",
       "  '03:00',\n",
       "  '09:00',\n",
       "  '22:00',\n",
       "  '16:00',\n",
       "  '20:00',\n",
       "  '12:00'],\n",
       " 'format': ['grib', 'netcdf']}"
      ]
     },
     "execution_count": 92,
     "metadata": {},
     "output_type": "execute_result"
    }
   ],
   "source": [
    "client.valid_values(\"reanalysis-era5-single-levels\", {})\n"
   ]
  },
  {
   "cell_type": "markdown",
   "id": "c398606a",
   "metadata": {},
   "source": [
    "### Test 1 - Data availability\n",
    "\n",
    "#### 1.1 - Availability limits\n",
    "The `\"reanalysis-era5-single-levels\"` dataset stops the 31th of october. Checking which values are valid for the year `2022` should return months up to 10 (october).\n"
   ]
  },
  {
   "cell_type": "code",
   "execution_count": 74,
   "id": "52be85f8",
   "metadata": {},
   "outputs": [
    {
     "data": {
      "text/plain": [
       "['01', '02', '03', '04', '05', '06', '07', '08']"
      ]
     },
     "execution_count": 74,
     "metadata": {},
     "output_type": "execute_result"
    }
   ],
   "source": [
    "available_months = client.valid_values(\"reanalysis-era5-single-levels\", {\"year\" : \"2022\"})[\"month\"]\n",
    "available_months.sort()\n",
    "available_months"
   ]
  },
  {
   "cell_type": "markdown",
   "id": "54f20827",
   "metadata": {},
   "source": [
    "#### 1.2  - Unavailable data\n",
    "\n",
    "For a valid key, if the requested value is not valid for the current dataset, the API will suggest a list of valid values:\n"
   ]
  },
  {
   "cell_type": "code",
   "execution_count": 109,
   "id": "3174a165",
   "metadata": {},
   "outputs": [
    {
     "data": {
      "text/plain": [
       "{'product_type': [],\n",
       " 'variable': [],\n",
       " 'year': ['1970',\n",
       "  '1993',\n",
       "  '1997',\n",
       "  '2006',\n",
       "  '1965',\n",
       "  '1962',\n",
       "  '1979',\n",
       "  '1964',\n",
       "  '2013',\n",
       "  '2008',\n",
       "  '1989',\n",
       "  '1966',\n",
       "  '2015',\n",
       "  '2012',\n",
       "  '2011',\n",
       "  '2001',\n",
       "  '1990',\n",
       "  '1981',\n",
       "  '1977',\n",
       "  '2020',\n",
       "  '1991',\n",
       "  '1980',\n",
       "  '2009',\n",
       "  '1978',\n",
       "  '2003',\n",
       "  '2017',\n",
       "  '1982',\n",
       "  '2019',\n",
       "  '2002',\n",
       "  '1987',\n",
       "  '1994',\n",
       "  '1959',\n",
       "  '1986',\n",
       "  '1996',\n",
       "  '2000',\n",
       "  '1971',\n",
       "  '1995',\n",
       "  '1973',\n",
       "  '2021',\n",
       "  '1975',\n",
       "  '1984',\n",
       "  '1961',\n",
       "  '1972',\n",
       "  '2010',\n",
       "  '1968',\n",
       "  '2007',\n",
       "  '1969',\n",
       "  '2005',\n",
       "  '2018',\n",
       "  '1992',\n",
       "  '1967',\n",
       "  '1985',\n",
       "  '1974',\n",
       "  '1960',\n",
       "  '1988',\n",
       "  '1963',\n",
       "  '2016',\n",
       "  '1999',\n",
       "  '1998',\n",
       "  '2004',\n",
       "  '1983',\n",
       "  '2022',\n",
       "  '1976',\n",
       "  '2014'],\n",
       " 'month': [],\n",
       " 'day': [],\n",
       " 'time': [],\n",
       " 'format': ['grib', 'netcdf']}"
      ]
     },
     "execution_count": 109,
     "metadata": {},
     "output_type": "execute_result"
    }
   ],
   "source": [
    "client.valid_values(\"reanalysis-era5-single-levels\", {\"year\":\"-1000\"})"
   ]
  },
  {
   "cell_type": "markdown",
   "id": "30a19da0",
   "metadata": {},
   "source": [
    "### Test 2 - Restricted params\n",
    "\n",
    "Consider the `\"cams-global-reanalysis-eac4-monthly\"` dataset. `\"product_type\":\"monthly_mean\"` should not be compatible with any `\"time\"` value."
   ]
  },
  {
   "cell_type": "code",
   "execution_count": 95,
   "id": "ad8a3657",
   "metadata": {
    "scrolled": false
   },
   "outputs": [
    {
     "data": {
      "text/plain": [
       "[]"
      ]
     },
     "execution_count": 95,
     "metadata": {},
     "output_type": "execute_result"
    }
   ],
   "source": [
    "client.valid_values(\"cams-global-reanalysis-eac4-monthly\", {\"product_type\": \"monthly_mean\"})[\"time\"]"
   ]
  },
  {
   "cell_type": "markdown",
   "id": "76ed8046",
   "metadata": {},
   "source": [
    "On the countrary, if `\"product_type\"` is `\"monthly_mean_by_hour_of_day\"`, all `\"time\"` values should be available"
   ]
  },
  {
   "cell_type": "code",
   "execution_count": 94,
   "id": "be4b34d4",
   "metadata": {},
   "outputs": [
    {
     "data": {
      "text/plain": [
       "['00:00', '03:00', '18:00', '09:00', '15:00', '21:00', '06:00', '12:00']"
      ]
     },
     "execution_count": 94,
     "metadata": {},
     "output_type": "execute_result"
    }
   ],
   "source": [
    "client.valid_values(\"cams-global-reanalysis-eac4-monthly\", {'product_type': 'monthly_mean_by_hour_of_day'})[\"time\"]"
   ]
  },
  {
   "cell_type": "markdown",
   "id": "652f187f",
   "metadata": {},
   "source": [
    "the reverse is also true:"
   ]
  },
  {
   "cell_type": "code",
   "execution_count": 97,
   "id": "d953ee1a",
   "metadata": {},
   "outputs": [
    {
     "data": {
      "text/plain": [
       "['monthly_mean_by_hour_of_day']"
      ]
     },
     "execution_count": 97,
     "metadata": {},
     "output_type": "execute_result"
    }
   ],
   "source": [
    "client.valid_values(\"cams-global-reanalysis-eac4-monthly\", {\"time\": ['00:00', '03:00', '18:00', '09:00', '15:00', '21:00', '06:00', '12:00']})[\"product_type\"]"
   ]
  },
  {
   "cell_type": "markdown",
   "id": "24a05069",
   "metadata": {},
   "source": [
    "### Test 3 - invalid combination\n",
    "Consider the `\"cams-global-reanalysis-eac4-monthly\"` dataset. There should be no valid combinations for `\"time\":\"12:00\"` and `\"product type\":\"montly_mean\"`.\n"
   ]
  },
  {
   "cell_type": "code",
   "execution_count": 78,
   "id": "19574aaa",
   "metadata": {
    "scrolled": false
   },
   "outputs": [
    {
     "data": {
      "text/plain": [
       "{'variable': [],\n",
       " 'pressure_level': [],\n",
       " 'model_level': [],\n",
       " 'year': [],\n",
       " 'month': [],\n",
       " 'product_type': ['monthly_mean_by_hour_of_day'],\n",
       " 'time': [],\n",
       " 'format': ['grib', 'netcdf']}"
      ]
     },
     "execution_count": 78,
     "metadata": {},
     "output_type": "execute_result"
    }
   ],
   "source": [
    "client.valid_values(\"cams-global-reanalysis-eac4-monthly\", {\"product_type\" : \"montly_mean\", \"time\":\"12:00\"})"
   ]
  },
  {
   "cell_type": "markdown",
   "id": "1e4237dc",
   "metadata": {},
   "source": [
    "The API responce suggests that adding `\"monthly_mean_by_hour_of_day\"` to the request may produce some valid values. \n",
    "\n",
    "Indeed:"
   ]
  },
  {
   "cell_type": "code",
   "execution_count": 114,
   "id": "0f15d972",
   "metadata": {
    "scrolled": false
   },
   "outputs": [
    {
     "data": {
      "text/plain": [
       "{'variable': ['vertically_integrated_mass_of_dust_aerosol_0.55-9um',\n",
       "  'sulphur_dioxide',\n",
       "  'ice_temperature_layer_1',\n",
       "  'nitrogen_dioxide',\n",
       "  'leaf_area_index_low_vegetation',\n",
       "  'hydrophobic_organic_matter_aerosol_mixing_ratio',\n",
       "  'total_column_methane',\n",
       "  'particulate_matter_2.5um',\n",
       "  'total_column_nitrogen_monoxide',\n",
       "  'vertically_integrated_mass_of_dust_aerosol_9-20um',\n",
       "  'relative_humidity',\n",
       "  'total_column_propane',\n",
       "  'vertically_integrated_mass_of_sea_salt_aerosol_5-20um',\n",
       "  'vertically_integrated_mass_of_sulphur_dioxide',\n",
       "  'ozone',\n",
       "  '2m_temperature',\n",
       "  'dust_aerosol_optical_depth_550nm',\n",
       "  'formaldehyde',\n",
       "  'vertically_integrated_mass_of_dust_aerosol_0.03-0.55um',\n",
       "  'sulphate_aerosol_mixing_ratio',\n",
       "  'total_column_hydroxyl_radical',\n",
       "  'snow_albedo',\n",
       "  'vertically_integrated_mass_of_hydrophilic_organic_matter_aerosol',\n",
       "  'specific_humidity',\n",
       "  'sea_salt_aerosol_0.03-0.5um_mixing_ratio',\n",
       "  'total_column_nitrogen_dioxide',\n",
       "  'sea_salt_aerosol_5-20um_mixing_ratio',\n",
       "  'potential_vorticity',\n",
       "  'total_column_ethane',\n",
       "  'total_column_sulphur_dioxide',\n",
       "  'surface_pressure',\n",
       "  'nitrogen_monoxide',\n",
       "  'dust_aerosol_0.03-0.55um_mixing_ratio',\n",
       "  'methane_chemistry',\n",
       "  'mean_sea_level_pressure',\n",
       "  'temperature_of_snow_layer',\n",
       "  'sea_salt_aerosol_optical_depth_550nm',\n",
       "  'total_column_water',\n",
       "  'carbon_monoxide',\n",
       "  'dust_aerosol_0.9-20um_mixing_ratio',\n",
       "  'dust_aerosol_0.55-0.9um_mixing_ratio',\n",
       "  'hydroxyl_radical',\n",
       "  'total_column_ozone',\n",
       "  'vertically_integrated_mass_of_hydrophobic_black_carbon_aerosol',\n",
       "  'geopotential',\n",
       "  'total_column_isoprene',\n",
       "  'sea_salt_aerosol_0.5-5um_mixing_ratio',\n",
       "  'temperature',\n",
       "  'total_column_water_vapour',\n",
       "  'particulate_matter_10um',\n",
       "  'vertically_integrated_mass_of_sea_salt_aerosol_0.5-5um',\n",
       "  'sea_ice_cover',\n",
       "  'hydrophilic_organic_matter_aerosol_mixing_ratio',\n",
       "  'nitric_acid',\n",
       "  'sulphate_aerosol_optical_depth_550nm',\n",
       "  'vertically_integrated_mass_of_sea_salt_aerosol_0.03-0.5um',\n",
       "  'propane',\n",
       "  'ethane',\n",
       "  'peroxyacetyl_nitrate',\n",
       "  'charnock',\n",
       "  'vertically_integrated_mass_of_hydrophobic_organic_matter_aerosol',\n",
       "  'so2_precursor_mixing_ratio',\n",
       "  'hydrophilic_black_carbon_aerosol_mixing_ratio',\n",
       "  'soil_temperature_level_1',\n",
       "  'isoprene',\n",
       "  '2m_dewpoint_temperature',\n",
       "  'total_column_nitric_acid',\n",
       "  'vertical_velocity',\n",
       "  'snow_density',\n",
       "  'snow_depth',\n",
       "  'vertically_integrated_mass_of_sulphate_aerosol',\n",
       "  'total_column_carbon_monoxide',\n",
       "  'total_column_formaldehyde',\n",
       "  'vertically_integrated_mass_of_hydrophilic_black_carbon_aerosol',\n",
       "  'organic_matter_aerosol_optical_depth_550nm',\n",
       "  'hydrophobic_black_carbon_aerosol_mixing_ratio',\n",
       "  'sea_surface_temperature',\n",
       "  'leaf_area_index_high_vegetation',\n",
       "  'total_column_peroxyacetyl_nitrate',\n",
       "  'total_aerosol_optical_depth_550nm',\n",
       "  'black_carbon_aerosol_optical_depth_550nm'],\n",
       " 'pressure_level': ['950',\n",
       "  '5',\n",
       "  '2',\n",
       "  '30',\n",
       "  '3',\n",
       "  '100',\n",
       "  '1',\n",
       "  '850',\n",
       "  '925',\n",
       "  '20',\n",
       "  '150',\n",
       "  '300',\n",
       "  '600',\n",
       "  '900',\n",
       "  '1000',\n",
       "  '70',\n",
       "  '500',\n",
       "  '250',\n",
       "  '10',\n",
       "  '700',\n",
       "  '400',\n",
       "  '200',\n",
       "  '800',\n",
       "  '7',\n",
       "  '50'],\n",
       " 'model_level': ['60'],\n",
       " 'year': ['2006',\n",
       "  '2021',\n",
       "  '2013',\n",
       "  '2008',\n",
       "  '2010',\n",
       "  '2015',\n",
       "  '2007',\n",
       "  '2012',\n",
       "  '2005',\n",
       "  '2018',\n",
       "  '2011',\n",
       "  '2020',\n",
       "  '2016',\n",
       "  '2009',\n",
       "  '2017',\n",
       "  '2003',\n",
       "  '2004',\n",
       "  '2019',\n",
       "  '2014'],\n",
       " 'month': ['08',\n",
       "  '03',\n",
       "  '05',\n",
       "  '12',\n",
       "  '09',\n",
       "  '02',\n",
       "  '10',\n",
       "  '01',\n",
       "  '06',\n",
       "  '11',\n",
       "  '04',\n",
       "  '07'],\n",
       " 'product_type': ['monthly_mean_by_hour_of_day'],\n",
       " 'time': ['00:00',\n",
       "  '03:00',\n",
       "  '18:00',\n",
       "  '09:00',\n",
       "  '15:00',\n",
       "  '21:00',\n",
       "  '06:00',\n",
       "  '12:00'],\n",
       " 'format': ['grib', 'netcdf']}"
      ]
     },
     "execution_count": 114,
     "metadata": {},
     "output_type": "execute_result"
    }
   ],
   "source": [
    "client.valid_values(\"cams-global-reanalysis-eac4-monthly\", {\"product_type\" : [\"montly_mean\", \"monthly_mean_by_hour_of_day\"] , \"time\":\"12:00\"})"
   ]
  },
  {
   "cell_type": "markdown",
   "id": "3185092e",
   "metadata": {},
   "source": [
    "### Test 4 - Always valid params\n",
    "\n",
    "Some params are always valid, meaning they can go along with any other combination. These are always returned by the API:"
   ]
  },
  {
   "cell_type": "code",
   "execution_count": 119,
   "id": "689aa0be",
   "metadata": {},
   "outputs": [
    {
     "data": {
      "text/plain": [
       "{'variable': [],\n",
       " 'pressure_level': [],\n",
       " 'model_level': [],\n",
       " 'year': [],\n",
       " 'month': [],\n",
       " 'product_type': [],\n",
       " 'time': [],\n",
       " 'format': ['grib', 'netcdf']}"
      ]
     },
     "execution_count": 119,
     "metadata": {},
     "output_type": "execute_result"
    }
   ],
   "source": [
    "client.valid_values(\"cams-global-reanalysis-eac4-monthly\", {\"product_type\" : \"X\", \"variable\":\"X\"})"
   ]
  },
  {
   "cell_type": "markdown",
   "id": "06ceb32b",
   "metadata": {},
   "source": [
    "### Test 5 - Invalid Keys\n"
   ]
  },
  {
   "cell_type": "markdown",
   "id": "31b72b08",
   "metadata": {},
   "source": [
    "If some param with invalid or misspelled name is requested the API throws an error "
   ]
  },
  {
   "cell_type": "code",
   "execution_count": 120,
   "id": "bc77f79b",
   "metadata": {},
   "outputs": [
    {
     "data": {
      "text/plain": [
       "{'variable': [],\n",
       " 'pressure_level': [],\n",
       " 'model_level': [],\n",
       " 'year': [],\n",
       " 'month': [],\n",
       " 'product_type': [],\n",
       " 'time': [],\n",
       " 'format': ['grib', 'netcdf']}"
      ]
     },
     "execution_count": 120,
     "metadata": {},
     "output_type": "execute_result"
    }
   ],
   "source": [
    "client.valid_values(\"cams-global-reanalysis-eac4-monthly\", {\"invalid_param\":\"X\"})"
   ]
  }
 ],
 "metadata": {
  "kernelspec": {
   "display_name": "Python 3 (ipykernel)",
   "language": "python",
   "name": "python3"
  },
  "language_info": {
   "codemirror_mode": {
    "name": "ipython",
    "version": 3
   },
   "file_extension": ".py",
   "mimetype": "text/x-python",
   "name": "python",
   "nbconvert_exporter": "python",
   "pygments_lexer": "ipython3",
   "version": "3.10.6"
  }
 },
 "nbformat": 4,
 "nbformat_minor": 5
}
