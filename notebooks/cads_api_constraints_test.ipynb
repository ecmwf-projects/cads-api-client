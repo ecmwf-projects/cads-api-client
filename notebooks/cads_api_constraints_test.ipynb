{
 "cells": [
  {
   "cell_type": "markdown",
   "id": "7c97612f",
   "metadata": {},
   "source": [
    "# CADS constraints API tests"
   ]
  },
  {
   "cell_type": "code",
   "execution_count": 127,
   "id": "14d10194",
   "metadata": {},
   "outputs": [
    {
     "name": "stdout",
     "output_type": "stream",
     "text": [
      "The autoreload extension is already loaded. To reload it, use:\n",
      "  %reload_ext autoreload\n"
     ]
    }
   ],
   "source": [
    "%load_ext autoreload\n",
    "%autoreload 2"
   ]
  },
  {
   "cell_type": "code",
   "execution_count": 128,
   "id": "6655b0d2",
   "metadata": {},
   "outputs": [],
   "source": [
    "import os\n",
    "import xarray as xr\n",
    "\n",
    "import cads_api_client\n",
    "import requests"
   ]
  },
  {
   "cell_type": "code",
   "execution_count": 129,
   "id": "b76bb911",
   "metadata": {},
   "outputs": [
    {
     "data": {
      "text/plain": [
       "'http://cds2-dev.bopen.eu/api'"
      ]
     },
     "execution_count": 129,
     "metadata": {},
     "output_type": "execute_result"
    }
   ],
   "source": [
    "api_url = os.getenv(\"CADS_API_URL\", \"http://cds2-dev.bopen.eu/api\")\n",
    "api_url"
   ]
  },
  {
   "cell_type": "markdown",
   "id": "4336b457",
   "metadata": {},
   "source": [
    "## Client instantiation"
   ]
  },
  {
   "cell_type": "code",
   "execution_count": 130,
   "id": "4916eb9b",
   "metadata": {},
   "outputs": [
    {
     "data": {
      "text/plain": [
       "ApiClient(url='http://cds2-dev.bopen.eu/api', api_key='mysecretpat')"
      ]
     },
     "execution_count": 130,
     "metadata": {},
     "output_type": "execute_result"
    }
   ],
   "source": [
    "client = cads_api_client.ApiClient(api_url, api_key=\"mysecretpat\")\n",
    "client"
   ]
  },
  {
   "cell_type": "markdown",
   "id": "d0be84fb",
   "metadata": {},
   "source": [
    "## Check Collections"
   ]
  },
  {
   "cell_type": "code",
   "execution_count": 134,
   "id": "919e391c",
   "metadata": {
    "scrolled": true
   },
   "outputs": [
    {
     "data": {
      "text/plain": [
       "['cams-global-reanalysis-eac4-monthly',\n",
       " 'reanalysis-era5-single-levels',\n",
       " 'reanalysis-era5-land',\n",
       " 'reanalysis-era5-pressure-levels',\n",
       " 'reanalysis-era5-land-monthly-means',\n",
       " 'derived-near-surface-meteorological-variables']"
      ]
     },
     "execution_count": 134,
     "metadata": {},
     "output_type": "execute_result"
    }
   ],
   "source": [
    "client.collections().collection_ids()"
   ]
  },
  {
   "cell_type": "markdown",
   "id": "92ad1059",
   "metadata": {},
   "source": [
    "## Constraints API validation\n",
    "\n",
    "**Objective**: verify the possibility to get all the possible values from the constraints API \n",
    "<hr>\n",
    "\n",
    "_**Expected result**: those values that can be requested in combination with the ones already selected.\n"
   ]
  },
  {
   "cell_type": "markdown",
   "id": "c398606a",
   "metadata": {},
   "source": [
    "### Test 1\n",
    "If the year 2022 is requested only months up to 10 (october) should be available\n"
   ]
  },
  {
   "cell_type": "code",
   "execution_count": 141,
   "id": "52be85f8",
   "metadata": {},
   "outputs": [
    {
     "name": "stdout",
     "output_type": "stream",
     "text": [
      "http://cds2-dev.bopen.eu/api/retrieve/v1/processes/reanalysis-era5-single-levels/constraints\n"
     ]
    },
    {
     "data": {
      "text/plain": [
       "['01', '02', '03', '04', '05', '06', '07', '08']"
      ]
     },
     "execution_count": 141,
     "metadata": {},
     "output_type": "execute_result"
    }
   ],
   "source": [
    "available_months = client.valid_values(\"reanalysis-era5-single-levels\", {\"year\" : \"2022\"})[\"month\"]\n",
    "available_months.sort()\n",
    "available_months"
   ]
  },
  {
   "cell_type": "markdown",
   "id": "30a19da0",
   "metadata": {},
   "source": [
    "### Test 2\n",
    "\n",
    "If requested product_type is \"montly_mean\" only time \"00:00\" should be available"
   ]
  },
  {
   "cell_type": "code",
   "execution_count": 136,
   "id": "ad8a3657",
   "metadata": {
    "scrolled": true
   },
   "outputs": [
    {
     "name": "stdout",
     "output_type": "stream",
     "text": [
      "http://cds2-dev.bopen.eu/api/retrieve/v1/processes/cams-global-reanalysis-eac4-monthly/constraints\n"
     ]
    },
    {
     "data": {
      "text/plain": [
       "{'variable': [],\n",
       " 'pressure_level': [],\n",
       " 'model_level': [],\n",
       " 'year': [],\n",
       " 'month': [],\n",
       " 'product_type': ['monthly_mean_by_hour_of_day', 'monthly_mean'],\n",
       " 'time': [],\n",
       " 'format': ['netcdf', 'grib']}"
      ]
     },
     "execution_count": 136,
     "metadata": {},
     "output_type": "execute_result"
    }
   ],
   "source": [
    "client.valid_values(\"cams-global-reanalysis-eac4-monthly\", {\"product_type\" : \"montly_mean\"})"
   ]
  },
  {
   "cell_type": "markdown",
   "id": "54782e45",
   "metadata": {},
   "source": [
    "### Test 3\n",
    "\n",
    "If time \"12:00\" is requested only product_type \"monthly_mean_by_hour_of_day\" should be available"
   ]
  },
  {
   "cell_type": "code",
   "execution_count": 137,
   "id": "d953ee1a",
   "metadata": {},
   "outputs": [
    {
     "name": "stdout",
     "output_type": "stream",
     "text": [
      "http://cds2-dev.bopen.eu/api/retrieve/v1/processes/cams-global-reanalysis-eac4-monthly/constraints\n"
     ]
    },
    {
     "data": {
      "text/plain": [
       "['monthly_mean_by_hour_of_day']"
      ]
     },
     "execution_count": 137,
     "metadata": {},
     "output_type": "execute_result"
    }
   ],
   "source": [
    "client.valid_values(\"cams-global-reanalysis-eac4-monthly\", {\"time\":\"12:00\"})[\"product_type\"]"
   ]
  },
  {
   "cell_type": "code",
   "execution_count": 138,
   "id": "19574aaa",
   "metadata": {
    "scrolled": true
   },
   "outputs": [
    {
     "name": "stdout",
     "output_type": "stream",
     "text": [
      "http://cds2-dev.bopen.eu/api/retrieve/v1/processes/cams-global-reanalysis-eac4-monthly/constraints\n"
     ]
    },
    {
     "data": {
      "text/plain": [
       "{'variable': [],\n",
       " 'pressure_level': [],\n",
       " 'model_level': [],\n",
       " 'year': [],\n",
       " 'month': [],\n",
       " 'product_type': ['monthly_mean_by_hour_of_day'],\n",
       " 'time': [],\n",
       " 'format': ['netcdf', 'grib']}"
      ]
     },
     "execution_count": 138,
     "metadata": {},
     "output_type": "execute_result"
    }
   ],
   "source": [
    "client.valid_values(\"cams-global-reanalysis-eac4-monthly\", {\"product_type\" : \"montly_mean\", \"time\":\"12:00\"})"
   ]
  },
  {
   "cell_type": "code",
   "execution_count": 139,
   "id": "0f15d972",
   "metadata": {},
   "outputs": [],
   "source": [
    "#url = \"http://cds2-dev.bopen.eu/api/retrieve/v1/processes/cams-global-reanalysis-eac4-monthly/constraints\""
   ]
  },
  {
   "cell_type": "code",
   "execution_count": null,
   "id": "3791d1e5",
   "metadata": {},
   "outputs": [],
   "source": []
  }
 ],
 "metadata": {
  "kernelspec": {
   "display_name": "Python 3 (ipykernel)",
   "language": "python",
   "name": "python3"
  },
  "language_info": {
   "codemirror_mode": {
    "name": "ipython",
    "version": 3
   },
   "file_extension": ".py",
   "mimetype": "text/x-python",
   "name": "python",
   "nbconvert_exporter": "python",
   "pygments_lexer": "ipython3",
   "version": "3.10.6"
  }
 },
 "nbformat": 4,
 "nbformat_minor": 5
}
