{
 "cells": [
  {
   "cell_type": "markdown",
   "id": "7c97612f",
   "metadata": {},
   "source": [
    "# CADS API: constraints tests"
   ]
  },
  {
   "cell_type": "code",
   "execution_count": 1,
   "id": "14d10194",
   "metadata": {},
   "outputs": [],
   "source": [
    "%load_ext autoreload\n",
    "%autoreload 2"
   ]
  },
  {
   "cell_type": "code",
   "execution_count": 2,
   "id": "6655b0d2",
   "metadata": {},
   "outputs": [],
   "source": [
    "import os\n",
    "import xarray as xr\n",
    "\n",
    "import cads_api_client\n",
    "import cads_processing_api_service"
   ]
  },
  {
   "cell_type": "code",
   "execution_count": 3,
   "id": "b76bb911",
   "metadata": {},
   "outputs": [
    {
     "data": {
      "text/plain": [
       "'http://cds2-dev.copernicus-climate.eu/api'"
      ]
     },
     "execution_count": 3,
     "metadata": {},
     "output_type": "execute_result"
    }
   ],
   "source": [
    "api_url = os.getenv(\"CADS_API_URL\", \"http://cds2-dev.copernicus-climate.eu/api\")\n",
    "api_url"
   ]
  },
  {
   "cell_type": "markdown",
   "id": "4336b457",
   "metadata": {},
   "source": [
    "## Client instantiation"
   ]
  },
  {
   "cell_type": "code",
   "execution_count": 4,
   "id": "4916eb9b",
   "metadata": {},
   "outputs": [
    {
     "data": {
      "text/plain": [
       "ApiClient(key='00112233-4455-6677-c899-aabbccddeeff', url='http://cds2-dev.copernicus-climate.eu/api')"
      ]
     },
     "execution_count": 4,
     "metadata": {},
     "output_type": "execute_result"
    }
   ],
   "source": [
    "client = cads_api_client.ApiClient(url=api_url, key=\"00112233-4455-6677-c899-aabbccddeeff\")\n",
    "client"
   ]
  },
  {
   "cell_type": "markdown",
   "id": "d0be84fb",
   "metadata": {},
   "source": [
    "## Check Collections ids"
   ]
  },
  {
   "cell_type": "code",
   "execution_count": 5,
   "id": "919e391c",
   "metadata": {
    "scrolled": true
   },
   "outputs": [
    {
     "data": {
      "text/plain": [
       "['reanalysis-era5-pressure-levels',\n",
       " 'reanalysis-era5-single-levels',\n",
       " 'cams-global-reanalysis-eac4',\n",
       " 'derived-near-surface-meteorological-variables',\n",
       " 'satellite-surface-radiation-budget',\n",
       " 'cams-global-reanalysis-eac4-monthly',\n",
       " 'reanalysis-era5-land-monthly-means',\n",
       " 'reanalysis-era5-land']"
      ]
     },
     "execution_count": 5,
     "metadata": {},
     "output_type": "execute_result"
    }
   ],
   "source": [
    "client.collections().collection_ids()"
   ]
  },
  {
   "cell_type": "markdown",
   "id": "4e53a7ca",
   "metadata": {},
   "source": [
    "## Constraints API validation\n",
    "\n",
    "**Objective**: verify the correct functioning of the constraints API.\n",
    "\n",
    "**Expected result:** client.valid_values() returns values that can be downloaded together with the input."
   ]
  },
  {
   "cell_type": "markdown",
   "id": "dcca8343",
   "metadata": {},
   "source": [
    "### Test 1 - Data availability\n",
    "\n",
    "#### 1.0 - Get all available values"
   ]
  },
  {
   "cell_type": "markdown",
   "id": "b02de4f5",
   "metadata": {},
   "source": [
    "Consider the `\"reanalysis-era5-single-levels\"` dataset \n",
    "\n",
    "In order to get all available values we can leave the `request` param empty  "
   ]
  },
  {
   "cell_type": "code",
   "execution_count": 6,
   "id": "5d880864",
   "metadata": {},
   "outputs": [
    {
     "data": {
      "text/plain": [
       "{'product_type': ['ensemble_mean',\n",
       "  'ensemble_members',\n",
       "  'ensemble_spread',\n",
       "  'reanalysis'],\n",
       " 'variable': ['100m_u_component_of_wind',\n",
       "  '100m_v_component_of_wind',\n",
       "  '10m_u_component_of_neutral_wind',\n",
       "  '10m_u_component_of_wind',\n",
       "  '10m_v_component_of_neutral_wind',\n",
       "  '10m_v_component_of_wind',\n",
       "  '10m_wind_gust_since_previous_post_processing',\n",
       "  '2m_dewpoint_temperature',\n",
       "  '2m_temperature',\n",
       "  'air_density_over_the_oceans',\n",
       "  'angle_of_sub_gridscale_orography',\n",
       "  'anisotropy_of_sub_gridscale_orography',\n",
       "  'benjamin_feir_index',\n",
       "  'boundary_layer_dissipation',\n",
       "  'boundary_layer_height',\n",
       "  'charnock',\n",
       "  'clear_sky_direct_solar_radiation_at_surface',\n",
       "  'cloud_base_height',\n",
       "  'coefficient_of_drag_with_waves',\n",
       "  'convective_available_potential_energy',\n",
       "  'convective_inhibition',\n",
       "  'convective_precipitation',\n",
       "  'convective_rain_rate',\n",
       "  'convective_snowfall',\n",
       "  'convective_snowfall_rate_water_equivalent',\n",
       "  'downward_uv_radiation_at_the_surface',\n",
       "  'duct_base_height',\n",
       "  'eastward_gravity_wave_surface_stress',\n",
       "  'eastward_turbulent_surface_stress',\n",
       "  'evaporation',\n",
       "  'forecast_albedo',\n",
       "  'forecast_logarithm_of_surface_roughness_for_heat',\n",
       "  'forecast_surface_roughness',\n",
       "  'free_convective_velocity_over_the_oceans',\n",
       "  'friction_velocity',\n",
       "  'geopotential',\n",
       "  'gravity_wave_dissipation',\n",
       "  'high_cloud_cover',\n",
       "  'high_vegetation_cover',\n",
       "  'ice_temperature_layer_1',\n",
       "  'ice_temperature_layer_2',\n",
       "  'ice_temperature_layer_3',\n",
       "  'ice_temperature_layer_4',\n",
       "  'instantaneous_10m_wind_gust',\n",
       "  'instantaneous_eastward_turbulent_surface_stress',\n",
       "  'instantaneous_large_scale_surface_precipitation_fraction',\n",
       "  'instantaneous_moisture_flux',\n",
       "  'instantaneous_northward_turbulent_surface_stress',\n",
       "  'instantaneous_surface_sensible_heat_flux',\n",
       "  'k_index',\n",
       "  'lake_bottom_temperature',\n",
       "  'lake_cover',\n",
       "  'lake_depth',\n",
       "  'lake_ice_depth',\n",
       "  'lake_ice_temperature',\n",
       "  'lake_mix_layer_depth',\n",
       "  'lake_mix_layer_temperature',\n",
       "  'lake_shape_factor',\n",
       "  'lake_total_layer_temperature',\n",
       "  'land_sea_mask',\n",
       "  'large_scale_precipitation',\n",
       "  'large_scale_precipitation_fraction',\n",
       "  'large_scale_rain_rate',\n",
       "  'large_scale_snowfall',\n",
       "  'large_scale_snowfall_rate_water_equivalent',\n",
       "  'leaf_area_index_high_vegetation',\n",
       "  'leaf_area_index_low_vegetation',\n",
       "  'low_cloud_cover',\n",
       "  'low_vegetation_cover',\n",
       "  'maximum_2m_temperature_since_previous_post_processing',\n",
       "  'maximum_individual_wave_height',\n",
       "  'maximum_total_precipitation_rate_since_previous_post_processing',\n",
       "  'mean_boundary_layer_dissipation',\n",
       "  'mean_convective_precipitation_rate',\n",
       "  'mean_convective_snowfall_rate',\n",
       "  'mean_direction_of_total_swell',\n",
       "  'mean_direction_of_wind_waves',\n",
       "  'mean_eastward_gravity_wave_surface_stress',\n",
       "  'mean_eastward_turbulent_surface_stress',\n",
       "  'mean_evaporation_rate',\n",
       "  'mean_gravity_wave_dissipation',\n",
       "  'mean_large_scale_precipitation_fraction',\n",
       "  'mean_large_scale_precipitation_rate',\n",
       "  'mean_large_scale_snowfall_rate',\n",
       "  'mean_northward_gravity_wave_surface_stress',\n",
       "  'mean_northward_turbulent_surface_stress',\n",
       "  'mean_period_of_total_swell',\n",
       "  'mean_period_of_wind_waves',\n",
       "  'mean_potential_evaporation_rate',\n",
       "  'mean_runoff_rate',\n",
       "  'mean_sea_level_pressure',\n",
       "  'mean_snow_evaporation_rate',\n",
       "  'mean_snowfall_rate',\n",
       "  'mean_snowmelt_rate',\n",
       "  'mean_square_slope_of_waves',\n",
       "  'mean_sub_surface_runoff_rate',\n",
       "  'mean_surface_direct_short_wave_radiation_flux',\n",
       "  'mean_surface_direct_short_wave_radiation_flux_clear_sky',\n",
       "  'mean_surface_downward_long_wave_radiation_flux',\n",
       "  'mean_surface_downward_long_wave_radiation_flux_clear_sky',\n",
       "  'mean_surface_downward_short_wave_radiation_flux',\n",
       "  'mean_surface_downward_short_wave_radiation_flux_clear_sky',\n",
       "  'mean_surface_downward_uv_radiation_flux',\n",
       "  'mean_surface_latent_heat_flux',\n",
       "  'mean_surface_net_long_wave_radiation_flux',\n",
       "  'mean_surface_net_long_wave_radiation_flux_clear_sky',\n",
       "  'mean_surface_net_short_wave_radiation_flux',\n",
       "  'mean_surface_net_short_wave_radiation_flux_clear_sky',\n",
       "  'mean_surface_runoff_rate',\n",
       "  'mean_surface_sensible_heat_flux',\n",
       "  'mean_top_downward_short_wave_radiation_flux',\n",
       "  'mean_top_net_long_wave_radiation_flux',\n",
       "  'mean_top_net_long_wave_radiation_flux_clear_sky',\n",
       "  'mean_top_net_short_wave_radiation_flux',\n",
       "  'mean_top_net_short_wave_radiation_flux_clear_sky',\n",
       "  'mean_total_precipitation_rate',\n",
       "  'mean_vertical_gradient_of_refractivity_inside_trapping_layer',\n",
       "  'mean_vertically_integrated_moisture_divergence',\n",
       "  'mean_wave_direction',\n",
       "  'mean_wave_direction_of_first_swell_partition',\n",
       "  'mean_wave_direction_of_second_swell_partition',\n",
       "  'mean_wave_direction_of_third_swell_partition',\n",
       "  'mean_wave_period',\n",
       "  'mean_wave_period_based_on_first_moment',\n",
       "  'mean_wave_period_based_on_first_moment_for_swell',\n",
       "  'mean_wave_period_based_on_first_moment_for_wind_waves',\n",
       "  'mean_wave_period_based_on_second_moment_for_swell',\n",
       "  'mean_wave_period_based_on_second_moment_for_wind_waves',\n",
       "  'mean_wave_period_of_first_swell_partition',\n",
       "  'mean_wave_period_of_second_swell_partition',\n",
       "  'mean_wave_period_of_third_swell_partition',\n",
       "  'mean_zero_crossing_wave_period',\n",
       "  'medium_cloud_cover',\n",
       "  'minimum_2m_temperature_since_previous_post_processing',\n",
       "  'minimum_total_precipitation_rate_since_previous_post_processing',\n",
       "  'minimum_vertical_gradient_of_refractivity_inside_trapping_layer',\n",
       "  'model_bathymetry',\n",
       "  'near_ir_albedo_for_diffuse_radiation',\n",
       "  'near_ir_albedo_for_direct_radiation',\n",
       "  'normalized_energy_flux_into_ocean',\n",
       "  'normalized_energy_flux_into_waves',\n",
       "  'normalized_stress_into_ocean',\n",
       "  'northward_gravity_wave_surface_stress',\n",
       "  'northward_turbulent_surface_stress',\n",
       "  'ocean_surface_stress_equivalent_10m_neutral_wind_direction',\n",
       "  'ocean_surface_stress_equivalent_10m_neutral_wind_speed',\n",
       "  'peak_wave_period',\n",
       "  'period_corresponding_to_maximum_individual_wave_height',\n",
       "  'potential_evaporation',\n",
       "  'precipitation_type',\n",
       "  'runoff',\n",
       "  'sea_ice_cover',\n",
       "  'sea_surface_temperature',\n",
       "  'significant_height_of_combined_wind_waves_and_swell',\n",
       "  'significant_height_of_total_swell',\n",
       "  'significant_height_of_wind_waves',\n",
       "  'significant_wave_height_of_first_swell_partition',\n",
       "  'significant_wave_height_of_second_swell_partition',\n",
       "  'significant_wave_height_of_third_swell_partition',\n",
       "  'skin_reservoir_content',\n",
       "  'skin_temperature',\n",
       "  'slope_of_sub_gridscale_orography',\n",
       "  'snow_albedo',\n",
       "  'snow_density',\n",
       "  'snow_depth',\n",
       "  'snow_evaporation',\n",
       "  'snowfall',\n",
       "  'snowmelt',\n",
       "  'soil_temperature_level_1',\n",
       "  'soil_temperature_level_2',\n",
       "  'soil_temperature_level_3',\n",
       "  'soil_temperature_level_4',\n",
       "  'soil_type',\n",
       "  'standard_deviation_of_filtered_subgrid_orography',\n",
       "  'standard_deviation_of_orography',\n",
       "  'sub_surface_runoff',\n",
       "  'surface_latent_heat_flux',\n",
       "  'surface_net_solar_radiation',\n",
       "  'surface_net_solar_radiation_clear_sky',\n",
       "  'surface_net_thermal_radiation',\n",
       "  'surface_net_thermal_radiation_clear_sky',\n",
       "  'surface_pressure',\n",
       "  'surface_runoff',\n",
       "  'surface_sensible_heat_flux',\n",
       "  'surface_solar_radiation_downward_clear_sky',\n",
       "  'surface_solar_radiation_downwards',\n",
       "  'surface_thermal_radiation_downward_clear_sky',\n",
       "  'surface_thermal_radiation_downwards',\n",
       "  'temperature_of_snow_layer',\n",
       "  'toa_incident_solar_radiation',\n",
       "  'top_net_solar_radiation',\n",
       "  'top_net_solar_radiation_clear_sky',\n",
       "  'top_net_thermal_radiation',\n",
       "  'top_net_thermal_radiation_clear_sky',\n",
       "  'total_cloud_cover',\n",
       "  'total_column_cloud_ice_water',\n",
       "  'total_column_cloud_liquid_water',\n",
       "  'total_column_ozone',\n",
       "  'total_column_rain_water',\n",
       "  'total_column_snow_water',\n",
       "  'total_column_supercooled_liquid_water',\n",
       "  'total_column_water',\n",
       "  'total_column_water_vapour',\n",
       "  'total_precipitation',\n",
       "  'total_sky_direct_solar_radiation_at_surface',\n",
       "  'total_totals_index',\n",
       "  'trapping_layer_base_height',\n",
       "  'trapping_layer_top_height',\n",
       "  'type_of_high_vegetation',\n",
       "  'type_of_low_vegetation',\n",
       "  'u_component_stokes_drift',\n",
       "  'uv_visible_albedo_for_diffuse_radiation',\n",
       "  'uv_visible_albedo_for_direct_radiation',\n",
       "  'v_component_stokes_drift',\n",
       "  'vertical_integral_of_divergence_of_cloud_frozen_water_flux',\n",
       "  'vertical_integral_of_divergence_of_cloud_liquid_water_flux',\n",
       "  'vertical_integral_of_divergence_of_geopotential_flux',\n",
       "  'vertical_integral_of_divergence_of_kinetic_energy_flux',\n",
       "  'vertical_integral_of_divergence_of_mass_flux',\n",
       "  'vertical_integral_of_divergence_of_moisture_flux',\n",
       "  'vertical_integral_of_divergence_of_ozone_flux',\n",
       "  'vertical_integral_of_divergence_of_thermal_energy_flux',\n",
       "  'vertical_integral_of_divergence_of_total_energy_flux',\n",
       "  'vertical_integral_of_eastward_cloud_frozen_water_flux',\n",
       "  'vertical_integral_of_eastward_cloud_liquid_water_flux',\n",
       "  'vertical_integral_of_eastward_geopotential_flux',\n",
       "  'vertical_integral_of_eastward_heat_flux',\n",
       "  'vertical_integral_of_eastward_kinetic_energy_flux',\n",
       "  'vertical_integral_of_eastward_mass_flux',\n",
       "  'vertical_integral_of_eastward_ozone_flux',\n",
       "  'vertical_integral_of_eastward_total_energy_flux',\n",
       "  'vertical_integral_of_eastward_water_vapour_flux',\n",
       "  'vertical_integral_of_energy_conversion',\n",
       "  'vertical_integral_of_kinetic_energy',\n",
       "  'vertical_integral_of_mass_of_atmosphere',\n",
       "  'vertical_integral_of_mass_tendency',\n",
       "  'vertical_integral_of_northward_cloud_frozen_water_flux',\n",
       "  'vertical_integral_of_northward_cloud_liquid_water_flux',\n",
       "  'vertical_integral_of_northward_geopotential_flux',\n",
       "  'vertical_integral_of_northward_heat_flux',\n",
       "  'vertical_integral_of_northward_kinetic_energy_flux',\n",
       "  'vertical_integral_of_northward_mass_flux',\n",
       "  'vertical_integral_of_northward_ozone_flux',\n",
       "  'vertical_integral_of_northward_total_energy_flux',\n",
       "  'vertical_integral_of_northward_water_vapour_flux',\n",
       "  'vertical_integral_of_potential_and_internal_energy',\n",
       "  'vertical_integral_of_potential_internal_and_latent_energy',\n",
       "  'vertical_integral_of_temperature',\n",
       "  'vertical_integral_of_thermal_energy',\n",
       "  'vertical_integral_of_total_energy',\n",
       "  'vertically_integrated_moisture_divergence',\n",
       "  'volumetric_soil_water_layer_1',\n",
       "  'volumetric_soil_water_layer_2',\n",
       "  'volumetric_soil_water_layer_3',\n",
       "  'volumetric_soil_water_layer_4',\n",
       "  'wave_spectral_directional_width',\n",
       "  'wave_spectral_directional_width_for_swell',\n",
       "  'wave_spectral_directional_width_for_wind_waves',\n",
       "  'wave_spectral_kurtosis',\n",
       "  'wave_spectral_peakedness',\n",
       "  'wave_spectral_skewness',\n",
       "  'zero_degree_level'],\n",
       " 'year': ['1959',\n",
       "  '1960',\n",
       "  '1961',\n",
       "  '1962',\n",
       "  '1963',\n",
       "  '1964',\n",
       "  '1965',\n",
       "  '1966',\n",
       "  '1967',\n",
       "  '1968',\n",
       "  '1969',\n",
       "  '1970',\n",
       "  '1971',\n",
       "  '1972',\n",
       "  '1973',\n",
       "  '1974',\n",
       "  '1975',\n",
       "  '1976',\n",
       "  '1977',\n",
       "  '1978',\n",
       "  '1979',\n",
       "  '1980',\n",
       "  '1981',\n",
       "  '1982',\n",
       "  '1983',\n",
       "  '1984',\n",
       "  '1985',\n",
       "  '1986',\n",
       "  '1987',\n",
       "  '1988',\n",
       "  '1989',\n",
       "  '1990',\n",
       "  '1991',\n",
       "  '1992',\n",
       "  '1993',\n",
       "  '1994',\n",
       "  '1995',\n",
       "  '1996',\n",
       "  '1997',\n",
       "  '1998',\n",
       "  '1999',\n",
       "  '2000',\n",
       "  '2001',\n",
       "  '2002',\n",
       "  '2003',\n",
       "  '2004',\n",
       "  '2005',\n",
       "  '2006',\n",
       "  '2007',\n",
       "  '2008',\n",
       "  '2009',\n",
       "  '2010',\n",
       "  '2011',\n",
       "  '2012',\n",
       "  '2013',\n",
       "  '2014',\n",
       "  '2015',\n",
       "  '2016',\n",
       "  '2017',\n",
       "  '2018',\n",
       "  '2019',\n",
       "  '2020',\n",
       "  '2021',\n",
       "  '2022'],\n",
       " 'month': ['01',\n",
       "  '02',\n",
       "  '03',\n",
       "  '04',\n",
       "  '05',\n",
       "  '06',\n",
       "  '07',\n",
       "  '08',\n",
       "  '09',\n",
       "  '10',\n",
       "  '11',\n",
       "  '12'],\n",
       " 'day': ['01',\n",
       "  '02',\n",
       "  '03',\n",
       "  '04',\n",
       "  '05',\n",
       "  '06',\n",
       "  '07',\n",
       "  '08',\n",
       "  '09',\n",
       "  '10',\n",
       "  '11',\n",
       "  '12',\n",
       "  '13',\n",
       "  '14',\n",
       "  '15',\n",
       "  '16',\n",
       "  '17',\n",
       "  '18',\n",
       "  '19',\n",
       "  '20',\n",
       "  '21',\n",
       "  '22',\n",
       "  '23',\n",
       "  '24',\n",
       "  '25',\n",
       "  '26',\n",
       "  '27',\n",
       "  '28',\n",
       "  '29',\n",
       "  '30',\n",
       "  '31'],\n",
       " 'time': ['00:00',\n",
       "  '01:00',\n",
       "  '02:00',\n",
       "  '03:00',\n",
       "  '04:00',\n",
       "  '05:00',\n",
       "  '06:00',\n",
       "  '07:00',\n",
       "  '08:00',\n",
       "  '09:00',\n",
       "  '10:00',\n",
       "  '11:00',\n",
       "  '12:00',\n",
       "  '13:00',\n",
       "  '14:00',\n",
       "  '15:00',\n",
       "  '16:00',\n",
       "  '17:00',\n",
       "  '18:00',\n",
       "  '19:00',\n",
       "  '20:00',\n",
       "  '21:00',\n",
       "  '22:00',\n",
       "  '23:00'],\n",
       " 'format': ['grib', 'netcdf']}"
      ]
     },
     "execution_count": 6,
     "metadata": {},
     "output_type": "execute_result"
    }
   ],
   "source": [
    "client.valid_values(\"reanalysis-era5-single-levels\", {})"
   ]
  },
  {
   "cell_type": "markdown",
   "id": "c398606a",
   "metadata": {},
   "source": [
    "\n",
    "#### 1.1 - Availability limits\n",
    "The `\"reanalysis-era5-single-levels\"` dataset stops the 31th of october. Checking which values are valid for the year `\"2022\"` should return month numbers up to 8 (august).\n"
   ]
  },
  {
   "cell_type": "code",
   "execution_count": 7,
   "id": "52be85f8",
   "metadata": {},
   "outputs": [
    {
     "data": {
      "text/plain": [
       "['01', '02', '03', '04', '05', '06', '07', '08', '09', '10', '11', '12']"
      ]
     },
     "execution_count": 7,
     "metadata": {},
     "output_type": "execute_result"
    }
   ],
   "source": [
    "response = client.valid_values(\"reanalysis-era5-single-levels\", {\"year\" : [\"2022\"]})\n",
    "response[\"month\"]"
   ]
  },
  {
   "cell_type": "code",
   "execution_count": 8,
   "id": "385d4566",
   "metadata": {},
   "outputs": [
    {
     "name": "stdout",
     "output_type": "stream",
     "text": [
      "['1959', '1960', '1961', '1962', '1963', '1964', '1965', '1966', '1967', '1968', '1969', '1970', '1971', '1972', '1973', '1974', '1975', '1976', '1977', '1978', '1979', '1980', '1981', '1982', '1983', '1984', '1985', '1986', '1987', '1988', '1989', '1990', '1991', '1992', '1993', '1994', '1995', '1996', '1997', '1998', '1999', '2000', '2001', '2002', '2003', '2004', '2005', '2006', '2007', '2008', '2009', '2010', '2011', '2012', '2013', '2014', '2015', '2016', '2017', '2018', '2019', '2020', '2021', '2022']\n"
     ]
    }
   ],
   "source": [
    "print(response[\"year\"])"
   ]
  },
  {
   "cell_type": "markdown",
   "id": "55fc3b69",
   "metadata": {},
   "source": [
    "#### 1.2  - Unavailable data\n",
    "\n",
    "For a valid key, if none of the requested value(s) are valid, the API will return no valid combinations and suggest a list of valid values for the same key.\n"
   ]
  },
  {
   "cell_type": "code",
   "execution_count": 9,
   "id": "547f293a",
   "metadata": {},
   "outputs": [
    {
     "name": "stdout",
     "output_type": "stream",
     "text": [
      "{'product_type': [], 'variable': [], 'year': ['1959', '1960', '1961', '1962', '1963', '1964', '1965', '1966', '1967', '1968', '1969', '1970', '1971', '1972', '1973', '1974', '1975', '1976', '1977', '1978', '1979', '1980', '1981', '1982', '1983', '1984', '1985', '1986', '1987', '1988', '1989', '1990', '1991', '1992', '1993', '1994', '1995', '1996', '1997', '1998', '1999', '2000', '2001', '2002', '2003', '2004', '2005', '2006', '2007', '2008', '2009', '2010', '2011', '2012', '2013', '2014', '2015', '2016', '2017', '2018', '2019', '2020', '2021', '2022'], 'month': [], 'day': [], 'time': [], 'format': ['grib', 'netcdf']}\n"
     ]
    }
   ],
   "source": [
    "print(client.valid_values(\"reanalysis-era5-single-levels\", {\"year\":[\"1000\"]}))"
   ]
  },
  {
   "cell_type": "markdown",
   "id": "30a19da0",
   "metadata": {},
   "source": [
    "### Test 2 - Restricted params\n",
    "\n",
    "Consider the `\"cams-global-reanalysis-eac4-monthly\"` dataset. \n"
   ]
  },
  {
   "cell_type": "code",
   "execution_count": 10,
   "id": "e4b91d86",
   "metadata": {
    "scrolled": true
   },
   "outputs": [
    {
     "name": "stdout",
     "output_type": "stream",
     "text": [
      "{'variable': ['2m_dewpoint_temperature', '2m_temperature', 'black_carbon_aerosol_optical_depth_550nm', 'carbon_monoxide', 'charnock', 'dust_aerosol_0.03-0.55um_mixing_ratio', 'dust_aerosol_0.55-0.9um_mixing_ratio', 'dust_aerosol_0.9-20um_mixing_ratio', 'dust_aerosol_optical_depth_550nm', 'ethane', 'formaldehyde', 'geopotential', 'hydrophilic_black_carbon_aerosol_mixing_ratio', 'hydrophilic_organic_matter_aerosol_mixing_ratio', 'hydrophobic_black_carbon_aerosol_mixing_ratio', 'hydrophobic_organic_matter_aerosol_mixing_ratio', 'hydroxyl_radical', 'ice_temperature_layer_1', 'isoprene', 'leaf_area_index_high_vegetation', 'leaf_area_index_low_vegetation', 'mean_sea_level_pressure', 'methane_chemistry', 'nitric_acid', 'nitrogen_dioxide', 'nitrogen_monoxide', 'organic_matter_aerosol_optical_depth_550nm', 'ozone', 'particulate_matter_10um', 'particulate_matter_2.5um', 'peroxyacetyl_nitrate', 'potential_vorticity', 'propane', 'relative_humidity', 'sea_ice_cover', 'sea_salt_aerosol_0.03-0.5um_mixing_ratio', 'sea_salt_aerosol_0.5-5um_mixing_ratio', 'sea_salt_aerosol_5-20um_mixing_ratio', 'sea_salt_aerosol_optical_depth_550nm', 'sea_surface_temperature', 'snow_albedo', 'snow_density', 'snow_depth', 'so2_precursor_mixing_ratio', 'soil_temperature_level_1', 'specific_humidity', 'sulphate_aerosol_mixing_ratio', 'sulphate_aerosol_optical_depth_550nm', 'sulphur_dioxide', 'surface_pressure', 'temperature', 'temperature_of_snow_layer', 'total_aerosol_optical_depth_550nm', 'total_column_carbon_monoxide', 'total_column_ethane', 'total_column_formaldehyde', 'total_column_hydroxyl_radical', 'total_column_isoprene', 'total_column_methane', 'total_column_nitric_acid', 'total_column_nitrogen_dioxide', 'total_column_nitrogen_monoxide', 'total_column_ozone', 'total_column_peroxyacetyl_nitrate', 'total_column_propane', 'total_column_sulphur_dioxide', 'total_column_water', 'total_column_water_vapour', 'vertical_velocity', 'vertically_integrated_mass_of_dust_aerosol_0.03-0.55um', 'vertically_integrated_mass_of_dust_aerosol_0.55-9um', 'vertically_integrated_mass_of_dust_aerosol_9-20um', 'vertically_integrated_mass_of_hydrophilic_black_carbon_aerosol', 'vertically_integrated_mass_of_hydrophilic_organic_matter_aerosol', 'vertically_integrated_mass_of_hydrophobic_black_carbon_aerosol', 'vertically_integrated_mass_of_hydrophobic_organic_matter_aerosol', 'vertically_integrated_mass_of_sea_salt_aerosol_0.03-0.5um', 'vertically_integrated_mass_of_sea_salt_aerosol_0.5-5um', 'vertically_integrated_mass_of_sea_salt_aerosol_5-20um', 'vertically_integrated_mass_of_sulphate_aerosol', 'vertically_integrated_mass_of_sulphur_dioxide'], 'pressure_level': ['1', '10', '100', '1000', '150', '2', '20', '200', '250', '3', '30', '300', '400', '5', '50', '500', '600', '7', '70', '700', '800', '850', '900', '925', '950'], 'model_level': ['60'], 'year': ['2003', '2004', '2005', '2006', '2007', '2008', '2009', '2010', '2011', '2012', '2013', '2014', '2015', '2016', '2017', '2018', '2019', '2020', '2021', '2022'], 'month': ['01', '02', '03', '04', '05', '06', '07', '08', '09', '10', '11', '12'], 'product_type': ['monthly_mean', 'monthly_mean_by_hour_of_day'], 'time': ['00:00', '03:00', '06:00', '09:00', '12:00', '15:00', '18:00', '21:00'], 'format': ['grib', 'netcdf']}\n"
     ]
    }
   ],
   "source": [
    "print(client.valid_values(\"cams-global-reanalysis-eac4-monthly\", {}))"
   ]
  },
  {
   "cell_type": "markdown",
   "id": "d5e5370a",
   "metadata": {},
   "source": [
    "selecting `\"product_type\":\"monthly_mean\"` should not be compatible with any `\"time\"` value.\n"
   ]
  },
  {
   "cell_type": "code",
   "execution_count": 11,
   "id": "ad8a3657",
   "metadata": {
    "scrolled": false
   },
   "outputs": [
    {
     "data": {
      "text/plain": [
       "[]"
      ]
     },
     "execution_count": 11,
     "metadata": {},
     "output_type": "execute_result"
    }
   ],
   "source": [
    "response = client.valid_values(\"cams-global-reanalysis-eac4-monthly\", {\"product_type\": [\"monthly_mean\"]})\n",
    "response[\"time\"]"
   ]
  },
  {
   "cell_type": "markdown",
   "id": "8d5c6a4a",
   "metadata": {},
   "source": [
    "On the countrary, if `\"product_type\"` is `\"monthly_mean_by_hour_of_day\"`, all `\"time\"` values should be available"
   ]
  },
  {
   "cell_type": "code",
   "execution_count": 12,
   "id": "91169fe5",
   "metadata": {},
   "outputs": [
    {
     "data": {
      "text/plain": [
       "['00:00', '03:00', '06:00', '09:00', '12:00', '15:00', '18:00', '21:00']"
      ]
     },
     "execution_count": 12,
     "metadata": {},
     "output_type": "execute_result"
    }
   ],
   "source": [
    "client.valid_values(\"cams-global-reanalysis-eac4-monthly\", {'product_type': ['monthly_mean_by_hour_of_day']})[\"time\"]"
   ]
  },
  {
   "cell_type": "markdown",
   "id": "ceee078e",
   "metadata": {},
   "source": [
    "the reverse is also true:"
   ]
  },
  {
   "cell_type": "code",
   "execution_count": 13,
   "id": "d953ee1a",
   "metadata": {},
   "outputs": [
    {
     "data": {
      "text/plain": [
       "['monthly_mean_by_hour_of_day']"
      ]
     },
     "execution_count": 13,
     "metadata": {},
     "output_type": "execute_result"
    }
   ],
   "source": [
    "client.valid_values(\"cams-global-reanalysis-eac4-monthly\", {\"time\": ['00:00', '03:00', '18:00', '09:00', '15:00', '21:00', '06:00', '12:00']})[\"product_type\"]"
   ]
  },
  {
   "cell_type": "markdown",
   "id": "b63c2025",
   "metadata": {},
   "source": [
    "### Test 3 - invalid combination\n",
    "Consider the `\"cams-global-reanalysis-eac4-monthly\"` dataset. \n",
    "\n",
    "There should be no valid values for `\"time\":\"12:00\"` and `\"product type\":\"montly_mean\"`.\n"
   ]
  },
  {
   "cell_type": "code",
   "execution_count": 14,
   "id": "19574aaa",
   "metadata": {
    "scrolled": true
   },
   "outputs": [
    {
     "data": {
      "text/plain": [
       "{'variable': [],\n",
       " 'pressure_level': [],\n",
       " 'model_level': [],\n",
       " 'year': [],\n",
       " 'month': [],\n",
       " 'product_type': ['monthly_mean_by_hour_of_day'],\n",
       " 'time': [],\n",
       " 'format': ['grib', 'netcdf']}"
      ]
     },
     "execution_count": 14,
     "metadata": {},
     "output_type": "execute_result"
    }
   ],
   "source": [
    "client.valid_values(\"cams-global-reanalysis-eac4-monthly\", {\"product_type\" : [\"montly_mean\"], \"time\":[\"12:00\"]})"
   ]
  },
  {
   "cell_type": "markdown",
   "id": "bbf96205",
   "metadata": {},
   "source": [
    "The API responce suggests that adding `\"monthly_mean_by_hour_of_day\"` to the request may produce some valid values. \n",
    "\n",
    "Indeed:"
   ]
  },
  {
   "cell_type": "code",
   "execution_count": 15,
   "id": "0f15d972",
   "metadata": {
    "scrolled": false
   },
   "outputs": [
    {
     "data": {
      "text/plain": [
       "{'variable': ['2m_dewpoint_temperature',\n",
       "  '2m_temperature',\n",
       "  'black_carbon_aerosol_optical_depth_550nm',\n",
       "  'carbon_monoxide',\n",
       "  'charnock',\n",
       "  'dust_aerosol_0.03-0.55um_mixing_ratio',\n",
       "  'dust_aerosol_0.55-0.9um_mixing_ratio',\n",
       "  'dust_aerosol_0.9-20um_mixing_ratio',\n",
       "  'dust_aerosol_optical_depth_550nm',\n",
       "  'ethane',\n",
       "  'formaldehyde',\n",
       "  'geopotential',\n",
       "  'hydrophilic_black_carbon_aerosol_mixing_ratio',\n",
       "  'hydrophilic_organic_matter_aerosol_mixing_ratio',\n",
       "  'hydrophobic_black_carbon_aerosol_mixing_ratio',\n",
       "  'hydrophobic_organic_matter_aerosol_mixing_ratio',\n",
       "  'hydroxyl_radical',\n",
       "  'ice_temperature_layer_1',\n",
       "  'isoprene',\n",
       "  'leaf_area_index_high_vegetation',\n",
       "  'leaf_area_index_low_vegetation',\n",
       "  'mean_sea_level_pressure',\n",
       "  'methane_chemistry',\n",
       "  'nitric_acid',\n",
       "  'nitrogen_dioxide',\n",
       "  'nitrogen_monoxide',\n",
       "  'organic_matter_aerosol_optical_depth_550nm',\n",
       "  'ozone',\n",
       "  'particulate_matter_10um',\n",
       "  'particulate_matter_2.5um',\n",
       "  'peroxyacetyl_nitrate',\n",
       "  'potential_vorticity',\n",
       "  'propane',\n",
       "  'relative_humidity',\n",
       "  'sea_ice_cover',\n",
       "  'sea_salt_aerosol_0.03-0.5um_mixing_ratio',\n",
       "  'sea_salt_aerosol_0.5-5um_mixing_ratio',\n",
       "  'sea_salt_aerosol_5-20um_mixing_ratio',\n",
       "  'sea_salt_aerosol_optical_depth_550nm',\n",
       "  'sea_surface_temperature',\n",
       "  'snow_albedo',\n",
       "  'snow_density',\n",
       "  'snow_depth',\n",
       "  'so2_precursor_mixing_ratio',\n",
       "  'soil_temperature_level_1',\n",
       "  'specific_humidity',\n",
       "  'sulphate_aerosol_mixing_ratio',\n",
       "  'sulphate_aerosol_optical_depth_550nm',\n",
       "  'sulphur_dioxide',\n",
       "  'surface_pressure',\n",
       "  'temperature',\n",
       "  'temperature_of_snow_layer',\n",
       "  'total_aerosol_optical_depth_550nm',\n",
       "  'total_column_carbon_monoxide',\n",
       "  'total_column_ethane',\n",
       "  'total_column_formaldehyde',\n",
       "  'total_column_hydroxyl_radical',\n",
       "  'total_column_isoprene',\n",
       "  'total_column_methane',\n",
       "  'total_column_nitric_acid',\n",
       "  'total_column_nitrogen_dioxide',\n",
       "  'total_column_nitrogen_monoxide',\n",
       "  'total_column_ozone',\n",
       "  'total_column_peroxyacetyl_nitrate',\n",
       "  'total_column_propane',\n",
       "  'total_column_sulphur_dioxide',\n",
       "  'total_column_water',\n",
       "  'total_column_water_vapour',\n",
       "  'vertical_velocity',\n",
       "  'vertically_integrated_mass_of_dust_aerosol_0.03-0.55um',\n",
       "  'vertically_integrated_mass_of_dust_aerosol_0.55-9um',\n",
       "  'vertically_integrated_mass_of_dust_aerosol_9-20um',\n",
       "  'vertically_integrated_mass_of_hydrophilic_black_carbon_aerosol',\n",
       "  'vertically_integrated_mass_of_hydrophilic_organic_matter_aerosol',\n",
       "  'vertically_integrated_mass_of_hydrophobic_black_carbon_aerosol',\n",
       "  'vertically_integrated_mass_of_hydrophobic_organic_matter_aerosol',\n",
       "  'vertically_integrated_mass_of_sea_salt_aerosol_0.03-0.5um',\n",
       "  'vertically_integrated_mass_of_sea_salt_aerosol_0.5-5um',\n",
       "  'vertically_integrated_mass_of_sea_salt_aerosol_5-20um',\n",
       "  'vertically_integrated_mass_of_sulphate_aerosol',\n",
       "  'vertically_integrated_mass_of_sulphur_dioxide'],\n",
       " 'pressure_level': ['1',\n",
       "  '10',\n",
       "  '100',\n",
       "  '1000',\n",
       "  '150',\n",
       "  '2',\n",
       "  '20',\n",
       "  '200',\n",
       "  '250',\n",
       "  '3',\n",
       "  '30',\n",
       "  '300',\n",
       "  '400',\n",
       "  '5',\n",
       "  '50',\n",
       "  '500',\n",
       "  '600',\n",
       "  '7',\n",
       "  '70',\n",
       "  '700',\n",
       "  '800',\n",
       "  '850',\n",
       "  '900',\n",
       "  '925',\n",
       "  '950'],\n",
       " 'model_level': ['60'],\n",
       " 'year': ['2003',\n",
       "  '2004',\n",
       "  '2005',\n",
       "  '2006',\n",
       "  '2007',\n",
       "  '2008',\n",
       "  '2009',\n",
       "  '2010',\n",
       "  '2011',\n",
       "  '2012',\n",
       "  '2013',\n",
       "  '2014',\n",
       "  '2015',\n",
       "  '2016',\n",
       "  '2017',\n",
       "  '2018',\n",
       "  '2019',\n",
       "  '2020',\n",
       "  '2021',\n",
       "  '2022'],\n",
       " 'month': ['01',\n",
       "  '02',\n",
       "  '03',\n",
       "  '04',\n",
       "  '05',\n",
       "  '06',\n",
       "  '07',\n",
       "  '08',\n",
       "  '09',\n",
       "  '10',\n",
       "  '11',\n",
       "  '12'],\n",
       " 'product_type': ['monthly_mean_by_hour_of_day'],\n",
       " 'time': ['00:00',\n",
       "  '03:00',\n",
       "  '06:00',\n",
       "  '09:00',\n",
       "  '12:00',\n",
       "  '15:00',\n",
       "  '18:00',\n",
       "  '21:00'],\n",
       " 'format': ['grib', 'netcdf']}"
      ]
     },
     "execution_count": 15,
     "metadata": {},
     "output_type": "execute_result"
    }
   ],
   "source": [
    "client.valid_values(\n",
    "    \"cams-global-reanalysis-eac4-monthly\", \n",
    "    {\"product_type\" : [\"montly_mean\", \"monthly_mean_by_hour_of_day\"] , \"time\":\"12:00\"}\n",
    ")"
   ]
  },
  {
   "cell_type": "markdown",
   "id": "2dd9531d",
   "metadata": {},
   "source": [
    "### Test 4 - Always valid params\n",
    "\n",
    "Some params are always valid, meaning they can go along with any other combination. Theese are always returned by the API:"
   ]
  },
  {
   "cell_type": "code",
   "execution_count": 16,
   "id": "b6457e5d",
   "metadata": {},
   "outputs": [
    {
     "data": {
      "text/plain": [
       "{'variable': [],\n",
       " 'pressure_level': [],\n",
       " 'model_level': [],\n",
       " 'year': [],\n",
       " 'month': [],\n",
       " 'product_type': [],\n",
       " 'time': [],\n",
       " 'format': ['grib', 'netcdf']}"
      ]
     },
     "execution_count": 16,
     "metadata": {},
     "output_type": "execute_result"
    }
   ],
   "source": [
    "client.valid_values(\"cams-global-reanalysis-eac4-monthly\", {\"product_type\" : [\"X\"], \"variable\":[\"X\"]})"
   ]
  },
  {
   "cell_type": "markdown",
   "id": "0a78ed2d",
   "metadata": {},
   "source": [
    "### Test 5 - Invalid Keys\n"
   ]
  },
  {
   "cell_type": "markdown",
   "id": "19a769de",
   "metadata": {},
   "source": [
    "If some param with invalid or misspelled name is requested the API throws an error "
   ]
  },
  {
   "cell_type": "code",
   "execution_count": 18,
   "id": "727ce339",
   "metadata": {
    "scrolled": true
   },
   "outputs": [
    {
     "ename": "HTTPError",
     "evalue": "500 Server Error: Internal Server Error for url: http://cds2-dev.copernicus-climate.eu/api/retrieve/v1/processes/cams-global-reanalysis-eac4-monthly/constraints",
     "output_type": "error",
     "traceback": [
      "\u001b[0;31m---------------------------------------------------------------------------\u001b[0m",
      "\u001b[0;31mHTTPError\u001b[0m                                 Traceback (most recent call last)",
      "Cell \u001b[0;32mIn [18], line 1\u001b[0m\n\u001b[0;32m----> 1\u001b[0m \u001b[43mclient\u001b[49m\u001b[38;5;241;43m.\u001b[39;49m\u001b[43mvalid_values\u001b[49m\u001b[43m(\u001b[49m\u001b[38;5;124;43m\"\u001b[39;49m\u001b[38;5;124;43mcams-global-reanalysis-eac4-monthly\u001b[39;49m\u001b[38;5;124;43m\"\u001b[39;49m\u001b[43m,\u001b[49m\u001b[43m \u001b[49m\u001b[43m{\u001b[49m\u001b[38;5;124;43m\"\u001b[39;49m\u001b[38;5;124;43minvalid_param\u001b[39;49m\u001b[38;5;124;43m\"\u001b[39;49m\u001b[43m:\u001b[49m\u001b[43m[\u001b[49m\u001b[38;5;124;43m\"\u001b[39;49m\u001b[38;5;124;43mX\u001b[39;49m\u001b[38;5;124;43m\"\u001b[39;49m\u001b[43m]\u001b[49m\u001b[43m}\u001b[49m\u001b[43m)\u001b[49m\n",
      "File \u001b[0;32m~/devel/cads/cads-api-client/cads_api_client/api_client.py:64\u001b[0m, in \u001b[0;36mApiClient.valid_values\u001b[0;34m(self, collection_id, request)\u001b[0m\n\u001b[1;32m     60\u001b[0m \u001b[38;5;28;01mdef\u001b[39;00m \u001b[38;5;21mvalid_values\u001b[39m(\n\u001b[1;32m     61\u001b[0m     \u001b[38;5;28mself\u001b[39m, collection_id: \u001b[38;5;28mstr\u001b[39m, request: \u001b[38;5;28mdict\u001b[39m[\u001b[38;5;28mstr\u001b[39m, Any]\n\u001b[1;32m     62\u001b[0m ) \u001b[38;5;241m-\u001b[39m\u001b[38;5;241m>\u001b[39m \u001b[38;5;28mdict\u001b[39m[\u001b[38;5;28mstr\u001b[39m, Any]:\n\u001b[1;32m     63\u001b[0m     process \u001b[38;5;241m=\u001b[39m \u001b[38;5;28mself\u001b[39m\u001b[38;5;241m.\u001b[39mretrieve_api\u001b[38;5;241m.\u001b[39mprocess(collection_id)\n\u001b[0;32m---> 64\u001b[0m     \u001b[38;5;28;01mreturn\u001b[39;00m \u001b[43mprocess\u001b[49m\u001b[38;5;241;43m.\u001b[39;49m\u001b[43mvalid_values\u001b[49m\u001b[43m(\u001b[49m\u001b[43mrequest\u001b[49m\u001b[43m)\u001b[49m\n",
      "File \u001b[0;32m~/devel/cads/cads-api-client/cads_api_client/processing.py:89\u001b[0m, in \u001b[0;36mProcess.valid_values\u001b[0;34m(self, request)\u001b[0m\n\u001b[1;32m     87\u001b[0m \u001b[38;5;28;01mdef\u001b[39;00m \u001b[38;5;21mvalid_values\u001b[39m(\u001b[38;5;28mself\u001b[39m, request: \u001b[38;5;28mdict\u001b[39m[\u001b[38;5;28mstr\u001b[39m, Any] \u001b[38;5;241m=\u001b[39m {}) \u001b[38;5;241m-\u001b[39m\u001b[38;5;241m>\u001b[39m \u001b[38;5;28mdict\u001b[39m[\u001b[38;5;28mstr\u001b[39m, Any]:\n\u001b[1;32m     88\u001b[0m     url \u001b[38;5;241m=\u001b[39m \u001b[38;5;124mf\u001b[39m\u001b[38;5;124m\"\u001b[39m\u001b[38;5;132;01m{\u001b[39;00m\u001b[38;5;28mself\u001b[39m\u001b[38;5;241m.\u001b[39mresponse\u001b[38;5;241m.\u001b[39mrequest\u001b[38;5;241m.\u001b[39murl\u001b[38;5;132;01m}\u001b[39;00m\u001b[38;5;124m/constraints\u001b[39m\u001b[38;5;124m\"\u001b[39m\n\u001b[0;32m---> 89\u001b[0m     response \u001b[38;5;241m=\u001b[39m \u001b[43mApiResponse\u001b[49m\u001b[38;5;241;43m.\u001b[39;49m\u001b[43mfrom_request\u001b[49m\u001b[43m(\u001b[49m\u001b[38;5;124;43m\"\u001b[39;49m\u001b[38;5;124;43mpost\u001b[39;49m\u001b[38;5;124;43m\"\u001b[39;49m\u001b[43m,\u001b[49m\u001b[43m \u001b[49m\u001b[43murl\u001b[49m\u001b[43m,\u001b[49m\u001b[43m \u001b[49m\u001b[43mjson\u001b[49m\u001b[38;5;241;43m=\u001b[39;49m\u001b[43m{\u001b[49m\u001b[38;5;124;43m\"\u001b[39;49m\u001b[38;5;124;43minputs\u001b[39;49m\u001b[38;5;124;43m\"\u001b[39;49m\u001b[43m:\u001b[49m\u001b[43m \u001b[49m\u001b[43mrequest\u001b[49m\u001b[43m}\u001b[49m\u001b[43m)\u001b[49m\n\u001b[1;32m     90\u001b[0m     response\u001b[38;5;241m.\u001b[39mresponse\u001b[38;5;241m.\u001b[39mraise_for_status()\n\u001b[1;32m     91\u001b[0m     \u001b[38;5;28;01mreturn\u001b[39;00m response\u001b[38;5;241m.\u001b[39mjson\n",
      "File \u001b[0;32m~/devel/cads/cads-api-client/cads_api_client/processing.py:42\u001b[0m, in \u001b[0;36mApiResponse.from_request\u001b[0;34m(cls, raise_for_status, *args, **kwargs)\u001b[0m\n\u001b[1;32m     40\u001b[0m response \u001b[38;5;241m=\u001b[39m requests\u001b[38;5;241m.\u001b[39mrequest(\u001b[38;5;241m*\u001b[39margs, \u001b[38;5;241m*\u001b[39m\u001b[38;5;241m*\u001b[39mkwargs)\n\u001b[1;32m     41\u001b[0m \u001b[38;5;28;01mif\u001b[39;00m raise_for_status:\n\u001b[0;32m---> 42\u001b[0m     \u001b[43mresponse\u001b[49m\u001b[38;5;241;43m.\u001b[39;49m\u001b[43mraise_for_status\u001b[49m\u001b[43m(\u001b[49m\u001b[43m)\u001b[49m\n\u001b[1;32m     43\u001b[0m \u001b[38;5;28mself\u001b[39m \u001b[38;5;241m=\u001b[39m \u001b[38;5;28mcls\u001b[39m(response, headers\u001b[38;5;241m=\u001b[39mkwargs\u001b[38;5;241m.\u001b[39mget(\u001b[38;5;124m\"\u001b[39m\u001b[38;5;124mheaders\u001b[39m\u001b[38;5;124m\"\u001b[39m, {}))\n\u001b[1;32m     44\u001b[0m \u001b[38;5;28;01mreturn\u001b[39;00m \u001b[38;5;28mself\u001b[39m\n",
      "File \u001b[0;32m~/opt/miniconda3/envs/cads/lib/python3.10/site-packages/requests/models.py:1021\u001b[0m, in \u001b[0;36mResponse.raise_for_status\u001b[0;34m(self)\u001b[0m\n\u001b[1;32m   1016\u001b[0m     http_error_msg \u001b[38;5;241m=\u001b[39m (\n\u001b[1;32m   1017\u001b[0m         \u001b[38;5;124mf\u001b[39m\u001b[38;5;124m\"\u001b[39m\u001b[38;5;132;01m{\u001b[39;00m\u001b[38;5;28mself\u001b[39m\u001b[38;5;241m.\u001b[39mstatus_code\u001b[38;5;132;01m}\u001b[39;00m\u001b[38;5;124m Server Error: \u001b[39m\u001b[38;5;132;01m{\u001b[39;00mreason\u001b[38;5;132;01m}\u001b[39;00m\u001b[38;5;124m for url: \u001b[39m\u001b[38;5;132;01m{\u001b[39;00m\u001b[38;5;28mself\u001b[39m\u001b[38;5;241m.\u001b[39murl\u001b[38;5;132;01m}\u001b[39;00m\u001b[38;5;124m\"\u001b[39m\n\u001b[1;32m   1018\u001b[0m     )\n\u001b[1;32m   1020\u001b[0m \u001b[38;5;28;01mif\u001b[39;00m http_error_msg:\n\u001b[0;32m-> 1021\u001b[0m     \u001b[38;5;28;01mraise\u001b[39;00m HTTPError(http_error_msg, response\u001b[38;5;241m=\u001b[39m\u001b[38;5;28mself\u001b[39m)\n",
      "\u001b[0;31mHTTPError\u001b[0m: 500 Server Error: Internal Server Error for url: http://cds2-dev.copernicus-climate.eu/api/retrieve/v1/processes/cams-global-reanalysis-eac4-monthly/constraints"
     ]
    }
   ],
   "source": [
    "client.valid_values(\"cams-global-reanalysis-eac4-monthly\", {\"invalid_param\":[\"X\"]})"
   ]
  },
  {
   "cell_type": "code",
   "execution_count": null,
   "id": "bf839bf5",
   "metadata": {},
   "outputs": [],
   "source": []
  }
 ],
 "metadata": {
  "kernelspec": {
   "display_name": "Python 3 (ipykernel)",
   "language": "python",
   "name": "python3"
  },
  "language_info": {
   "codemirror_mode": {
    "name": "ipython",
    "version": 3
   },
   "file_extension": ".py",
   "mimetype": "text/x-python",
   "name": "python",
   "nbconvert_exporter": "python",
   "pygments_lexer": "ipython3",
   "version": "3.10.6"
  }
 },
 "nbformat": 4,
 "nbformat_minor": 5
}
