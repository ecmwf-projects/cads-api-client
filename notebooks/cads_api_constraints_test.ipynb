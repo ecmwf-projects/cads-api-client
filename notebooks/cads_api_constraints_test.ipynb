{
 "cells": [
  {
   "cell_type": "markdown",
   "id": "7c97612f",
   "metadata": {},
   "source": [
    "# CADS API: constraints tests"
   ]
  },
  {
   "cell_type": "code",
   "execution_count": 1,
   "id": "14d10194",
   "metadata": {},
   "outputs": [],
   "source": [
    "%load_ext autoreload\n",
    "%autoreload 2"
   ]
  },
  {
   "cell_type": "code",
   "execution_count": 2,
   "id": "6655b0d2",
   "metadata": {},
   "outputs": [],
   "source": [
    "import os\n",
    "import xarray as xr\n",
    "\n",
    "import cads_api_client\n",
    "import cads_processing_api_service"
   ]
  },
  {
   "cell_type": "code",
   "execution_count": 3,
   "id": "b76bb911",
   "metadata": {},
   "outputs": [
    {
     "data": {
      "text/plain": [
       "'http://cds2-dev.copernicus-climate.eu/api'"
      ]
     },
     "execution_count": 3,
     "metadata": {},
     "output_type": "execute_result"
    }
   ],
   "source": [
    "api_url = os.getenv(\"CADS_API_URL\", \"http://cds2-dev.copernicus-climate.eu/api\")\n",
    "api_url"
   ]
  },
  {
   "cell_type": "markdown",
   "id": "4336b457",
   "metadata": {},
   "source": [
    "## Client instantiation"
   ]
  },
  {
   "cell_type": "code",
   "execution_count": 4,
   "id": "4916eb9b",
   "metadata": {},
   "outputs": [
    {
     "data": {
      "text/plain": [
       "ApiClient(key='00112233-4455-6677-c899-aabbccddeeff', url='http://cds2-dev.copernicus-climate.eu/api')"
      ]
     },
     "execution_count": 4,
     "metadata": {},
     "output_type": "execute_result"
    }
   ],
   "source": [
    "client = cads_api_client.ApiClient(url=api_url, key=\"00112233-4455-6677-c899-aabbccddeeff\")\n",
    "client"
   ]
  },
  {
   "cell_type": "markdown",
   "id": "d0be84fb",
   "metadata": {},
   "source": [
    "## Check Collections ids"
   ]
  },
  {
   "cell_type": "code",
   "execution_count": 5,
   "id": "919e391c",
   "metadata": {
    "scrolled": true
   },
   "outputs": [
    {
     "data": {
      "text/plain": [
       "['derived-near-surface-meteorological-variables',\n",
       " 'reanalysis-era5-land-monthly-means',\n",
       " 'reanalysis-era5-land',\n",
       " 'cams-global-reanalysis-eac4-monthly',\n",
       " 'reanalysis-era5-single-levels',\n",
       " 'reanalysis-era5-pressure-levels',\n",
       " 'cams-global-reanalysis-eac4',\n",
       " 'satellite-surface-radiation-budget']"
      ]
     },
     "execution_count": 5,
     "metadata": {},
     "output_type": "execute_result"
    }
   ],
   "source": [
    "client.collections().collection_ids()"
   ]
  },
  {
   "cell_type": "markdown",
   "id": "4e53a7ca",
   "metadata": {},
   "source": [
    "## Constraints API validation\n",
    "\n",
    "**Objective**: verify the correct functioning of the constraints API.\n",
    "\n",
    "**Expected result:** client.valid_values() returns values that can be downloaded together with the input."
   ]
  },
  {
   "cell_type": "markdown",
   "id": "dcca8343",
   "metadata": {},
   "source": [
    "### Test 1 - Data availability\n",
    "\n",
    "#### 1.0 - Get all available values"
   ]
  },
  {
   "cell_type": "markdown",
   "id": "b02de4f5",
   "metadata": {},
   "source": [
    "Consider the `\"reanalysis-era5-single-levels\"` dataset \n",
    "\n",
    "In order to get all available values we can leave the `request` param empty  "
   ]
  },
  {
   "cell_type": "code",
   "execution_count": 9,
   "id": "5d880864",
   "metadata": {},
   "outputs": [
    {
     "ename": "HTTPError",
     "evalue": "500 Server Error: Internal Server Error for url: http://cds2-dev.copernicus-climate.eu/api/retrieve/v1/processes/reanalysis-era5-single-levels/constraints",
     "output_type": "error",
     "traceback": [
      "\u001b[0;31m---------------------------------------------------------------------------\u001b[0m",
      "\u001b[0;31mHTTPError\u001b[0m                                 Traceback (most recent call last)",
      "Cell \u001b[0;32mIn [9], line 1\u001b[0m\n\u001b[0;32m----> 1\u001b[0m \u001b[43mclient\u001b[49m\u001b[38;5;241;43m.\u001b[39;49m\u001b[43mvalid_values\u001b[49m\u001b[43m(\u001b[49m\u001b[38;5;124;43m\"\u001b[39;49m\u001b[38;5;124;43mreanalysis-era5-single-levels\u001b[39;49m\u001b[38;5;124;43m\"\u001b[39;49m\u001b[43m,\u001b[49m\u001b[43m \u001b[49m\u001b[43m{\u001b[49m\u001b[43m}\u001b[49m\u001b[43m)\u001b[49m\n",
      "File \u001b[0;32m~/devel/cads/cads-api-client/cads_api_client/api_client.py:64\u001b[0m, in \u001b[0;36mApiClient.valid_values\u001b[0;34m(self, collection_id, request)\u001b[0m\n\u001b[1;32m     60\u001b[0m \u001b[38;5;28;01mdef\u001b[39;00m \u001b[38;5;21mvalid_values\u001b[39m(\n\u001b[1;32m     61\u001b[0m     \u001b[38;5;28mself\u001b[39m, collection_id: \u001b[38;5;28mstr\u001b[39m, request: \u001b[38;5;28mdict\u001b[39m[\u001b[38;5;28mstr\u001b[39m, Any]\n\u001b[1;32m     62\u001b[0m ) \u001b[38;5;241m-\u001b[39m\u001b[38;5;241m>\u001b[39m \u001b[38;5;28mdict\u001b[39m[\u001b[38;5;28mstr\u001b[39m, Any]:\n\u001b[1;32m     63\u001b[0m     process \u001b[38;5;241m=\u001b[39m \u001b[38;5;28mself\u001b[39m\u001b[38;5;241m.\u001b[39mretrieve_api\u001b[38;5;241m.\u001b[39mprocess(collection_id)\n\u001b[0;32m---> 64\u001b[0m     \u001b[38;5;28;01mreturn\u001b[39;00m \u001b[43mprocess\u001b[49m\u001b[38;5;241;43m.\u001b[39;49m\u001b[43mvalid_values\u001b[49m\u001b[43m(\u001b[49m\u001b[43mrequest\u001b[49m\u001b[43m)\u001b[49m\n",
      "File \u001b[0;32m~/devel/cads/cads-api-client/cads_api_client/processing.py:89\u001b[0m, in \u001b[0;36mProcess.valid_values\u001b[0;34m(self, request)\u001b[0m\n\u001b[1;32m     87\u001b[0m \u001b[38;5;28;01mdef\u001b[39;00m \u001b[38;5;21mvalid_values\u001b[39m(\u001b[38;5;28mself\u001b[39m, request: \u001b[38;5;28mdict\u001b[39m[\u001b[38;5;28mstr\u001b[39m, Any] \u001b[38;5;241m=\u001b[39m {}) \u001b[38;5;241m-\u001b[39m\u001b[38;5;241m>\u001b[39m \u001b[38;5;28mdict\u001b[39m[\u001b[38;5;28mstr\u001b[39m, Any]:\n\u001b[1;32m     88\u001b[0m     url \u001b[38;5;241m=\u001b[39m \u001b[38;5;124mf\u001b[39m\u001b[38;5;124m\"\u001b[39m\u001b[38;5;132;01m{\u001b[39;00m\u001b[38;5;28mself\u001b[39m\u001b[38;5;241m.\u001b[39mresponse\u001b[38;5;241m.\u001b[39mrequest\u001b[38;5;241m.\u001b[39murl\u001b[38;5;132;01m}\u001b[39;00m\u001b[38;5;124m/constraints\u001b[39m\u001b[38;5;124m\"\u001b[39m\n\u001b[0;32m---> 89\u001b[0m     response \u001b[38;5;241m=\u001b[39m \u001b[43mApiResponse\u001b[49m\u001b[38;5;241;43m.\u001b[39;49m\u001b[43mfrom_request\u001b[49m\u001b[43m(\u001b[49m\u001b[38;5;124;43m\"\u001b[39;49m\u001b[38;5;124;43mpost\u001b[39;49m\u001b[38;5;124;43m\"\u001b[39;49m\u001b[43m,\u001b[49m\u001b[43m \u001b[49m\u001b[43murl\u001b[49m\u001b[43m,\u001b[49m\u001b[43m \u001b[49m\u001b[43mjson\u001b[49m\u001b[38;5;241;43m=\u001b[39;49m\u001b[43m{\u001b[49m\u001b[38;5;124;43m\"\u001b[39;49m\u001b[38;5;124;43minputs\u001b[39;49m\u001b[38;5;124;43m\"\u001b[39;49m\u001b[43m:\u001b[49m\u001b[43m \u001b[49m\u001b[43mrequest\u001b[49m\u001b[43m}\u001b[49m\u001b[43m)\u001b[49m\n\u001b[1;32m     90\u001b[0m     response\u001b[38;5;241m.\u001b[39mresponse\u001b[38;5;241m.\u001b[39mraise_for_status()\n\u001b[1;32m     91\u001b[0m     \u001b[38;5;28;01mreturn\u001b[39;00m response\u001b[38;5;241m.\u001b[39mjson\n",
      "File \u001b[0;32m~/devel/cads/cads-api-client/cads_api_client/processing.py:42\u001b[0m, in \u001b[0;36mApiResponse.from_request\u001b[0;34m(cls, raise_for_status, *args, **kwargs)\u001b[0m\n\u001b[1;32m     40\u001b[0m response \u001b[38;5;241m=\u001b[39m requests\u001b[38;5;241m.\u001b[39mrequest(\u001b[38;5;241m*\u001b[39margs, \u001b[38;5;241m*\u001b[39m\u001b[38;5;241m*\u001b[39mkwargs)\n\u001b[1;32m     41\u001b[0m \u001b[38;5;28;01mif\u001b[39;00m raise_for_status:\n\u001b[0;32m---> 42\u001b[0m     \u001b[43mresponse\u001b[49m\u001b[38;5;241;43m.\u001b[39;49m\u001b[43mraise_for_status\u001b[49m\u001b[43m(\u001b[49m\u001b[43m)\u001b[49m\n\u001b[1;32m     43\u001b[0m \u001b[38;5;28mself\u001b[39m \u001b[38;5;241m=\u001b[39m \u001b[38;5;28mcls\u001b[39m(response, headers\u001b[38;5;241m=\u001b[39mkwargs\u001b[38;5;241m.\u001b[39mget(\u001b[38;5;124m\"\u001b[39m\u001b[38;5;124mheaders\u001b[39m\u001b[38;5;124m\"\u001b[39m, {}))\n\u001b[1;32m     44\u001b[0m \u001b[38;5;28;01mreturn\u001b[39;00m \u001b[38;5;28mself\u001b[39m\n",
      "File \u001b[0;32m~/opt/miniconda3/envs/cads/lib/python3.10/site-packages/requests/models.py:1021\u001b[0m, in \u001b[0;36mResponse.raise_for_status\u001b[0;34m(self)\u001b[0m\n\u001b[1;32m   1016\u001b[0m     http_error_msg \u001b[38;5;241m=\u001b[39m (\n\u001b[1;32m   1017\u001b[0m         \u001b[38;5;124mf\u001b[39m\u001b[38;5;124m\"\u001b[39m\u001b[38;5;132;01m{\u001b[39;00m\u001b[38;5;28mself\u001b[39m\u001b[38;5;241m.\u001b[39mstatus_code\u001b[38;5;132;01m}\u001b[39;00m\u001b[38;5;124m Server Error: \u001b[39m\u001b[38;5;132;01m{\u001b[39;00mreason\u001b[38;5;132;01m}\u001b[39;00m\u001b[38;5;124m for url: \u001b[39m\u001b[38;5;132;01m{\u001b[39;00m\u001b[38;5;28mself\u001b[39m\u001b[38;5;241m.\u001b[39murl\u001b[38;5;132;01m}\u001b[39;00m\u001b[38;5;124m\"\u001b[39m\n\u001b[1;32m   1018\u001b[0m     )\n\u001b[1;32m   1020\u001b[0m \u001b[38;5;28;01mif\u001b[39;00m http_error_msg:\n\u001b[0;32m-> 1021\u001b[0m     \u001b[38;5;28;01mraise\u001b[39;00m HTTPError(http_error_msg, response\u001b[38;5;241m=\u001b[39m\u001b[38;5;28mself\u001b[39m)\n",
      "\u001b[0;31mHTTPError\u001b[0m: 500 Server Error: Internal Server Error for url: http://cds2-dev.copernicus-climate.eu/api/retrieve/v1/processes/reanalysis-era5-single-levels/constraints"
     ]
    }
   ],
   "source": [
    "client.valid_values(\"reanalysis-era5-single-levels\", {})"
   ]
  },
  {
   "cell_type": "markdown",
   "id": "c398606a",
   "metadata": {},
   "source": [
    "\n",
    "#### 1.1 - Availability limits\n",
    "The `\"reanalysis-era5-single-levels\"` dataset stops the 31th of october. Checking which values are valid for the year `\"2022\"` should return month numbers up to 8 (august).\n"
   ]
  },
  {
   "cell_type": "code",
   "execution_count": 8,
   "id": "52be85f8",
   "metadata": {},
   "outputs": [
    {
     "ename": "HTTPError",
     "evalue": "500 Server Error: Internal Server Error for url: http://cds2-dev.copernicus-climate.eu/api/retrieve/v1/processes/reanalysis-era5-single-levels/constraints",
     "output_type": "error",
     "traceback": [
      "\u001b[0;31m---------------------------------------------------------------------------\u001b[0m",
      "\u001b[0;31mHTTPError\u001b[0m                                 Traceback (most recent call last)",
      "Cell \u001b[0;32mIn [8], line 1\u001b[0m\n\u001b[0;32m----> 1\u001b[0m response \u001b[38;5;241m=\u001b[39m \u001b[43mclient\u001b[49m\u001b[38;5;241;43m.\u001b[39;49m\u001b[43mvalid_values\u001b[49m\u001b[43m(\u001b[49m\u001b[38;5;124;43m\"\u001b[39;49m\u001b[38;5;124;43mreanalysis-era5-single-levels\u001b[39;49m\u001b[38;5;124;43m\"\u001b[39;49m\u001b[43m,\u001b[49m\u001b[43m \u001b[49m\u001b[43m{\u001b[49m\u001b[38;5;124;43m\"\u001b[39;49m\u001b[38;5;124;43myear\u001b[39;49m\u001b[38;5;124;43m\"\u001b[39;49m\u001b[43m \u001b[49m\u001b[43m:\u001b[49m\u001b[43m \u001b[49m\u001b[43m[\u001b[49m\u001b[38;5;124;43m\"\u001b[39;49m\u001b[38;5;124;43m2022\u001b[39;49m\u001b[38;5;124;43m\"\u001b[39;49m\u001b[43m]\u001b[49m\u001b[43m}\u001b[49m\u001b[43m)\u001b[49m\n\u001b[1;32m      2\u001b[0m response[\u001b[38;5;124m\"\u001b[39m\u001b[38;5;124mmonth\u001b[39m\u001b[38;5;124m\"\u001b[39m]\n",
      "File \u001b[0;32m~/devel/cads/cads-api-client/cads_api_client/api_client.py:64\u001b[0m, in \u001b[0;36mApiClient.valid_values\u001b[0;34m(self, collection_id, request)\u001b[0m\n\u001b[1;32m     60\u001b[0m \u001b[38;5;28;01mdef\u001b[39;00m \u001b[38;5;21mvalid_values\u001b[39m(\n\u001b[1;32m     61\u001b[0m     \u001b[38;5;28mself\u001b[39m, collection_id: \u001b[38;5;28mstr\u001b[39m, request: \u001b[38;5;28mdict\u001b[39m[\u001b[38;5;28mstr\u001b[39m, Any]\n\u001b[1;32m     62\u001b[0m ) \u001b[38;5;241m-\u001b[39m\u001b[38;5;241m>\u001b[39m \u001b[38;5;28mdict\u001b[39m[\u001b[38;5;28mstr\u001b[39m, Any]:\n\u001b[1;32m     63\u001b[0m     process \u001b[38;5;241m=\u001b[39m \u001b[38;5;28mself\u001b[39m\u001b[38;5;241m.\u001b[39mretrieve_api\u001b[38;5;241m.\u001b[39mprocess(collection_id)\n\u001b[0;32m---> 64\u001b[0m     \u001b[38;5;28;01mreturn\u001b[39;00m \u001b[43mprocess\u001b[49m\u001b[38;5;241;43m.\u001b[39;49m\u001b[43mvalid_values\u001b[49m\u001b[43m(\u001b[49m\u001b[43mrequest\u001b[49m\u001b[43m)\u001b[49m\n",
      "File \u001b[0;32m~/devel/cads/cads-api-client/cads_api_client/processing.py:89\u001b[0m, in \u001b[0;36mProcess.valid_values\u001b[0;34m(self, request)\u001b[0m\n\u001b[1;32m     87\u001b[0m \u001b[38;5;28;01mdef\u001b[39;00m \u001b[38;5;21mvalid_values\u001b[39m(\u001b[38;5;28mself\u001b[39m, request: \u001b[38;5;28mdict\u001b[39m[\u001b[38;5;28mstr\u001b[39m, Any] \u001b[38;5;241m=\u001b[39m {}) \u001b[38;5;241m-\u001b[39m\u001b[38;5;241m>\u001b[39m \u001b[38;5;28mdict\u001b[39m[\u001b[38;5;28mstr\u001b[39m, Any]:\n\u001b[1;32m     88\u001b[0m     url \u001b[38;5;241m=\u001b[39m \u001b[38;5;124mf\u001b[39m\u001b[38;5;124m\"\u001b[39m\u001b[38;5;132;01m{\u001b[39;00m\u001b[38;5;28mself\u001b[39m\u001b[38;5;241m.\u001b[39mresponse\u001b[38;5;241m.\u001b[39mrequest\u001b[38;5;241m.\u001b[39murl\u001b[38;5;132;01m}\u001b[39;00m\u001b[38;5;124m/constraints\u001b[39m\u001b[38;5;124m\"\u001b[39m\n\u001b[0;32m---> 89\u001b[0m     response \u001b[38;5;241m=\u001b[39m \u001b[43mApiResponse\u001b[49m\u001b[38;5;241;43m.\u001b[39;49m\u001b[43mfrom_request\u001b[49m\u001b[43m(\u001b[49m\u001b[38;5;124;43m\"\u001b[39;49m\u001b[38;5;124;43mpost\u001b[39;49m\u001b[38;5;124;43m\"\u001b[39;49m\u001b[43m,\u001b[49m\u001b[43m \u001b[49m\u001b[43murl\u001b[49m\u001b[43m,\u001b[49m\u001b[43m \u001b[49m\u001b[43mjson\u001b[49m\u001b[38;5;241;43m=\u001b[39;49m\u001b[43m{\u001b[49m\u001b[38;5;124;43m\"\u001b[39;49m\u001b[38;5;124;43minputs\u001b[39;49m\u001b[38;5;124;43m\"\u001b[39;49m\u001b[43m:\u001b[49m\u001b[43m \u001b[49m\u001b[43mrequest\u001b[49m\u001b[43m}\u001b[49m\u001b[43m)\u001b[49m\n\u001b[1;32m     90\u001b[0m     response\u001b[38;5;241m.\u001b[39mresponse\u001b[38;5;241m.\u001b[39mraise_for_status()\n\u001b[1;32m     91\u001b[0m     \u001b[38;5;28;01mreturn\u001b[39;00m response\u001b[38;5;241m.\u001b[39mjson\n",
      "File \u001b[0;32m~/devel/cads/cads-api-client/cads_api_client/processing.py:42\u001b[0m, in \u001b[0;36mApiResponse.from_request\u001b[0;34m(cls, raise_for_status, *args, **kwargs)\u001b[0m\n\u001b[1;32m     40\u001b[0m response \u001b[38;5;241m=\u001b[39m requests\u001b[38;5;241m.\u001b[39mrequest(\u001b[38;5;241m*\u001b[39margs, \u001b[38;5;241m*\u001b[39m\u001b[38;5;241m*\u001b[39mkwargs)\n\u001b[1;32m     41\u001b[0m \u001b[38;5;28;01mif\u001b[39;00m raise_for_status:\n\u001b[0;32m---> 42\u001b[0m     \u001b[43mresponse\u001b[49m\u001b[38;5;241;43m.\u001b[39;49m\u001b[43mraise_for_status\u001b[49m\u001b[43m(\u001b[49m\u001b[43m)\u001b[49m\n\u001b[1;32m     43\u001b[0m \u001b[38;5;28mself\u001b[39m \u001b[38;5;241m=\u001b[39m \u001b[38;5;28mcls\u001b[39m(response, headers\u001b[38;5;241m=\u001b[39mkwargs\u001b[38;5;241m.\u001b[39mget(\u001b[38;5;124m\"\u001b[39m\u001b[38;5;124mheaders\u001b[39m\u001b[38;5;124m\"\u001b[39m, {}))\n\u001b[1;32m     44\u001b[0m \u001b[38;5;28;01mreturn\u001b[39;00m \u001b[38;5;28mself\u001b[39m\n",
      "File \u001b[0;32m~/opt/miniconda3/envs/cads/lib/python3.10/site-packages/requests/models.py:1021\u001b[0m, in \u001b[0;36mResponse.raise_for_status\u001b[0;34m(self)\u001b[0m\n\u001b[1;32m   1016\u001b[0m     http_error_msg \u001b[38;5;241m=\u001b[39m (\n\u001b[1;32m   1017\u001b[0m         \u001b[38;5;124mf\u001b[39m\u001b[38;5;124m\"\u001b[39m\u001b[38;5;132;01m{\u001b[39;00m\u001b[38;5;28mself\u001b[39m\u001b[38;5;241m.\u001b[39mstatus_code\u001b[38;5;132;01m}\u001b[39;00m\u001b[38;5;124m Server Error: \u001b[39m\u001b[38;5;132;01m{\u001b[39;00mreason\u001b[38;5;132;01m}\u001b[39;00m\u001b[38;5;124m for url: \u001b[39m\u001b[38;5;132;01m{\u001b[39;00m\u001b[38;5;28mself\u001b[39m\u001b[38;5;241m.\u001b[39murl\u001b[38;5;132;01m}\u001b[39;00m\u001b[38;5;124m\"\u001b[39m\n\u001b[1;32m   1018\u001b[0m     )\n\u001b[1;32m   1020\u001b[0m \u001b[38;5;28;01mif\u001b[39;00m http_error_msg:\n\u001b[0;32m-> 1021\u001b[0m     \u001b[38;5;28;01mraise\u001b[39;00m HTTPError(http_error_msg, response\u001b[38;5;241m=\u001b[39m\u001b[38;5;28mself\u001b[39m)\n",
      "\u001b[0;31mHTTPError\u001b[0m: 500 Server Error: Internal Server Error for url: http://cds2-dev.copernicus-climate.eu/api/retrieve/v1/processes/reanalysis-era5-single-levels/constraints"
     ]
    }
   ],
   "source": [
    "response = client.valid_values(\"reanalysis-era5-single-levels\", {\"year\" : [\"2022\"]})\n",
    "response[\"month\"]"
   ]
  },
  {
   "cell_type": "code",
   "execution_count": null,
   "id": "385d4566",
   "metadata": {},
   "outputs": [],
   "source": [
    "print(response[\"year\"])"
   ]
  },
  {
   "cell_type": "markdown",
   "id": "55fc3b69",
   "metadata": {},
   "source": [
    "#### 1.2  - Unavailable data\n",
    "\n",
    "For a valid key, if none of the requested value(s) are valid, the API will return no valid combinations and suggest a list of valid values for the same key.\n"
   ]
  },
  {
   "cell_type": "code",
   "execution_count": null,
   "id": "547f293a",
   "metadata": {},
   "outputs": [],
   "source": [
    "print(client.valid_values(\"reanalysis-era5-single-levels\", {\"year\":[\"1000\"]}))"
   ]
  },
  {
   "cell_type": "markdown",
   "id": "30a19da0",
   "metadata": {},
   "source": [
    "### Test 2 - Restricted params\n",
    "\n",
    "Consider the `\"cams-global-reanalysis-eac4-monthly\"` dataset. \n"
   ]
  },
  {
   "cell_type": "code",
   "execution_count": null,
   "id": "e4b91d86",
   "metadata": {
    "scrolled": true
   },
   "outputs": [],
   "source": [
    "print(client.valid_values(\"cams-global-reanalysis-eac4-monthly\", {}))"
   ]
  },
  {
   "cell_type": "markdown",
   "id": "d5e5370a",
   "metadata": {},
   "source": [
    "selecting `\"product_type\":\"monthly_mean\"` should not be compatible with any `\"time\"` value.\n"
   ]
  },
  {
   "cell_type": "code",
   "execution_count": null,
   "id": "ad8a3657",
   "metadata": {
    "scrolled": false
   },
   "outputs": [],
   "source": [
    "response = client.valid_values(\"cams-global-reanalysis-eac4-monthly\", {\"product_type\": [\"monthly_mean\"]})\n",
    "response[\"time\"]"
   ]
  },
  {
   "cell_type": "markdown",
   "id": "8d5c6a4a",
   "metadata": {},
   "source": [
    "On the countrary, if `\"product_type\"` is `\"monthly_mean_by_hour_of_day\"`, all `\"time\"` values should be available"
   ]
  },
  {
   "cell_type": "code",
   "execution_count": null,
   "id": "91169fe5",
   "metadata": {},
   "outputs": [],
   "source": [
    "client.valid_values(\"cams-global-reanalysis-eac4-monthly\", {'product_type': ['monthly_mean_by_hour_of_day']})[\"time\"]"
   ]
  },
  {
   "cell_type": "markdown",
   "id": "ceee078e",
   "metadata": {},
   "source": [
    "the reverse is also true:"
   ]
  },
  {
   "cell_type": "code",
   "execution_count": null,
   "id": "d953ee1a",
   "metadata": {},
   "outputs": [],
   "source": [
    "client.valid_values(\"cams-global-reanalysis-eac4-monthly\", {\"time\": ['00:00', '03:00', '18:00', '09:00', '15:00', '21:00', '06:00', '12:00']})[\"product_type\"]"
   ]
  },
  {
   "cell_type": "markdown",
   "id": "b63c2025",
   "metadata": {},
   "source": [
    "### Test 3 - invalid combination\n",
    "Consider the `\"cams-global-reanalysis-eac4-monthly\"` dataset. \n",
    "\n",
    "There should be no valid values for `\"time\":\"12:00\"` and `\"product type\":\"montly_mean\"`.\n"
   ]
  },
  {
   "cell_type": "code",
   "execution_count": null,
   "id": "19574aaa",
   "metadata": {
    "scrolled": true
   },
   "outputs": [],
   "source": [
    "client.valid_values(\"cams-global-reanalysis-eac4-monthly\", {\"product_type\" : [\"montly_mean\"], \"time\":[\"12:00\"]})"
   ]
  },
  {
   "cell_type": "markdown",
   "id": "bbf96205",
   "metadata": {},
   "source": [
    "The API responce suggests that adding `\"monthly_mean_by_hour_of_day\"` to the request may produce some valid values. \n",
    "\n",
    "Indeed:"
   ]
  },
  {
   "cell_type": "code",
   "execution_count": null,
   "id": "0f15d972",
   "metadata": {
    "scrolled": false
   },
   "outputs": [],
   "source": [
    "client.valid_values(\n",
    "    \"cams-global-reanalysis-eac4-monthly\", \n",
    "    {\"product_type\" : [\"montly_mean\", \"monthly_mean_by_hour_of_day\"] , \"time\":\"12:00\"}\n",
    ")"
   ]
  },
  {
   "cell_type": "markdown",
   "id": "2dd9531d",
   "metadata": {},
   "source": [
    "### Test 4 - Always valid params\n",
    "\n",
    "Some params are always valid, meaning they can go along with any other combination. Theese are always returned by the API:"
   ]
  },
  {
   "cell_type": "code",
   "execution_count": null,
   "id": "b6457e5d",
   "metadata": {},
   "outputs": [],
   "source": [
    "client.valid_values(\"cams-global-reanalysis-eac4-monthly\", {\"product_type\" : [\"X\"], \"variable\":[\"X\"]})"
   ]
  },
  {
   "cell_type": "markdown",
   "id": "0a78ed2d",
   "metadata": {},
   "source": [
    "### Test 5 - Invalid Keys\n"
   ]
  },
  {
   "cell_type": "markdown",
   "id": "19a769de",
   "metadata": {},
   "source": [
    "If some param with invalid or misspelled name is requested the API throws an error "
   ]
  },
  {
   "cell_type": "code",
   "execution_count": null,
   "id": "727ce339",
   "metadata": {
    "scrolled": true
   },
   "outputs": [],
   "source": [
    "client.valid_values(\"cams-global-reanalysis-eac4-monthly\", {\"invalid_param\":[\"X\"]})"
   ]
  }
 ],
 "metadata": {
  "kernelspec": {
   "display_name": "Python 3 (ipykernel)",
   "language": "python",
   "name": "python3"
  },
  "language_info": {
   "codemirror_mode": {
    "name": "ipython",
    "version": 3
   },
   "file_extension": ".py",
   "mimetype": "text/x-python",
   "name": "python",
   "nbconvert_exporter": "python",
   "pygments_lexer": "ipython3",
   "version": "3.10.6"
  }
 },
 "nbformat": 4,
 "nbformat_minor": 5
}
