{
 "cells": [
  {
   "cell_type": "markdown",
   "id": "7c97612f",
   "metadata": {},
   "source": [
    "# CADS API constraints tests"
   ]
  },
  {
   "cell_type": "code",
   "execution_count": 40,
   "id": "14d10194",
   "metadata": {},
   "outputs": [
    {
     "name": "stdout",
     "output_type": "stream",
     "text": [
      "The autoreload extension is already loaded. To reload it, use:\n",
      "  %reload_ext autoreload\n"
     ]
    }
   ],
   "source": [
    "%load_ext autoreload\n",
    "%autoreload 2"
   ]
  },
  {
   "cell_type": "code",
   "execution_count": 41,
   "id": "6655b0d2",
   "metadata": {},
   "outputs": [],
   "source": [
    "import os\n",
    "import xarray as xr\n",
    "\n",
    "import cads_api_client\n",
    "import cads_processing_api_service"
   ]
  },
  {
   "cell_type": "code",
   "execution_count": 32,
   "id": "b76bb911",
   "metadata": {},
   "outputs": [
    {
     "data": {
      "text/plain": [
       "'http://cds2-dev.bopen.eu/api'"
      ]
     },
     "execution_count": 32,
     "metadata": {},
     "output_type": "execute_result"
    }
   ],
   "source": [
    "api_url = os.getenv(\"CADS_API_ROOT_URL\", \"http://cds2-dev.bopen.eu/api\")\n",
    "api_url"
   ]
  },
  {
   "cell_type": "markdown",
   "id": "4336b457",
   "metadata": {},
   "source": [
    "## Client instantiation\n",
    "\n",
    "The client exposes the APIs for:\n",
    "- Catalogue exploration (see **Section 1**) \n",
    "- Data retrieval (see **Section 2**)\n",
    "- Constraints validation"
   ]
  },
  {
   "cell_type": "code",
   "execution_count": 33,
   "id": "4916eb9b",
   "metadata": {},
   "outputs": [
    {
     "data": {
      "text/plain": [
       "ApiClient(url='http://cds2-dev.bopen.eu/api', api_key='mysecretpat')"
      ]
     },
     "execution_count": 33,
     "metadata": {},
     "output_type": "execute_result"
    }
   ],
   "source": [
    "client = cads_api_client.ApiClient(api_url, api_key=\"mysecretpat\")\n",
    "client"
   ]
  },
  {
   "cell_type": "code",
   "execution_count": 43,
   "id": "99c5f49a",
   "metadata": {},
   "outputs": [
    {
     "data": {
      "text/plain": [
       "{'type': 'Collection',\n",
       " 'id': 'reanalysis-era5-pressure-levels',\n",
       " 'stac_version': '1.0.0',\n",
       " 'title': 'ERA5 hourly data on pressure levels from 1959 to present',\n",
       " 'description': '**ERA5** is the fifth generation ECMWF reanalysis for the global climate and weather for the past 4 to 7 decades.\\nCurrently data is available from 1950, with Climate Data Store entries for 1950-1978 (preliminary back extension) and from 1959 onwards (final release plus timely updates, this page).\\nERA5 replaces the ERA-Interim reanalysis.\\n\\nReanalysis combines model data with observations from across the world into a globally complete and consistent dataset using the laws of physics. This principle, called data assimilation, is based on the method used by numerical weather prediction centres, where every so many hours (12 hours at ECMWF) a previous forecast is combined with newly available observations in an optimal way to produce a new best estimate of the state of the atmosphere, called analysis, from which an updated, improved forecast is issued. Reanalysis works in the same way, but at reduced resolution to allow for the provision of a dataset spanning back several decades. Reanalysis does not have the constraint of issuing timely forecasts, so there is more time to collect observations, and when going further back in time, to allow for the ingestion of improved versions of the original observations, which all benefit the quality of the reanalysis product.\\n\\nERA5 provides hourly estimates for a large number of atmospheric, ocean-wave and land-surface quantities.\\nAn uncertainty estimate is sampled by an underlying 10-member ensemble\\nat three-hourly intervals. Ensemble mean and spread have been pre-computed for convenience.\\nSuch uncertainty estimates are closely related to the information content of the available observing system which\\nhas evolved considerably over time. They also indicate flow-dependent sensitive areas.\\nTo facilitate many climate applications, monthly-mean averages have been pre-calculated too,\\nthough monthly means are not available for the ensemble mean and spread.\\n\\nERA5 is updated daily with a latency of about 5 days. In case that serious flaws are detected in this early release (called ERA5T), this data could be different from the final release 2 to 3 months later. In case that this occurs users are notified.\\n\\nThe data set presented here is a regridded subset of the full ERA5 data set on native resolution.\\nIt is online on spinning disk, which should ensure fast and easy access.\\nIt should satisfy the requirements for most common applications.\\n\\nAn overview of all ERA5 datasets can be found in [this article](https://confluence.ecmwf.int/display/CKB/The+family+of+ERA5+datasets \"The family of ERA5 datasets\").\\nInformation on access to ERA5 data on native resolution is provided in [these guidelines](https://confluence.ecmwf.int/display/CKB/How+to+download+ERA5 \"How to download ERA5\").\\n\\nData has been regridded to a regular lat-lon grid of 0.25 degrees for the reanalysis and 0.5 degrees for\\nthe uncertainty estimate (0.5 and 1 degree respectively for ocean waves).\\nThere are four main sub sets: hourly and monthly products, both on pressure levels (upper air fields) and single levels (atmospheric, ocean-wave and land surface quantities).\\n\\nThe present entry is \"ERA5 hourly data on pressure levels from 1959 to present\".\\n',\n",
       " 'keywords': ['Variable domain: Atmosphere (surface)',\n",
       "  'Variable domain: Atmosphere (upper air)',\n",
       "  'Temporal coverage: Past',\n",
       "  'Spatial coverage: Global',\n",
       "  'Product type: Reanalysis',\n",
       "  'Provider: Copernicus C3S'],\n",
       " 'license': 'proprietary',\n",
       " 'providers': [],\n",
       " 'summaries': {},\n",
       " 'extent': {'spatial': {'bbox': [[0.0, -89.0, 89.0, 360.0]]},\n",
       "  'temporal': {'interval': [['1979-01-01T00:00:00Z',\n",
       "     '2022-08-31T00:00:00Z']]}},\n",
       " 'links': [{'rel': 'self',\n",
       "   'type': 'application/json',\n",
       "   'href': 'http://cds2-dev.bopen.eu/api/catalogue/v1/collections/reanalysis-era5-pressure-levels'},\n",
       "  {'rel': 'parent',\n",
       "   'type': 'application/json',\n",
       "   'href': 'http://cds2-dev.bopen.eu/api/catalogue/v1/'},\n",
       "  {'rel': 'root',\n",
       "   'type': 'application/json',\n",
       "   'href': 'http://cds2-dev.bopen.eu/api/catalogue/v1/'},\n",
       "  {'rel': 'license',\n",
       "   'href': 'http://cds2-dev.bopen.eu/api/storage/v1/cads-catalogue-bucket/licences/licence-to-use-copernicus-products/licence-to-use-copernicus-products.pdf?versionId=a9aeb21f-b471-4517-9c3e-218c0be5f314',\n",
       "   'title': 'Licence to use Copernicus Products'},\n",
       "  {'title': 'Citation',\n",
       "   'rel': 'reference',\n",
       "   'href': 'http://cds2-dev.bopen.eu/api/storage/v1/cads-catalogue-bucket/resources/reanalysis-era5-pressure-levels/citation.html?versionId=c4f8bd17-c724-4a54-ad91-4675ddffc267'},\n",
       "  {'title': 'Acknowledgement',\n",
       "   'rel': 'reference',\n",
       "   'href': 'http://cds2-dev.bopen.eu/api/storage/v1/cads-catalogue-bucket/resources/reanalysis-era5-pressure-levels/acknowledgement.html?versionId=bc5db69f-e24e-443d-880e-92980cc9e93e'},\n",
       "  {'rel': 'describedby',\n",
       "   'href': 'https://confluence.ecmwf.int/display/CKB/ERA5%3A+data+documentation',\n",
       "   'title': 'ERA5 data documentation'},\n",
       "  {'rel': 'describedby',\n",
       "   'href': 'https://rmets.onlinelibrary.wiley.com/doi/10.1002/qj.4174',\n",
       "   'title': 'The ERA5 global reanalysis: Preliminary extension to 1950'},\n",
       "  {'rel': 'describedby',\n",
       "   'href': 'https://rmets.onlinelibrary.wiley.com/doi/10.1002/qj.3803',\n",
       "   'title': 'The ERA5 global reanalysis'},\n",
       "  {'rel': 'form',\n",
       "   'href': 'http://cds2-dev.bopen.eu/api/storage/v1/cads-catalogue-bucket/resources/reanalysis-era5-pressure-levels/form.json?versionId=13563a56-61af-4395-a412-5a0d0b5afec9',\n",
       "   'type': 'application/json'},\n",
       "  {'rel': 'constraints',\n",
       "   'href': 'http://cds2-dev.bopen.eu/api/storage/v1/cads-catalogue-bucket/resources/reanalysis-era5-pressure-levels/constraints.json?versionId=c27c6bde-baff-4d5d-943e-f476cd99c034',\n",
       "   'type': 'application/json'},\n",
       "  {'rel': 'retrieve',\n",
       "   'href': 'http://cds2-dev.bopen.eu/api/retrieve/v1/processes/reanalysis-era5-pressure-levels',\n",
       "   'type': 'application/json'},\n",
       "  {'rel': 'layout',\n",
       "   'href': 'http://cds2-dev.bopen.eu/api/storage/v1/cads-catalogue-bucket/resources/reanalysis-era5-pressure-levels/layout.json?versionId=5aefd8c6-034c-4e0e-b3a9-aa118d330bc6',\n",
       "   'type': 'application/json'},\n",
       "  {'rel': 'related',\n",
       "   'href': 'http://cds2-dev.bopen.eu/api/catalogue/v1/collections/reanalysis-era5-single-levels',\n",
       "   'title': 'ERA5 hourly data on single levels from 1959 to present'}],\n",
       " 'assets': {'thumbnail': {'href': '/api/storage/v1/cads-catalogue-bucket/resources/reanalysis-era5-pressure-levels/overview.jpg?versionId=f505215a-c203-4c37-bb53-10a0ef69cf4a',\n",
       "   'type': 'image/jpg',\n",
       "   'roles': ['thumbnail']}},\n",
       " 'published': '2018-06-14T00:00:00Z',\n",
       " 'sci:doi': '10.24381/cds.bd0915c6'}"
      ]
     },
     "execution_count": 43,
     "metadata": {},
     "output_type": "execute_result"
    }
   ],
   "source": [
    "collection = client.collection(\"reanalysis-era5-pressure-levels\")\n",
    "collection.json"
   ]
  },
  {
   "cell_type": "markdown",
   "id": "92ad1059",
   "metadata": {},
   "source": [
    "## Constraints validation"
   ]
  },
  {
   "cell_type": "code",
   "execution_count": 36,
   "id": "959ea856",
   "metadata": {},
   "outputs": [],
   "source": [
    "cads_processing_api_service.constraints.validate_constraints()"
   ]
  },
  {
   "cell_type": "code",
   "execution_count": 37,
   "id": "31f94366",
   "metadata": {},
   "outputs": [],
   "source": []
  },
  {
   "cell_type": "code",
   "execution_count": null,
   "id": "f0407afd",
   "metadata": {},
   "outputs": [],
   "source": []
  }
 ],
 "metadata": {
  "kernelspec": {
   "display_name": "Python 3 (ipykernel)",
   "language": "python",
   "name": "python3"
  },
  "language_info": {
   "codemirror_mode": {
    "name": "ipython",
    "version": 3
   },
   "file_extension": ".py",
   "mimetype": "text/x-python",
   "name": "python",
   "nbconvert_exporter": "python",
   "pygments_lexer": "ipython3",
   "version": "3.10.6"
  }
 },
 "nbformat": 4,
 "nbformat_minor": 5
}
