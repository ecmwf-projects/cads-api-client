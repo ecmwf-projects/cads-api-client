{
 "cells": [
  {
   "cell_type": "markdown",
   "id": "c7b5366a",
   "metadata": {},
   "source": [
    "# CADS API Python client Tests"
   ]
  },
  {
   "cell_type": "code",
   "execution_count": 9,
   "id": "f418d32b",
   "metadata": {},
   "outputs": [
    {
     "name": "stdout",
     "output_type": "stream",
     "text": [
      "The autoreload extension is already loaded. To reload it, use:\n",
      "  %reload_ext autoreload\n"
     ]
    }
   ],
   "source": [
    "%load_ext autoreload\n",
    "%autoreload 2"
   ]
  },
  {
   "cell_type": "code",
   "execution_count": 10,
   "id": "710ef2fb",
   "metadata": {},
   "outputs": [],
   "source": [
    "import os\n",
    "import xarray as xr\n",
    "\n",
    "import cads_api_client"
   ]
  },
  {
   "cell_type": "code",
   "execution_count": 11,
   "id": "10798c3d",
   "metadata": {},
   "outputs": [
    {
     "data": {
      "text/plain": [
       "'http://cds2-dev.bopen.eu/api'"
      ]
     },
     "execution_count": 11,
     "metadata": {},
     "output_type": "execute_result"
    }
   ],
   "source": [
    "api_url = os.getenv(\"CADS_API_ROOT_URL\", \"http://cds2-dev.bopen.eu/api\")\n",
    "api_url"
   ]
  },
  {
   "cell_type": "markdown",
   "id": "622e6c14",
   "metadata": {},
   "source": [
    "## Client instantiation\n",
    "\n",
    "The client exposes the APIs for:\n",
    "- Catalogue exploration (see **Section 1**) \n",
    "- Data retrieval (see **Section 2**)"
   ]
  },
  {
   "cell_type": "code",
   "execution_count": 8,
   "id": "5282a5d0",
   "metadata": {},
   "outputs": [
    {
     "data": {
      "text/plain": [
       "ApiClient(url='http://cds2-dev.bopen.eu/api', api_key='mysecretpat')"
      ]
     },
     "execution_count": 8,
     "metadata": {},
     "output_type": "execute_result"
    }
   ],
   "source": [
    "#client = cads_api_client.ApiClient(api_url)\n",
    "client = cads_api_client.ApiClient(api_url, api_key=\"mysecretpat\")\n",
    "client"
   ]
  },
  {
   "cell_type": "markdown",
   "id": "9003f8fd",
   "metadata": {},
   "source": [
    "## 1. Catalogue Exploration\n"
   ]
  },
  {
   "cell_type": "markdown",
   "id": "1fb38f8c",
   "metadata": {},
   "source": [
    "### 1.1 Collections\n",
    "\n",
    "**Objective**: verify the access to the list of **collections** and their description.\n",
    "<hr>"
   ]
  },
  {
   "cell_type": "markdown",
   "id": "da787d64",
   "metadata": {},
   "source": [
    "_**Expected result**: correct instatiation of collections object._\n",
    "_If `collections.response` returns 200 status code, the request is succesfull and the test can proceed._"
   ]
  },
  {
   "cell_type": "code",
   "execution_count": 18,
   "id": "91edb11f",
   "metadata": {
    "scrolled": false
   },
   "outputs": [
    {
     "data": {
      "text/plain": [
       "requests.models.Response"
      ]
     },
     "execution_count": 18,
     "metadata": {},
     "output_type": "execute_result"
    }
   ],
   "source": [
    "collections = client.collections()\n",
    "collections.response"
   ]
  },
  {
   "cell_type": "markdown",
   "id": "efdfb022",
   "metadata": {},
   "source": [
    "_**Expected result**: list of all available collections._"
   ]
  },
  {
   "cell_type": "code",
   "execution_count": 13,
   "id": "e474e910",
   "metadata": {
    "scrolled": true
   },
   "outputs": [
    {
     "data": {
      "text/plain": [
       "['cams-global-reanalysis-eac4-monthly',\n",
       " 'reanalysis-era5-single-levels',\n",
       " 'reanalysis-era5-land',\n",
       " 'reanalysis-era5-pressure-levels',\n",
       " 'reanalysis-era5-land-monthly-means',\n",
       " 'derived-near-surface-meteorological-variables']"
      ]
     },
     "execution_count": 13,
     "metadata": {},
     "output_type": "execute_result"
    }
   ],
   "source": [
    "collections.collection_ids()"
   ]
  },
  {
   "cell_type": "markdown",
   "id": "059ab8ac",
   "metadata": {},
   "source": [
    "### 1.2 Collection\n",
    "\n",
    "**Objective**: verify the access to the list of **collection** and its description\n",
    "<hr>"
   ]
  },
  {
   "cell_type": "markdown",
   "id": "439b6a62",
   "metadata": {},
   "source": [
    "_**Expected result**: correct instatiation of the collection object._\n",
    "_If `collection.response` returns 200 status code, the request is succesfull and the test can proceed._"
   ]
  },
  {
   "cell_type": "code",
   "execution_count": 14,
   "id": "0fdeb32d",
   "metadata": {},
   "outputs": [
    {
     "data": {
      "text/plain": [
       "Collection(response=<Response [200]>, headers={'PRIVATE-TOKEN': 'mysecretpat'})"
      ]
     },
     "execution_count": 14,
     "metadata": {},
     "output_type": "execute_result"
    }
   ],
   "source": [
    "collection = client.collection(\"reanalysis-era5-pressure-levels\")\n",
    "collection"
   ]
  },
  {
   "cell_type": "markdown",
   "id": "f6066c65",
   "metadata": {},
   "source": [
    "_**Expected result**: JSON of the collection response describing the collection, containing the keys:_\n",
    "- _`id`_\n",
    "- _`title`_\n",
    "- _`description`_"
   ]
  },
  {
   "cell_type": "code",
   "execution_count": 19,
   "id": "3a9b24bf",
   "metadata": {
    "scrolled": false
   },
   "outputs": [
    {
     "data": {
      "text/plain": [
       "{'type': 'Collection',\n",
       " 'id': 'reanalysis-era5-pressure-levels',\n",
       " 'stac_version': '1.0.0',\n",
       " 'title': 'ERA5 hourly data on pressure levels from 1959 to present',\n",
       " 'description': '**ERA5** is the fifth generation ECMWF reanalysis for the global climate and weather for the past 4 to 7 decades.\\nCurrently data is available from 1950, with Climate Data Store entries for 1950-1978 (preliminary back extension) and from 1959 onwards (final release plus timely updates, this page).\\nERA5 replaces the ERA-Interim reanalysis.\\n\\nReanalysis combines model data with observations from across the world into a globally complete and consistent dataset using the laws of physics. This principle, called data assimilation, is based on the method used by numerical weather prediction centres, where every so many hours (12 hours at ECMWF) a previous forecast is combined with newly available observations in an optimal way to produce a new best estimate of the state of the atmosphere, called analysis, from which an updated, improved forecast is issued. Reanalysis works in the same way, but at reduced resolution to allow for the provision of a dataset spanning back several decades. Reanalysis does not have the constraint of issuing timely forecasts, so there is more time to collect observations, and when going further back in time, to allow for the ingestion of improved versions of the original observations, which all benefit the quality of the reanalysis product.\\n\\nERA5 provides hourly estimates for a large number of atmospheric, ocean-wave and land-surface quantities.\\nAn uncertainty estimate is sampled by an underlying 10-member ensemble\\nat three-hourly intervals. Ensemble mean and spread have been pre-computed for convenience.\\nSuch uncertainty estimates are closely related to the information content of the available observing system which\\nhas evolved considerably over time. They also indicate flow-dependent sensitive areas.\\nTo facilitate many climate applications, monthly-mean averages have been pre-calculated too,\\nthough monthly means are not available for the ensemble mean and spread.\\n\\nERA5 is updated daily with a latency of about 5 days. In case that serious flaws are detected in this early release (called ERA5T), this data could be different from the final release 2 to 3 months later. In case that this occurs users are notified.\\n\\nThe data set presented here is a regridded subset of the full ERA5 data set on native resolution.\\nIt is online on spinning disk, which should ensure fast and easy access.\\nIt should satisfy the requirements for most common applications.\\n\\nAn overview of all ERA5 datasets can be found in [this article](https://confluence.ecmwf.int/display/CKB/The+family+of+ERA5+datasets \"The family of ERA5 datasets\").\\nInformation on access to ERA5 data on native resolution is provided in [these guidelines](https://confluence.ecmwf.int/display/CKB/How+to+download+ERA5 \"How to download ERA5\").\\n\\nData has been regridded to a regular lat-lon grid of 0.25 degrees for the reanalysis and 0.5 degrees for\\nthe uncertainty estimate (0.5 and 1 degree respectively for ocean waves).\\nThere are four main sub sets: hourly and monthly products, both on pressure levels (upper air fields) and single levels (atmospheric, ocean-wave and land surface quantities).\\n\\nThe present entry is \"ERA5 hourly data on pressure levels from 1959 to present\".\\n',\n",
       " 'keywords': ['Variable domain: Atmosphere (surface)',\n",
       "  'Variable domain: Atmosphere (upper air)',\n",
       "  'Temporal coverage: Past',\n",
       "  'Spatial coverage: Global',\n",
       "  'Product type: Reanalysis',\n",
       "  'Provider: Copernicus C3S'],\n",
       " 'license': 'proprietary',\n",
       " 'providers': [],\n",
       " 'summaries': {},\n",
       " 'extent': {'spatial': {'bbox': [[0.0, -89.0, 89.0, 360.0]]},\n",
       "  'temporal': {'interval': [['1979-01-01T00:00:00Z',\n",
       "     '2022-08-31T00:00:00Z']]}},\n",
       " 'links': [{'rel': 'self',\n",
       "   'type': 'application/json',\n",
       "   'href': 'http://cds2-dev.bopen.eu/api/catalogue/v1/collections/reanalysis-era5-pressure-levels'},\n",
       "  {'rel': 'parent',\n",
       "   'type': 'application/json',\n",
       "   'href': 'http://cds2-dev.bopen.eu/api/catalogue/v1/'},\n",
       "  {'rel': 'root',\n",
       "   'type': 'application/json',\n",
       "   'href': 'http://cds2-dev.bopen.eu/api/catalogue/v1/'},\n",
       "  {'rel': 'license',\n",
       "   'href': 'http://cds2-dev.bopen.eu/api/storage/v1/cads-catalogue-bucket/licences/licence-to-use-copernicus-products/licence-to-use-copernicus-products.pdf?versionId=a9aeb21f-b471-4517-9c3e-218c0be5f314',\n",
       "   'title': 'Licence to use Copernicus Products'},\n",
       "  {'title': 'Citation',\n",
       "   'rel': 'reference',\n",
       "   'href': 'http://cds2-dev.bopen.eu/api/storage/v1/cads-catalogue-bucket/resources/reanalysis-era5-pressure-levels/citation.html?versionId=c4f8bd17-c724-4a54-ad91-4675ddffc267'},\n",
       "  {'title': 'Acknowledgement',\n",
       "   'rel': 'reference',\n",
       "   'href': 'http://cds2-dev.bopen.eu/api/storage/v1/cads-catalogue-bucket/resources/reanalysis-era5-pressure-levels/acknowledgement.html?versionId=bc5db69f-e24e-443d-880e-92980cc9e93e'},\n",
       "  {'rel': 'describedby',\n",
       "   'href': 'https://confluence.ecmwf.int/display/CKB/ERA5%3A+data+documentation',\n",
       "   'title': 'ERA5 data documentation'},\n",
       "  {'rel': 'describedby',\n",
       "   'href': 'https://rmets.onlinelibrary.wiley.com/doi/10.1002/qj.4174',\n",
       "   'title': 'The ERA5 global reanalysis: Preliminary extension to 1950'},\n",
       "  {'rel': 'describedby',\n",
       "   'href': 'https://rmets.onlinelibrary.wiley.com/doi/10.1002/qj.3803',\n",
       "   'title': 'The ERA5 global reanalysis'},\n",
       "  {'rel': 'form',\n",
       "   'href': 'http://cds2-dev.bopen.eu/api/storage/v1/cads-catalogue-bucket/resources/reanalysis-era5-pressure-levels/form.json?versionId=13563a56-61af-4395-a412-5a0d0b5afec9',\n",
       "   'type': 'application/json'},\n",
       "  {'rel': 'constraints',\n",
       "   'href': 'http://cds2-dev.bopen.eu/api/storage/v1/cads-catalogue-bucket/resources/reanalysis-era5-pressure-levels/constraints.json?versionId=c27c6bde-baff-4d5d-943e-f476cd99c034',\n",
       "   'type': 'application/json'},\n",
       "  {'rel': 'retrieve',\n",
       "   'href': 'http://cds2-dev.bopen.eu/api/retrieve/v1/processes/reanalysis-era5-pressure-levels',\n",
       "   'type': 'application/json'},\n",
       "  {'rel': 'layout',\n",
       "   'href': 'http://cds2-dev.bopen.eu/api/storage/v1/cads-catalogue-bucket/resources/reanalysis-era5-pressure-levels/layout.json?versionId=5aefd8c6-034c-4e0e-b3a9-aa118d330bc6',\n",
       "   'type': 'application/json'},\n",
       "  {'rel': 'related',\n",
       "   'href': 'http://cds2-dev.bopen.eu/api/catalogue/v1/collections/reanalysis-era5-single-levels',\n",
       "   'title': 'ERA5 hourly data on single levels from 1959 to present'}],\n",
       " 'assets': {'thumbnail': {'href': '/api/storage/v1/cads-catalogue-bucket/resources/reanalysis-era5-pressure-levels/overview.jpg?versionId=f505215a-c203-4c37-bb53-10a0ef69cf4a',\n",
       "   'type': 'image/jpg',\n",
       "   'roles': ['thumbnail']}},\n",
       " 'published': '2018-06-14T00:00:00Z',\n",
       " 'sci:doi': '10.24381/cds.bd0915c6'}"
      ]
     },
     "execution_count": 19,
     "metadata": {},
     "output_type": "execute_result"
    }
   ],
   "source": [
    "collection.json"
   ]
  },
  {
   "cell_type": "markdown",
   "id": "de595421",
   "metadata": {},
   "source": [
    "## 2. Data Retrieval"
   ]
  },
  {
   "cell_type": "markdown",
   "id": "df5f2a6e",
   "metadata": {},
   "source": [
    "The retrieval can be done using the high-level function `client.retrieve` (see **Section 2.1**). It performs the submission, the monitoring and the download.\n",
    "\n",
    "Alternatively it can be done using the low-level API (see **Section 3** Data Retrieval: advanced usage): \n",
    "- **Section 3.1**: `client.submit` submits the request\n",
    "- **Section 3.2**: `remote.status` monitors the request\n",
    "- **Section 3.3**: `remote.download` downloads the result\n"
   ]
  },
  {
   "cell_type": "markdown",
   "id": "997406bb",
   "metadata": {},
   "source": [
    "### 2.1  Retrieval: small data request"
   ]
  },
  {
   "cell_type": "markdown",
   "id": "4f694e32",
   "metadata": {},
   "source": [
    "**Objective**: verify the capabilities of the client to retrieve data.\n",
    "<hr>"
   ]
  },
  {
   "cell_type": "markdown",
   "id": "287e2a49",
   "metadata": {},
   "source": [
    "**`client.retrieve`** function is blocking: \n",
    "- submits the request\n",
    "- waits until the request is complete\n",
    "- downloads the data"
   ]
  },
  {
   "cell_type": "markdown",
   "id": "8fd1fd9b",
   "metadata": {},
   "source": [
    "_**Expected result**: the client submits the request; when the process is complete, the client downloads the file._"
   ]
  },
  {
   "cell_type": "code",
   "execution_count": null,
   "id": "68886e62",
   "metadata": {
    "scrolled": false
   },
   "outputs": [],
   "source": [
    "output_path = client.retrieve(\n",
    "    collection_id=\"reanalysis-era5-pressure-levels\",\n",
    "    product_type=\"reanalysis\",\n",
    "    variable=\"temperature\",\n",
    "    pressure_level=\"1\",\n",
    "    year=\"1971\",\n",
    "    month=\"01\",\n",
    "    day=\"25\", \n",
    "    time=\"06:00\",\n",
    "    target=\"test01.grib\",\n",
    ")\n",
    "\n",
    "output_path"
   ]
  },
  {
   "cell_type": "code",
   "execution_count": null,
   "id": "b82c51fb",
   "metadata": {},
   "outputs": [],
   "source": [
    "ls -l $output_path"
   ]
  },
  {
   "cell_type": "markdown",
   "id": "80568436",
   "metadata": {},
   "source": [
    "_**Expected output**: data consistent with the request_\n",
    "- _one variable: `t` (temperature)_\n",
    "- _two dimensions: `latitude` and `longitude`_\n",
    "- _`time` coordinate has length 1_"
   ]
  },
  {
   "cell_type": "code",
   "execution_count": null,
   "id": "7d2a6226",
   "metadata": {},
   "outputs": [],
   "source": [
    "ds = xr.open_dataset(output_path)\n",
    "ds"
   ]
  },
  {
   "cell_type": "markdown",
   "id": "f3340f0c",
   "metadata": {},
   "source": [
    "## 3 Data Retrieval: advanced API\n"
   ]
  },
  {
   "cell_type": "markdown",
   "id": "3feb2b1a",
   "metadata": {},
   "source": [
    "### 3.1 Request Submission: big data request\n",
    "\n",
    "**Objective:** verify the capability of the client to submit a request.\n",
    "<hr>"
   ]
  },
  {
   "cell_type": "markdown",
   "id": "fe966a7a",
   "metadata": {},
   "source": [
    "\n",
    "**`client.submit`** is a non-blocking function. It returns a remote object that allows to monitor the process.\n",
    "\n",
    "\n",
    "_**Expected result**: the client submits the request and returns a remote object that allows to monitor the process._"
   ]
  },
  {
   "cell_type": "code",
   "execution_count": null,
   "id": "90d38f81",
   "metadata": {},
   "outputs": [],
   "source": [
    "collection = client.collection(\"reanalysis-era5-pressure-levels\")\n",
    "remote = collection.submit( \n",
    "    product_type=\"reanalysis\", \n",
    "    variable=\"temperature\", \n",
    "    pressure_level=\"1\", \n",
    "    year=\"1971\", \n",
    "    month=['01', '02', '03', '04', '05', '06', '07', '08', '09', '10', '11', '12'],\n",
    "    day=[\n",
    "        '01', '02', '03', '04', '05', '06', '07', '08', '09', '10', '11', '12',\n",
    "        '13', '14', '15', '16', '17', '18', '19', '20', '21', '22', '23', '24',\n",
    "        '25', '26', '27', '28', '29', '30', '31',\n",
    "    ],\n",
    "    time=\"06:00\",\n",
    "    target=\"test02.grib\",\n",
    ")\n",
    "remote.request_uid"
   ]
  },
  {
   "cell_type": "markdown",
   "id": "8a4504f3",
   "metadata": {},
   "source": [
    "### 3.2 Request Monitoring\n",
    "\n",
    "**Objectives**: verify the capability of the client to monitor the request\n",
    "<hr>"
   ]
  },
  {
   "cell_type": "markdown",
   "id": "623b39e9",
   "metadata": {},
   "source": [
    "**`remote.status`** allows to monitor the process status\n",
    "\n",
    "_**Expected result**: returns the updated status of the request: failed, successful, running_"
   ]
  },
  {
   "cell_type": "code",
   "execution_count": null,
   "id": "d9f750b6",
   "metadata": {},
   "outputs": [],
   "source": [
    "remote.status"
   ]
  },
  {
   "cell_type": "markdown",
   "id": "c198e314",
   "metadata": {},
   "source": [
    "**`client.get_requests`** returns the list of requests submitted \n",
    "\n",
    "_**Expected result**: IDs of the submitted requests._"
   ]
  },
  {
   "cell_type": "code",
   "execution_count": null,
   "id": "92396d01",
   "metadata": {
    "scrolled": false
   },
   "outputs": [],
   "source": [
    "requests = client.get_requests()\n",
    "requests.job_ids()"
   ]
  },
  {
   "cell_type": "markdown",
   "id": "01f7f962",
   "metadata": {},
   "source": [
    "_**Expected result**: `True`, that is the remote ID, `remote.request_uid`, is in the list of the submitted requests._"
   ]
  },
  {
   "cell_type": "code",
   "execution_count": null,
   "id": "14e3617a",
   "metadata": {},
   "outputs": [],
   "source": [
    "remote.request_uid in requests.job_ids()"
   ]
  },
  {
   "cell_type": "markdown",
   "id": "d02e6af2",
   "metadata": {},
   "source": [
    "### 3.3 Data download\n",
    "\n",
    "**Objectives**: verify the capability of the client to download the data\n",
    "<hr>"
   ]
  },
  {
   "cell_type": "markdown",
   "id": "dd2cef08",
   "metadata": {},
   "source": [
    "**`remote.download`** is blocking: \n",
    "- waits until the requests is completed\n",
    "- downloads the data requested\n",
    "- returns the output path"
   ]
  },
  {
   "cell_type": "markdown",
   "id": "e6437abb",
   "metadata": {},
   "source": [
    "_**Expected result**: the file is downloaded and saved in `$output_path`._"
   ]
  },
  {
   "cell_type": "code",
   "execution_count": null,
   "id": "e0e04fc0",
   "metadata": {},
   "outputs": [],
   "source": [
    "output_path = remote.download(\"test02.grib\")\n",
    "output_path"
   ]
  },
  {
   "cell_type": "code",
   "execution_count": null,
   "id": "8b5102a9",
   "metadata": {},
   "outputs": [],
   "source": [
    "ls -l $ouput_path"
   ]
  },
  {
   "cell_type": "markdown",
   "id": "a56e6b29",
   "metadata": {},
   "source": [
    "_**Expected output**: data consistent with the request:_\n",
    "- _one variable: `t` (temperature),_\n",
    "- _three dimensions: `time` (365), `latitude` (721) and `longitude` (1440)_"
   ]
  },
  {
   "cell_type": "code",
   "execution_count": null,
   "id": "0f8e7c90",
   "metadata": {},
   "outputs": [],
   "source": [
    "ds = xr.open_dataset(output_path)\n",
    "ds"
   ]
  },
  {
   "cell_type": "markdown",
   "id": "d7be5a18",
   "metadata": {},
   "source": [
    "## 4 Error Handling"
   ]
  },
  {
   "cell_type": "markdown",
   "id": "8c171814",
   "metadata": {},
   "source": [
    "**Objectives**: verify how errors are handled through error messages and codes.\n",
    "<hr>"
   ]
  },
  {
   "cell_type": "markdown",
   "id": "ede9fe40",
   "metadata": {},
   "source": [
    "### 4.1 Wrong URL"
   ]
  },
  {
   "cell_type": "markdown",
   "id": "9438eb37",
   "metadata": {},
   "source": [
    "_**Expected output**: 404 Client Error: Not Found for url._"
   ]
  },
  {
   "cell_type": "code",
   "execution_count": null,
   "id": "a8698964",
   "metadata": {
    "scrolled": false,
    "tags": [
     "raises-exception"
    ]
   },
   "outputs": [],
   "source": [
    "client = cads_api_client.ApiClient(f\"{api_url}_1\")\n",
    "client.collections()"
   ]
  },
  {
   "cell_type": "markdown",
   "id": "d531ccc7",
   "metadata": {},
   "source": [
    "### 4.2 Missing collection"
   ]
  },
  {
   "cell_type": "markdown",
   "id": "7ef73bcf",
   "metadata": {},
   "source": [
    "_**Expected output**: 404 Client Error: Not Found for url._"
   ]
  },
  {
   "cell_type": "code",
   "execution_count": null,
   "id": "86fbd668",
   "metadata": {
    "tags": [
     "raises-exception"
    ]
   },
   "outputs": [],
   "source": [
    "client = cads_api_client.ApiClient(api_url)\n",
    "client.collection(\"missing_collection\")"
   ]
  },
  {
   "cell_type": "markdown",
   "id": "5959e563",
   "metadata": {},
   "source": [
    "### 4.3 Unknown job"
   ]
  },
  {
   "cell_type": "markdown",
   "id": "8fa6c81e",
   "metadata": {},
   "source": [
    "_**Expected output**: 404 Client Error: Not Found for url._"
   ]
  },
  {
   "cell_type": "code",
   "execution_count": null,
   "id": "04369560",
   "metadata": {
    "tags": [
     "raises-exception"
    ]
   },
   "outputs": [],
   "source": [
    "status_info = client.get_request(\"ffffffff-4455-6677-8899-aabbccddeeff\")"
   ]
  },
  {
   "cell_type": "markdown",
   "id": "7f573b16",
   "metadata": {},
   "source": [
    "### 4.4 Wrong request"
   ]
  },
  {
   "cell_type": "markdown",
   "id": "9e5eebdd",
   "metadata": {},
   "source": [
    "_**Expected output**: `collection.submit` does not raise errors._\n"
   ]
  },
  {
   "cell_type": "code",
   "execution_count": null,
   "id": "b9032ab3",
   "metadata": {},
   "outputs": [],
   "source": [
    "client = cads_api_client.ApiClient(api_url)\n",
    "collection = client.collection(\"reanalysis-era5-pressure-levels\")\n",
    "remote = collection.submit( \n",
    "    target=\"output.grib\",\n",
    "    product_type=\"reanalysis\", \n",
    "    variable=\"temperature\", \n",
    "    pressure_level=\"1\", \n",
    "    year=\"2222\", \n",
    "    month=\"01\", \n",
    "    day=\"25\", \n",
    "    time=\"06:00\",\n",
    "    format=\"grib\", \n",
    ")"
   ]
  },
  {
   "cell_type": "markdown",
   "id": "96a7c347",
   "metadata": {},
   "source": [
    "_**Expected output**: `remote.wait_on_result` raises a ProcessingFailedError-_"
   ]
  },
  {
   "cell_type": "code",
   "execution_count": null,
   "id": "5755cbef",
   "metadata": {
    "tags": [
     "raises-exception"
    ]
   },
   "outputs": [],
   "source": [
    "remote.wait_on_result()"
   ]
  },
  {
   "cell_type": "markdown",
   "id": "1f722e04",
   "metadata": {},
   "source": [
    "_**Expected output**: result status code is 400._"
   ]
  },
  {
   "cell_type": "code",
   "execution_count": null,
   "id": "0acbc31d",
   "metadata": {},
   "outputs": [],
   "source": [
    "results = remote.make_results()"
   ]
  },
  {
   "cell_type": "code",
   "execution_count": null,
   "id": "0065164b",
   "metadata": {},
   "outputs": [],
   "source": [
    "results.status_code"
   ]
  },
  {
   "cell_type": "markdown",
   "id": "d4702b46",
   "metadata": {},
   "source": [
    "_**Expected output**:_\n",
    "- _`result.json` describes the error in the fields: \"type\", \"title\" and \"detail\"_\n",
    "- _\"detail\" contains the error traceback_"
   ]
  },
  {
   "cell_type": "code",
   "execution_count": null,
   "id": "d40f43f6",
   "metadata": {},
   "outputs": [],
   "source": [
    "results.json"
   ]
  }
 ],
 "metadata": {
  "kernelspec": {
   "display_name": "Python 3 (ipykernel)",
   "language": "python",
   "name": "python3"
  },
  "language_info": {
   "codemirror_mode": {
    "name": "ipython",
    "version": 3
   },
   "file_extension": ".py",
   "mimetype": "text/x-python",
   "name": "python",
   "nbconvert_exporter": "python",
   "pygments_lexer": "ipython3",
   "version": "3.10.6"
  }
 },
 "nbformat": 4,
 "nbformat_minor": 5
}
