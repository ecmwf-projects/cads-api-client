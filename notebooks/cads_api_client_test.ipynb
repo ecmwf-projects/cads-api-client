{
 "cells": [
  {
   "cell_type": "markdown",
   "id": "c7b5366a",
   "metadata": {},
   "source": [
    "# CADS API Python client Tests"
   ]
  },
  {
   "cell_type": "code",
   "execution_count": null,
   "id": "710ef2fb",
   "metadata": {},
   "outputs": [],
   "source": [
    "import os\n",
    "import xarray as xr\n",
    "\n",
    "import cads_api_client"
   ]
  },
  {
   "cell_type": "code",
   "execution_count": null,
   "id": "10798c3d",
   "metadata": {},
   "outputs": [],
   "source": [
    "api_url = os.getenv(\"CADS_API_ROOT_URL\", \"http://cds2-dev.copernicus-climate.eu/api\")\n",
    "api_url"
   ]
  },
  {
   "cell_type": "markdown",
   "id": "622e6c14",
   "metadata": {},
   "source": [
    "## Client instantiation\n",
    "\n",
    "The client exposes the APIs for:\n",
    "- Catalogue exploration (see **Section 1**)\n",
    "- Data retrieval (see **Section 2**)"
   ]
  },
  {
   "cell_type": "code",
   "execution_count": null,
   "id": "5282a5d0",
   "metadata": {},
   "outputs": [],
   "source": [
    "client = cads_api_client.ApiClient(api_url)\n",
    "client"
   ]
  },
  {
   "cell_type": "markdown",
   "id": "9003f8fd",
   "metadata": {},
   "source": [
    "## 1. Catalogue Exploration\n"
   ]
  },
  {
   "cell_type": "markdown",
   "id": "da787d64",
   "metadata": {},
   "source": [
    "### 1.1 Collections\n",
    "\n",
    "**Objective**: Verify the access to the list of **collections** and its description.\n",
    "\n",
    "_**Expected result**: Correct instantiation of the collections object._\n",
    "\n",
    "*If `collections.response` returns status code 200, the request has been successful and the test can proceed.*"
   ]
  },
  {
   "cell_type": "code",
   "execution_count": null,
   "id": "91edb11f",
   "metadata": {
    "scrolled": false
   },
   "outputs": [],
   "source": [
    "collections = client.collections()\n",
    "collections.response"
   ]
  },
  {
   "cell_type": "markdown",
   "id": "efdfb022",
   "metadata": {},
   "source": [
    "_**Expected result**: List of all available collections._"
   ]
  },
  {
   "cell_type": "code",
   "execution_count": null,
   "id": "e474e910",
   "metadata": {},
   "outputs": [],
   "source": [
    "collections.collection_ids()"
   ]
  },
  {
   "cell_type": "markdown",
   "id": "439b6a62",
   "metadata": {},
   "source": [
    "### 1.2 Collection\n",
    "\n",
    "**Objective**: Verify the access to the list of **collection** and its description.\n",
    "\n",
    "_**Expected result**: Correct instantiation of the collection object._\n",
    "\n",
    "*If `collection.response` returns status code 200, the request has been successful and the test can proceed.*"
   ]
  },
  {
   "cell_type": "code",
   "execution_count": null,
   "id": "0fdeb32d",
   "metadata": {},
   "outputs": [],
   "source": [
    "collection = client.collection(\"reanalysis-era5-pressure-levels\")\n",
    "collection"
   ]
  },
  {
   "cell_type": "markdown",
   "id": "f6066c65",
   "metadata": {},
   "source": [
    "_**Expected result**: JSON of the collection response describing the collection._"
   ]
  },
  {
   "cell_type": "code",
   "execution_count": null,
   "id": "3a9b24bf",
   "metadata": {
    "scrolled": false
   },
   "outputs": [],
   "source": [
    "collection.json"
   ]
  },
  {
   "cell_type": "markdown",
   "id": "de595421",
   "metadata": {},
   "source": [
    "## 2. Data Retrieval"
   ]
  },
  {
   "cell_type": "markdown",
   "id": "df5f2a6e",
   "metadata": {},
   "source": [
    "The retrieval can be done using a high-level function (`client.retrieve`) that performs the submission, monitoring and download (see **Section 2.1**).\n",
    "\n",
    "Alternatively, it can be done using the low-level API (see **Section 3**): \n",
    "- **Section 3.1**: `client.submit` for submitting the request\n",
    "- **Section 3.2**: `remote.status` for monitoring the request\n",
    "- **Section 3.3**: `remote.download` for downloading the result\n"
   ]
  },
  {
   "cell_type": "markdown",
   "id": "997406bb",
   "metadata": {},
   "source": [
    "### 2.1  Retrieval: Small data request"
   ]
  },
  {
   "cell_type": "markdown",
   "id": "287e2a49",
   "metadata": {},
   "source": [
    "**Objective**: Verify the capabilities of the client to retrieve data.\n",
    "\n",
    "\n",
    "The **retrieve** function is blocking. It returns after completing the following steps: \n",
    "- Submit the request\n",
    "- Wait until the request is complete\n",
    "- Download data\n"
   ]
  },
  {
   "cell_type": "markdown",
   "id": "8fd1fd9b",
   "metadata": {},
   "source": [
    "_**Expected result**: The client submits the request; when the process is complete, the client downloads the file._"
   ]
  },
  {
   "cell_type": "code",
   "execution_count": null,
   "id": "68886e62",
   "metadata": {
    "scrolled": false
   },
   "outputs": [],
   "source": [
    "output_path = client.retrieve(\n",
    "    \"reanalysis-era5-pressure-levels\",\n",
    "    product_type=\"reanalysis\", \n",
    "    variable=\"temperature\", \n",
    "    pressure_level=\"1\", \n",
    "    year=\"1971\", \n",
    "    month=\"01\", \n",
    "    day=\"25\", \n",
    "    time=\"06:00\",\n",
    "    target=\"test01.grib\",\n",
    ")\n",
    "\n",
    "output_path"
   ]
  },
  {
   "cell_type": "code",
   "execution_count": null,
   "id": "b82c51fb",
   "metadata": {},
   "outputs": [],
   "source": [
    "ls -l $output_path"
   ]
  },
  {
   "cell_type": "markdown",
   "id": "80568436",
   "metadata": {},
   "source": [
    "_**Expected output**: Data consistent with the request:_\n",
    "- _One variable: t (temperature)_\n",
    "- _Two dimensions: latitude and longitude_\n",
    "- _The time coordinate has length 1_"
   ]
  },
  {
   "cell_type": "code",
   "execution_count": null,
   "id": "7d2a6226",
   "metadata": {},
   "outputs": [],
   "source": [
    "ds = xr.open_dataset(output_path)\n",
    "ds"
   ]
  },
  {
   "cell_type": "markdown",
   "id": "f3340f0c",
   "metadata": {},
   "source": [
    "## 3 Data Retrieval: advanced API\n"
   ]
  },
  {
   "cell_type": "markdown",
   "id": "3feb2b1a",
   "metadata": {},
   "source": [
    "### 3.1 Request Submission: Big data request\n",
    "\n",
    "**Objective:** Verify the capability of the client to submit a request."
   ]
  },
  {
   "cell_type": "markdown",
   "id": "fe966a7a",
   "metadata": {},
   "source": [
    "\n",
    "\n",
    "`client.submit` is a non-blocking function. It returns a remote object that allows to monitor the request status.\n",
    "\n",
    "\n",
    "_**Expected result**: The client submits the request and returns a remote object that allows to monitor the process._"
   ]
  },
  {
   "cell_type": "code",
   "execution_count": null,
   "id": "90d38f81",
   "metadata": {},
   "outputs": [],
   "source": [
    "collection = client.collection(\"reanalysis-era5-pressure-levels\")\n",
    "remote = collection.submit( \n",
    "    product_type=\"reanalysis\", \n",
    "    variable=\"temperature\", \n",
    "    pressure_level=\"1\", \n",
    "    year=\"1971\", \n",
    "    month=['01', '02', '03', '04', '05', '06', '07', '08', '09', '10', '11', '12'],\n",
    "    day=[\n",
    "        '01', '02', '03', '04', '05', '06', '07', '08', '09', '10', '11', '12',\n",
    "        '13', '14', '15', '16', '17', '18', '19', '20', '21', '22', '23', '24',\n",
    "        '25', '26', '27', '28', '29', '30', '31',\n",
    "    ],\n",
    "    time=\"06:00\",\n",
    "    target=\"test02.grib\",\n",
    ")\n",
    "remote.request_uid"
   ]
  },
  {
   "cell_type": "markdown",
   "id": "8a4504f3",
   "metadata": {},
   "source": [
    "### 3.2 Request Monitoring\n",
    "\n",
    "**Objectives**: Verify the client capability of monitoring requests."
   ]
  },
  {
   "cell_type": "markdown",
   "id": "623b39e9",
   "metadata": {},
   "source": [
    "`remote.status` allows to monitor the status of the process.\n",
    "\n",
    "_**Expected result**: The updated status of the request is returned (failed, successful, or running)._"
   ]
  },
  {
   "cell_type": "code",
   "execution_count": null,
   "id": "d9f750b6",
   "metadata": {},
   "outputs": [],
   "source": [
    "remote.status"
   ]
  },
  {
   "cell_type": "markdown",
   "id": "c198e314",
   "metadata": {},
   "source": [
    "`client.get_requests` returns the list of requests submitted.\n",
    "\n",
    "_**Expected result**: IDs of the submitted requests._"
   ]
  },
  {
   "cell_type": "code",
   "execution_count": null,
   "id": "92396d01",
   "metadata": {
    "scrolled": false
   },
   "outputs": [],
   "source": [
    "requests = client.get_requests()\n",
    "requests.job_ids()"
   ]
  },
  {
   "cell_type": "markdown",
   "id": "01f7f962",
   "metadata": {},
   "source": [
    "_**Expected result**: The remote ID is in the list of the submitted requests._"
   ]
  },
  {
   "cell_type": "code",
   "execution_count": null,
   "id": "14e3617a",
   "metadata": {},
   "outputs": [],
   "source": [
    "remote.request_uid in requests.job_ids()"
   ]
  },
  {
   "cell_type": "markdown",
   "id": "d02e6af2",
   "metadata": {},
   "source": [
    "### 3.3 Data download\n",
    "\n",
    "**Objectives**: Verify the client capability of downloading data."
   ]
  },
  {
   "cell_type": "markdown",
   "id": "dd2cef08",
   "metadata": {},
   "source": [
    "The `download` function is blocking. It returns after completing the following steps: \n",
    "- Wait until the request is complete\n",
    "- Download the data requested"
   ]
  },
  {
   "cell_type": "markdown",
   "id": "e6437abb",
   "metadata": {},
   "source": [
    "_**Expected result**: The file is downloaded and saved in `$output_path`._"
   ]
  },
  {
   "cell_type": "code",
   "execution_count": null,
   "id": "e0e04fc0",
   "metadata": {},
   "outputs": [],
   "source": [
    "output_path = remote.download(\"test02.grib\")\n",
    "output_path"
   ]
  },
  {
   "cell_type": "code",
   "execution_count": null,
   "id": "8b5102a9",
   "metadata": {},
   "outputs": [],
   "source": [
    "ls -l $ouput_path"
   ]
  },
  {
   "cell_type": "markdown",
   "id": "a56e6b29",
   "metadata": {},
   "source": [
    "_**Expected output**: Data consistent with the request:_\n",
    "- _One variable: t (temperature)_\n",
    "- _Three dimensions: time (365), latitude (721) and longitude (1440)_"
   ]
  },
  {
   "cell_type": "code",
   "execution_count": null,
   "id": "0f8e7c90",
   "metadata": {},
   "outputs": [],
   "source": [
    "ds = xr.open_dataset(output_path)\n",
    "ds"
   ]
  },
  {
   "cell_type": "markdown",
   "id": "d7be5a18",
   "metadata": {},
   "source": [
    "## 4. Error Handling"
   ]
  },
  {
   "cell_type": "markdown",
   "id": "8c171814",
   "metadata": {},
   "source": [
    "**Objectives**: Verify how errors are handled through error messages and codes."
   ]
  },
  {
   "cell_type": "markdown",
   "id": "ede9fe40",
   "metadata": {},
   "source": [
    "### 4.1 Wrong URL"
   ]
  },
  {
   "cell_type": "markdown",
   "id": "9438eb37",
   "metadata": {},
   "source": [
    "_**Expected output**: 404 Client Error: Not Found for url._"
   ]
  },
  {
   "cell_type": "code",
   "execution_count": null,
   "id": "a8698964",
   "metadata": {
    "scrolled": false,
    "tags": [
     "raises-exception"
    ]
   },
   "outputs": [],
   "source": [
    "client = cads_api_client.ApiClient(f\"{api_url}_1\")\n",
    "client.collections()"
   ]
  },
  {
   "cell_type": "markdown",
   "id": "d531ccc7",
   "metadata": {},
   "source": [
    "### 4.2 Missing collection"
   ]
  },
  {
   "cell_type": "markdown",
   "id": "7ef73bcf",
   "metadata": {},
   "source": [
    "_**Expected output**: 404 Client Error: Not Found for url._"
   ]
  },
  {
   "cell_type": "code",
   "execution_count": null,
   "id": "86fbd668",
   "metadata": {
    "tags": [
     "raises-exception"
    ]
   },
   "outputs": [],
   "source": [
    "client = cads_api_client.ApiClient(api_url)\n",
    "client.collection(\"missing_collection\")"
   ]
  },
  {
   "cell_type": "markdown",
   "id": "5959e563",
   "metadata": {},
   "source": [
    "### 4.3 Unknown job"
   ]
  },
  {
   "cell_type": "markdown",
   "id": "8fa6c81e",
   "metadata": {},
   "source": [
    "_**Expected output**: 404 Client Error: Not Found for url._"
   ]
  },
  {
   "cell_type": "code",
   "execution_count": null,
   "id": "04369560",
   "metadata": {
    "tags": [
     "raises-exception"
    ]
   },
   "outputs": [],
   "source": [
    "status_info = client.get_request(\"ffffffff-4455-6677-8899-aabbccddeeff\")"
   ]
  },
  {
   "cell_type": "markdown",
   "id": "7f573b16",
   "metadata": {},
   "source": [
    "### 4.4 Wrong request"
   ]
  },
  {
   "cell_type": "markdown",
   "id": "9e5eebdd",
   "metadata": {},
   "source": [
    "**Non blocking request using `collection.submit`.**\n",
    "\n",
    "_**Expected output**: `collection.submit` does not raise errors._\n"
   ]
  },
  {
   "cell_type": "code",
   "execution_count": null,
   "id": "b9032ab3",
   "metadata": {},
   "outputs": [],
   "source": [
    "client = cads_api_client.ApiClient(api_url)\n",
    "collection = client.collection(\"reanalysis-era5-pressure-levels\")\n",
    "remote = collection.submit( \n",
    "    target=\"output.grib\",\n",
    "    product_type=\"reanalysis\", \n",
    "    variable=\"temperature\", \n",
    "    pressure_level=\"1\", \n",
    "    year=\"2222\", \n",
    "    month=\"01\", \n",
    "    day=\"25\", \n",
    "    time=\"06:00\",\n",
    "    format=\"grib\", \n",
    ")"
   ]
  },
  {
   "cell_type": "markdown",
   "id": "96a7c347",
   "metadata": {},
   "source": [
    "_**Expected output**: `remote.wait_on_result` raises a `ProcessingFailedError`._"
   ]
  },
  {
   "cell_type": "code",
   "execution_count": null,
   "id": "5755cbef",
   "metadata": {
    "tags": [
     "raises-exception"
    ]
   },
   "outputs": [],
   "source": [
    "remote.wait_on_result()"
   ]
  },
  {
   "cell_type": "markdown",
   "id": "1f722e04",
   "metadata": {},
   "source": [
    "_**Expected output**: The result status code is 400._"
   ]
  },
  {
   "cell_type": "code",
   "execution_count": null,
   "id": "0acbc31d",
   "metadata": {},
   "outputs": [],
   "source": [
    "results = remote.make_results()"
   ]
  },
  {
   "cell_type": "code",
   "execution_count": null,
   "id": "0065164b",
   "metadata": {},
   "outputs": [],
   "source": [
    "results.status_code"
   ]
  },
  {
   "cell_type": "markdown",
   "id": "d4702b46",
   "metadata": {},
   "source": [
    "_**Expected output**:_\n",
    "- _`result.json` describes the error in the fields: \"type\", \"title\" and \"detail\"_\n",
    "- _\"detail\" contains the error traceback_"
   ]
  },
  {
   "cell_type": "code",
   "execution_count": null,
   "id": "d40f43f6",
   "metadata": {},
   "outputs": [],
   "source": [
    "results.json"
   ]
  }
 ],
 "metadata": {
  "kernelspec": {
   "display_name": "Python 3 (ipykernel)",
   "language": "python",
   "name": "python3"
  },
  "language_info": {
   "codemirror_mode": {
    "name": "ipython",
    "version": 3
   },
   "file_extension": ".py",
   "mimetype": "text/x-python",
   "name": "python",
   "nbconvert_exporter": "python",
   "pygments_lexer": "ipython3",
   "version": "3.10.4"
  }
 },
 "nbformat": 4,
 "nbformat_minor": 5
}
