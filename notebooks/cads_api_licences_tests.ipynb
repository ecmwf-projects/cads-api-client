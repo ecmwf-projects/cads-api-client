{
 "cells": [
  {
   "cell_type": "markdown",
   "id": "2979309e",
   "metadata": {},
   "source": [
    "# CADS API: licences API tests"
   ]
  },
  {
   "cell_type": "code",
   "execution_count": null,
   "id": "3a91d8f7",
   "metadata": {},
   "outputs": [],
   "source": [
    "%load_ext autoreload\n",
    "%autoreload 2"
   ]
  },
  {
   "cell_type": "code",
   "execution_count": null,
   "id": "9b6f88a8",
   "metadata": {},
   "outputs": [],
   "source": [
    "import os\n",
    "import xarray as xr\n",
    "\n",
    "import cads_api_client"
   ]
  },
  {
   "cell_type": "markdown",
   "id": "e3b7fa6a",
   "metadata": {},
   "source": [
    "## Client instantiation"
   ]
  },
  {
   "cell_type": "code",
   "execution_count": null,
   "id": "a873e0ad",
   "metadata": {
    "scrolled": true
   },
   "outputs": [],
   "source": [
    "api_url = os.getenv(\"CADS_API_ROOT_URL\", \"http://cds2-dev.copernicus-climate.eu/api\")\n",
    "api_url"
   ]
  },
  {
   "cell_type": "code",
   "execution_count": null,
   "id": "5bad9658",
   "metadata": {},
   "outputs": [],
   "source": [
    "client = cads_api_client.ApiClient(url=api_url, key=\"00000000-0000-4000-a000-000000000000\")\n",
    "client"
   ]
  },
  {
   "cell_type": "markdown",
   "id": "71945389",
   "metadata": {},
   "source": [
    "## 1. Licences management\n",
    "\n",
    "### 1.1 Licences listing\n",
    "\n",
    "**Objective**: verify access to the list of acceptable licences\n",
    "<hr>\n",
    "\n",
    "_**Expected result**: **`client.licences`** returns a list of all acceptable licences_"
   ]
  },
  {
   "cell_type": "code",
   "execution_count": null,
   "id": "ccadd7e5",
   "metadata": {},
   "outputs": [],
   "source": [
    "client.licences"
   ]
  },
  {
   "cell_type": "markdown",
   "id": "27e08348",
   "metadata": {},
   "source": [
    "### 1.2 Licence acceptance\n",
    "\n",
    "**Objective**: accept a licence via the corresponding licence **`id`**\n",
    "<hr>\n",
    "\n",
    "_**Expected result**: the licence is accepted and can be found in **`client.accepted_licences`**_"
   ]
  },
  {
   "cell_type": "code",
   "execution_count": null,
   "id": "0aa48acd",
   "metadata": {},
   "outputs": [],
   "source": [
    "#TODO: remove all accepted licences from the database before demonstrating licences acceptance \n",
    "#client.accept_licence(\"licence-to-use-copernicus-products\")"
   ]
  },
  {
   "cell_type": "code",
   "execution_count": null,
   "id": "f28952e8",
   "metadata": {},
   "outputs": [],
   "source": [
    "client.accepted_licences"
   ]
  },
  {
   "cell_type": "markdown",
   "id": "a762b300",
   "metadata": {},
   "source": [
    "### 1.3 Contextual acceptance\n",
    "\n",
    "**Objective**: accept a licence while submitting a request. This is the only way an anonymus user can accept licences.\n",
    "<hr>\n",
    "\n",
    "_**Expected result**: the licence is accepted but not saved in the licences database. Thus, it can not be found in **`client.accepted_licences`**_"
   ]
  },
  {
   "cell_type": "code",
   "execution_count": null,
   "id": "f12dcb41",
   "metadata": {},
   "outputs": [],
   "source": [
    "client = cads_api_client.ApiClient(url=api_url, key=\"00112233-4455-6677-c899-aabbccddeeff\")\n",
    "client"
   ]
  },
  {
   "cell_type": "code",
   "execution_count": null,
   "id": "4ab3a62d",
   "metadata": {},
   "outputs": [],
   "source": [
    "client.collections().collection_ids()"
   ]
  },
  {
   "cell_type": "code",
   "execution_count": null,
   "id": "3b7ffca1",
   "metadata": {},
   "outputs": [],
   "source": [
    "collection = client.collection(\"reanalysis-era5-pressure-levels\")\n",
    "remote = collection.submit( \n",
    "    accepted_licences = [{\"id\": \"licence-to-use-copernicus-products\", \"revision\": 12}],\n",
    "    product_type=\"reanalysis\", \n",
    "    variable=\"temperature\", \n",
    "    pressure_level=\"1\", \n",
    "    year=\"1971\", \n",
    "    month=\"01\", \n",
    "    day=\"25\", \n",
    "    time=\"06:00\",\n",
    "    target=\"test01.grib\",\n",
    ")\n",
    "\n",
    "remote"
   ]
  },
  {
   "cell_type": "code",
   "execution_count": null,
   "id": "1abb54c6",
   "metadata": {},
   "outputs": [],
   "source": [
    "client.accepted_licences"
   ]
  }
 ],
 "metadata": {
  "kernelspec": {
   "display_name": "Python 3 (ipykernel)",
   "language": "python",
   "name": "python3"
  },
  "language_info": {
   "codemirror_mode": {
    "name": "ipython",
    "version": 3
   },
   "file_extension": ".py",
   "mimetype": "text/x-python",
   "name": "python",
   "nbconvert_exporter": "python",
   "pygments_lexer": "ipython3",
   "version": "3.10.8"
  }
 },
 "nbformat": 4,
 "nbformat_minor": 5
}
