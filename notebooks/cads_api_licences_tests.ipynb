{
 "cells": [
  {
   "cell_type": "markdown",
   "id": "2979309e",
   "metadata": {},
   "source": [
    "# CADS API: licences API tests"
   ]
  },
  {
   "cell_type": "code",
   "execution_count": 1,
   "id": "3a91d8f7",
   "metadata": {},
   "outputs": [],
   "source": [
    "%load_ext autoreload\n",
    "%autoreload 2"
   ]
  },
  {
   "cell_type": "code",
   "execution_count": 2,
   "id": "9b6f88a8",
   "metadata": {},
   "outputs": [],
   "source": [
    "import os\n",
    "import xarray as xr\n",
    "\n",
    "import cads_api_client"
   ]
  },
  {
   "cell_type": "markdown",
   "id": "e3b7fa6a",
   "metadata": {},
   "source": [
    "## Client instantiation"
   ]
  },
  {
   "cell_type": "code",
   "execution_count": 3,
   "id": "a873e0ad",
   "metadata": {
    "scrolled": true
   },
   "outputs": [
    {
     "data": {
      "text/plain": [
       "'http://cds2-dev.copernicus-climate.eu/api'"
      ]
     },
     "execution_count": 3,
     "metadata": {},
     "output_type": "execute_result"
    }
   ],
   "source": [
    "api_url = os.getenv(\"CADS_API_ROOT_URL\", \"http://cds2-dev.copernicus-climate.eu/api\")\n",
    "api_url"
   ]
  },
  {
   "cell_type": "code",
   "execution_count": 4,
   "id": "5bad9658",
   "metadata": {},
   "outputs": [
    {
     "data": {
      "text/plain": [
       "ApiClient(key='mysecretpat', url='http://cds2-dev.copernicus-climate.eu/api')"
      ]
     },
     "execution_count": 4,
     "metadata": {},
     "output_type": "execute_result"
    }
   ],
   "source": [
    "client = cads_api_client.ApiClient(url=api_url, key=\"mysecretpat\")\n",
    "client"
   ]
  },
  {
   "cell_type": "markdown",
   "id": "71945389",
   "metadata": {},
   "source": [
    "## 1. Licences management\n",
    "\n",
    "### 1.1 Licences listing\n",
    "\n",
    "**Objective**: verify access to the list of acceptable licences\n",
    "<hr>\n",
    "\n",
    "_**Expected result**: **`client.licences`** returns a list of all acceptable licences_"
   ]
  },
  {
   "cell_type": "code",
   "execution_count": 13,
   "id": "ccadd7e5",
   "metadata": {},
   "outputs": [
    {
     "data": {
      "text/plain": [
       "{'licences': [{'id': 'eumetsat-cm-saf',\n",
       "   'label': 'EUMETSAT CM SAF products licence',\n",
       "   'revision': 1},\n",
       "  {'id': 'CCI-data-policy-for-satellite-surface-radiation-budget',\n",
       "   'label': 'CCI product licence',\n",
       "   'revision': 4},\n",
       "  {'id': 'licence-to-use-copernicus-products',\n",
       "   'label': 'Licence to use Copernicus Products',\n",
       "   'revision': 12}]}"
      ]
     },
     "execution_count": 13,
     "metadata": {},
     "output_type": "execute_result"
    }
   ],
   "source": [
    "client.licences"
   ]
  },
  {
   "cell_type": "markdown",
   "id": "27e08348",
   "metadata": {},
   "source": [
    "### 1.2 Licence acceptance\n",
    "\n",
    "**Objective**: accept a licence via the corresponding licence **`id`**\n",
    "<hr>\n",
    "\n",
    "_**Expected result**: the licence is accepted and can be found in **`client.accepted_licences`**_"
   ]
  },
  {
   "cell_type": "code",
   "execution_count": 14,
   "id": "0aa48acd",
   "metadata": {},
   "outputs": [],
   "source": [
    "#TODO: remove all accepted licences from the database before demonstrating licences acceptance \n",
    "#client.accept_licence(\"licence-to-use-copernicus-products\")"
   ]
  },
  {
   "cell_type": "code",
   "execution_count": 15,
   "id": "f28952e8",
   "metadata": {},
   "outputs": [
    {
     "data": {
      "text/plain": [
       "{'licences': []}"
      ]
     },
     "execution_count": 15,
     "metadata": {},
     "output_type": "execute_result"
    }
   ],
   "source": [
    "client.accepted_licences"
   ]
  },
  {
   "cell_type": "markdown",
   "id": "a762b300",
   "metadata": {},
   "source": [
    "### 1.3 Contextual acceptance\n",
    "\n",
    "**Objective**: accept a licence while submitting a request. This is the only way an anonymus user can accept licences.\n",
    "<hr>\n",
    "\n",
    "_**Expected result**: the licence is accepted but not saved in the licences database. Thus, it can not be found in **`client.accepted_licences`**_"
   ]
  },
  {
   "cell_type": "code",
   "execution_count": 16,
   "id": "f12dcb41",
   "metadata": {},
   "outputs": [
    {
     "data": {
      "text/plain": [
       "ApiClient(key='00112233-4455-6677-c899-aabbccddeeff', url='http://cds2-dev.copernicus-climate.eu/api')"
      ]
     },
     "execution_count": 16,
     "metadata": {},
     "output_type": "execute_result"
    }
   ],
   "source": [
    "client = cads_api_client.ApiClient(url=api_url, key=\"00112233-4455-6677-c899-aabbccddeeff\")\n",
    "client"
   ]
  },
  {
   "cell_type": "code",
   "execution_count": 9,
   "id": "4ab3a62d",
   "metadata": {},
   "outputs": [
    {
     "data": {
      "text/plain": [
       "['reanalysis-era5-pressure-levels',\n",
       " 'reanalysis-era5-single-levels',\n",
       " 'cams-global-reanalysis-eac4',\n",
       " 'derived-near-surface-meteorological-variables',\n",
       " 'satellite-surface-radiation-budget',\n",
       " 'cams-global-reanalysis-eac4-monthly',\n",
       " 'reanalysis-era5-land-monthly-means',\n",
       " 'reanalysis-era5-land']"
      ]
     },
     "execution_count": 9,
     "metadata": {},
     "output_type": "execute_result"
    }
   ],
   "source": [
    "client.collections().collection_ids()"
   ]
  },
  {
   "cell_type": "code",
   "execution_count": 10,
   "id": "3b7ffca1",
   "metadata": {},
   "outputs": [
    {
     "data": {
      "text/plain": [
       "<cads_api_client.processing.Remote at 0x104133bb0>"
      ]
     },
     "execution_count": 10,
     "metadata": {},
     "output_type": "execute_result"
    }
   ],
   "source": [
    "collection = client.collection(\"reanalysis-era5-pressure-levels\")\n",
    "remote = collection.submit( \n",
    "    accepted_licences = [{\"id\": \"licence-to-use-copernicus-products\", \"revision\": 12}],\n",
    "    product_type=\"reanalysis\", \n",
    "    variable=\"temperature\", \n",
    "    pressure_level=\"1\", \n",
    "    year=\"1971\", \n",
    "    month=\"01\", \n",
    "    day=\"25\", \n",
    "    time=\"06:00\",\n",
    "    target=\"test01.grib\",\n",
    ")\n",
    "\n",
    "remote"
   ]
  },
  {
   "cell_type": "code",
   "execution_count": 12,
   "id": "1abb54c6",
   "metadata": {},
   "outputs": [
    {
     "data": {
      "text/plain": [
       "{'licences': []}"
      ]
     },
     "execution_count": 12,
     "metadata": {},
     "output_type": "execute_result"
    }
   ],
   "source": [
    "client.accepted_licences"
   ]
  }
 ],
 "metadata": {
  "kernelspec": {
   "display_name": "Python 3 (ipykernel)",
   "language": "python",
   "name": "python3"
  },
  "language_info": {
   "codemirror_mode": {
    "name": "ipython",
    "version": 3
   },
   "file_extension": ".py",
   "mimetype": "text/x-python",
   "name": "python",
   "nbconvert_exporter": "python",
   "pygments_lexer": "ipython3",
   "version": "3.10.6"
  }
 },
 "nbformat": 4,
 "nbformat_minor": 5
}
