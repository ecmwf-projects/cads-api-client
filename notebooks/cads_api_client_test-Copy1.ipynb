{
 "cells": [
  {
   "cell_type": "markdown",
   "id": "c7b5366a",
   "metadata": {},
   "source": [
    "# CADS API Python client Tests"
   ]
  },
  {
   "cell_type": "code",
   "execution_count": 1,
   "id": "710ef2fb",
   "metadata": {},
   "outputs": [],
   "source": [
    "import os\n",
    "import xarray as xr\n",
    "\n",
    "import cads_api_client"
   ]
  },
  {
   "cell_type": "code",
   "execution_count": 2,
   "id": "10798c3d",
   "metadata": {},
   "outputs": [
    {
     "data": {
      "text/plain": [
       "'http://localhost:8080/api'"
      ]
     },
     "execution_count": 2,
     "metadata": {},
     "output_type": "execute_result"
    }
   ],
   "source": [
    "api_url = os.getenv(\"CADS_API_ROOT_URL\", \"http://cds2-dev.bopen.eu/\")\n",
    "api_url = os.getenv(\"CADS_API_ROOT_URL\", \"http://localhost:8080/api\")\n",
    "api_url"
   ]
  },
  {
   "cell_type": "markdown",
   "id": "622e6c14",
   "metadata": {},
   "source": [
    "## Client instantiation\n",
    "\n",
    "The client expose the APIs for both \n",
    "- catalogue exploration \n",
    "- data retrieve"
   ]
  },
  {
   "cell_type": "code",
   "execution_count": 3,
   "id": "5282a5d0",
   "metadata": {},
   "outputs": [
    {
     "data": {
      "text/plain": [
       "ApiClient()"
      ]
     },
     "execution_count": 3,
     "metadata": {},
     "output_type": "execute_result"
    }
   ],
   "source": [
    "client = cads_api_client.ApiClient(api_url)\n",
    "client"
   ]
  },
  {
   "cell_type": "markdown",
   "id": "9003f8fd",
   "metadata": {},
   "source": [
    "## 1. Catalogue Exploration\n"
   ]
  },
  {
   "cell_type": "markdown",
   "id": "da787d64",
   "metadata": {},
   "source": [
    "### 1.1 Collections\n",
    "\n",
    "**Objective**: Verify the access to the list of **collections** and its description\n",
    "\n",
    "_**expected result**: correct instatiation of collections object._\n",
    "*if `collections.response` has 200 status code, the request is succesfull and the test can proceed*"
   ]
  },
  {
   "cell_type": "code",
   "execution_count": 4,
   "id": "91edb11f",
   "metadata": {
    "scrolled": false
   },
   "outputs": [
    {
     "data": {
      "text/plain": [
       "<Response [200]>"
      ]
     },
     "execution_count": 4,
     "metadata": {},
     "output_type": "execute_result"
    }
   ],
   "source": [
    "collections = client.collections()\n",
    "collections.response"
   ]
  },
  {
   "cell_type": "markdown",
   "id": "efdfb022",
   "metadata": {},
   "source": [
    "_**expected result**: list of all available collections._"
   ]
  },
  {
   "cell_type": "code",
   "execution_count": 5,
   "id": "e474e910",
   "metadata": {},
   "outputs": [
    {
     "data": {
      "text/plain": [
       "['cams-global-reanalysis-eac4-monthly',\n",
       " 'reanalysis-era5-single-levels',\n",
       " 'reanalysis-era5-land',\n",
       " 'reanalysis-era5-pressure-levels',\n",
       " 'reanalysis-era5-land-monthly-means',\n",
       " 'derived-near-surface-meteorological-variables']"
      ]
     },
     "execution_count": 5,
     "metadata": {},
     "output_type": "execute_result"
    }
   ],
   "source": [
    "collections.collection_ids()"
   ]
  },
  {
   "cell_type": "markdown",
   "id": "439b6a62",
   "metadata": {},
   "source": [
    "### 1.2 Collection\n",
    "\n",
    "**Objective**: Verify the access to the list of **collection** and it description\n",
    "\n",
    "_**expected result**: correct instatiation of collection object._\n",
    "\n",
    "*If collection.response has 200 status code, the request is succesfull and the test can proceed*"
   ]
  },
  {
   "cell_type": "code",
   "execution_count": 6,
   "id": "0fdeb32d",
   "metadata": {},
   "outputs": [
    {
     "data": {
      "text/plain": [
       "Collection(response=<Response [200]>, headers={'PRIVATE-TOKEN': 'mysecretpat'})"
      ]
     },
     "execution_count": 6,
     "metadata": {},
     "output_type": "execute_result"
    }
   ],
   "source": [
    "collection = client.collection(\"reanalysis-era5-pressure-levels\")\n",
    "collection"
   ]
  },
  {
   "cell_type": "markdown",
   "id": "f6066c65",
   "metadata": {},
   "source": [
    "_**expected result**: json of the collection response describing the collection, containing the keys:_\n",
    "- _id_\n",
    "- _title_\n",
    "- _description_"
   ]
  },
  {
   "cell_type": "code",
   "execution_count": 7,
   "id": "3a9b24bf",
   "metadata": {
    "scrolled": false
   },
   "outputs": [
    {
     "data": {
      "text/plain": [
       "{'type': 'Collection',\n",
       " 'id': 'reanalysis-era5-pressure-levels',\n",
       " 'stac_version': '1.0.0',\n",
       " 'title': 'ERA5 hourly data on pressure levels from 1959 to present',\n",
       " 'description': '**ERA5** is the fifth generation ECMWF reanalysis for the global climate and weather for the past 4 to 7 decades.\\nCurrently data is available from 1950, with Climate Data Store entries for 1950-1978 (preliminary back extension) and from 1959 onwards (final release plus timely updates, this page).\\nERA5 replaces the ERA-Interim reanalysis.\\n\\nReanalysis combines model data with observations from across the world into a globally complete and consistent dataset using the laws of physics. This principle, called data assimilation, is based on the method used by numerical weather prediction centres, where every so many hours (12 hours at ECMWF) a previous forecast is combined with newly available observations in an optimal way to produce a new best estimate of the state of the atmosphere, called analysis, from which an updated, improved forecast is issued. Reanalysis works in the same way, but at reduced resolution to allow for the provision of a dataset spanning back several decades. Reanalysis does not have the constraint of issuing timely forecasts, so there is more time to collect observations, and when going further back in time, to allow for the ingestion of improved versions of the original observations, which all benefit the quality of the reanalysis product.\\n\\nERA5 provides hourly estimates for a large number of atmospheric, ocean-wave and land-surface quantities.\\nAn uncertainty estimate is sampled by an underlying 10-member ensemble\\nat three-hourly intervals. Ensemble mean and spread have been pre-computed for convenience.\\nSuch uncertainty estimates are closely related to the information content of the available observing system which\\nhas evolved considerably over time. They also indicate flow-dependent sensitive areas.\\nTo facilitate many climate applications, monthly-mean averages have been pre-calculated too,\\nthough monthly means are not available for the ensemble mean and spread.\\n\\nERA5 is updated daily with a latency of about 5 days. In case that serious flaws are detected in this early release (called ERA5T), this data could be different from the final release 2 to 3 months later. In case that this occurs users are notified.\\n\\nThe data set presented here is a regridded subset of the full ERA5 data set on native resolution.\\nIt is online on spinning disk, which should ensure fast and easy access.\\nIt should satisfy the requirements for most common applications.\\n\\nAn overview of all ERA5 datasets can be found in [this article](https://confluence.ecmwf.int/display/CKB/The+family+of+ERA5+datasets \"The family of ERA5 datasets\").\\nInformation on access to ERA5 data on native resolution is provided in [these guidelines](https://confluence.ecmwf.int/display/CKB/How+to+download+ERA5 \"How to download ERA5\").\\n\\nData has been regridded to a regular lat-lon grid of 0.25 degrees for the reanalysis and 0.5 degrees for\\nthe uncertainty estimate (0.5 and 1 degree respectively for ocean waves).\\nThere are four main sub sets: hourly and monthly products, both on pressure levels (upper air fields) and single levels (atmospheric, ocean-wave and land surface quantities).\\n\\nThe present entry is \"ERA5 hourly data on pressure levels from 1959 to present\".\\n',\n",
       " 'keywords': ['Variable domain: Atmosphere (surface)',\n",
       "  'Variable domain: Atmosphere (upper air)',\n",
       "  'Temporal coverage: Past',\n",
       "  'Spatial coverage: Global',\n",
       "  'Product type: Reanalysis',\n",
       "  'Provider: Copernicus C3S'],\n",
       " 'license': 'proprietary',\n",
       " 'providers': [],\n",
       " 'summaries': {},\n",
       " 'extent': {'spatial': {'bbox': [[0.0, -89.0, 89.0, 360.0]]},\n",
       "  'temporal': {'interval': [['1979-01-01T00:00:00Z',\n",
       "     '2022-08-31T00:00:00Z']]}},\n",
       " 'links': [{'rel': 'self',\n",
       "   'type': 'application/json',\n",
       "   'href': 'http://localhost:8080/api/catalogue/v1/collections/reanalysis-era5-pressure-levels'},\n",
       "  {'rel': 'parent',\n",
       "   'type': 'application/json',\n",
       "   'href': 'http://localhost:8080/api/catalogue/v1/'},\n",
       "  {'rel': 'root',\n",
       "   'type': 'application/json',\n",
       "   'href': 'http://localhost:8080/api/catalogue/v1/'},\n",
       "  {'rel': 'license',\n",
       "   'href': 'http://localhost:8080/api/storage/v1/cads-catalogue-bucket/licences/licence-to-use-copernicus-products/licence-to-use-copernicus-products.pdf?versionId=41f3fac9-cc29-4998-b376-c6cdf2c63840',\n",
       "   'title': 'Licence to use Copernicus Products'},\n",
       "  {'title': 'Citation',\n",
       "   'rel': 'reference',\n",
       "   'href': 'http://localhost:8080/api/storage/v1/cads-catalogue-bucket/resources/reanalysis-era5-pressure-levels/citation.html?versionId=e9b1f4c2-90ac-4edb-8a33-a1ad0918150e'},\n",
       "  {'title': 'Acknowledgement',\n",
       "   'rel': 'reference',\n",
       "   'href': 'http://localhost:8080/api/storage/v1/cads-catalogue-bucket/resources/reanalysis-era5-pressure-levels/acknowledgement.html?versionId=3365fc02-0e22-4403-9c30-5c917f996702'},\n",
       "  {'rel': 'describedby',\n",
       "   'href': 'https://confluence.ecmwf.int/display/CKB/ERA5%3A+data+documentation',\n",
       "   'title': 'ERA5 data documentation'},\n",
       "  {'rel': 'describedby',\n",
       "   'href': 'https://rmets.onlinelibrary.wiley.com/doi/10.1002/qj.4174',\n",
       "   'title': 'The ERA5 global reanalysis: Preliminary extension to 1950'},\n",
       "  {'rel': 'describedby',\n",
       "   'href': 'https://rmets.onlinelibrary.wiley.com/doi/10.1002/qj.3803',\n",
       "   'title': 'The ERA5 global reanalysis'},\n",
       "  {'rel': 'form',\n",
       "   'href': 'http://localhost:8080/api/storage/v1/cads-catalogue-bucket/resources/reanalysis-era5-pressure-levels/form.json?versionId=9435105b-b522-4ca1-920e-e0c341f58cb7',\n",
       "   'type': 'application/json'},\n",
       "  {'rel': 'constraints',\n",
       "   'href': 'http://localhost:8080/api/storage/v1/cads-catalogue-bucket/resources/reanalysis-era5-pressure-levels/constraints.json?versionId=4b9e50c7-2eb7-4264-9177-51c71420444f',\n",
       "   'type': 'application/json'},\n",
       "  {'rel': 'retrieve',\n",
       "   'href': 'http://localhost:8080/api/retrieve/v1/processes/reanalysis-era5-pressure-levels',\n",
       "   'type': 'application/json'},\n",
       "  {'rel': 'related',\n",
       "   'href': 'http://localhost:8080/api/catalogue/v1/collections/reanalysis-era5-single-levels',\n",
       "   'title': 'ERA5 hourly data on single levels from 1959 to present'}],\n",
       " 'assets': {'thumbnail': {'href': '/api/storage/v1/cads-catalogue-bucket/resources/reanalysis-era5-pressure-levels/overview.jpg?versionId=acdd7341-3868-4184-8d2d-49b13d742360',\n",
       "   'type': 'image/jpg',\n",
       "   'roles': ['thumbnail']}},\n",
       " 'published': '2018-06-14T00:00:00Z',\n",
       " 'sci:doi': '10.24381/cds.bd0915c6'}"
      ]
     },
     "execution_count": 7,
     "metadata": {},
     "output_type": "execute_result"
    }
   ],
   "source": [
    "collection.json"
   ]
  },
  {
   "cell_type": "markdown",
   "id": "f3340f0c",
   "metadata": {},
   "source": [
    "## 3 Data Retrieval: adavanced API\n"
   ]
  },
  {
   "cell_type": "markdown",
   "id": "3feb2b1a",
   "metadata": {},
   "source": [
    "### 3.1 Request Submission: big data request\n",
    "\n",
    "**Objective:** Verify the capability of the client to submit a request "
   ]
  },
  {
   "cell_type": "markdown",
   "id": "fe966a7a",
   "metadata": {},
   "source": [
    "\n",
    "\n",
    "**client.submit** function is non blocking function and returns a remote object that allows the monitoring of the request status\n",
    "\n",
    "\n",
    "_**expected result**: the client submit the requests and return a remote object that allows the process monitoring._"
   ]
  },
  {
   "cell_type": "markdown",
   "id": "4953862c",
   "metadata": {},
   "source": [
    "collection = client.collection(\"reanalysis-era5-pressure-levels\")\n",
    "remote = collection.submit( \n",
    "    product_type=\"reanalysis\", \n",
    "    variable=\"temperature\", \n",
    "    pressure_level=\"1\", \n",
    "    year=\"1971\", \n",
    "    month=['01', '02', '03', '04', '05', '06', '07', '08', '09', '10', '11', '12'],\n",
    "    day=[\n",
    "        '01', '02', '03', '04', '05', '06', '07', '08', '09', '10', '11', '12',\n",
    "        '13', '14', '15', '16', '17', '18', '19', '20', '21', '22', '23', '24',\n",
    "        '25', '26', '27', '28', '29', '30', '31',\n",
    "    ],\n",
    "    time=\"06:00\",\n",
    "    target=\"test02.grib\",\n",
    ")\n",
    "remote.request_uid"
   ]
  },
  {
   "cell_type": "code",
   "execution_count": 8,
   "id": "d13de6f7",
   "metadata": {},
   "outputs": [
    {
     "ename": "HTTPError",
     "evalue": "500 Server Error: Internal Server Error for url: http://localhost:8080/api/retrieve/v1/processes/derived-near-surface-meteorological-variables/execute",
     "output_type": "error",
     "traceback": [
      "\u001b[0;31m---------------------------------------------------------------------------\u001b[0m",
      "\u001b[0;31mHTTPError\u001b[0m                                 Traceback (most recent call last)",
      "Cell \u001b[0;32mIn [8], line 2\u001b[0m\n\u001b[1;32m      1\u001b[0m collection \u001b[38;5;241m=\u001b[39m client\u001b[38;5;241m.\u001b[39mcollection(\u001b[38;5;124m\"\u001b[39m\u001b[38;5;124mderived-near-surface-meteorological-variables\u001b[39m\u001b[38;5;124m\"\u001b[39m)\n\u001b[0;32m----> 2\u001b[0m remote \u001b[38;5;241m=\u001b[39m \u001b[43mcollection\u001b[49m\u001b[38;5;241;43m.\u001b[39;49m\u001b[43msubmit\u001b[49m\u001b[43m(\u001b[49m\u001b[43m \u001b[49m\n\u001b[1;32m      3\u001b[0m \u001b[43m    \u001b[49m\u001b[43mmonth\u001b[49m\u001b[43m \u001b[49m\u001b[38;5;241;43m=\u001b[39;49m\u001b[43m  \u001b[49m\u001b[43m[\u001b[49m\u001b[38;5;124;43m\"\u001b[39;49m\u001b[38;5;124;43m01\u001b[39;49m\u001b[38;5;124;43m\"\u001b[39;49m\u001b[43m]\u001b[49m\u001b[43m,\u001b[49m\u001b[43m \u001b[49m\n\u001b[1;32m      4\u001b[0m \u001b[43m    \u001b[49m\u001b[43mreference_dataset\u001b[49m\u001b[43m \u001b[49m\u001b[38;5;241;43m=\u001b[39;49m\u001b[43m \u001b[49m\u001b[43m[\u001b[49m\u001b[38;5;124;43m\"\u001b[39;49m\u001b[38;5;124;43mcru\u001b[39;49m\u001b[38;5;124;43m\"\u001b[39;49m\u001b[43m]\u001b[49m\u001b[43m,\u001b[49m\u001b[43m \u001b[49m\n\u001b[1;32m      5\u001b[0m \u001b[43m    \u001b[49m\u001b[43mvariable\u001b[49m\u001b[43m \u001b[49m\u001b[38;5;241;43m=\u001b[39;49m\u001b[43m \u001b[49m\u001b[43m[\u001b[49m\u001b[38;5;124;43m\"\u001b[39;49m\u001b[38;5;124;43msurface_downwelling_longwave_radiation\u001b[39;49m\u001b[38;5;124;43m\"\u001b[39;49m\u001b[43m,\u001b[49m\u001b[43m \u001b[49m\u001b[38;5;124;43m\"\u001b[39;49m\u001b[38;5;124;43msurface_air_pressure\u001b[39;49m\u001b[38;5;124;43m\"\u001b[39;49m\u001b[43m]\u001b[49m\u001b[43m,\u001b[49m\u001b[43m \u001b[49m\n\u001b[1;32m      6\u001b[0m \u001b[43m    \u001b[49m\u001b[43mversion\u001b[49m\u001b[43m \u001b[49m\u001b[38;5;241;43m=\u001b[39;49m\u001b[43m \u001b[49m\u001b[43m[\u001b[49m\u001b[38;5;124;43m\"\u001b[39;49m\u001b[38;5;124;43m1.1\u001b[39;49m\u001b[38;5;124;43m\"\u001b[39;49m\u001b[43m]\u001b[49m\u001b[43m,\u001b[49m\u001b[43m \u001b[49m\n\u001b[1;32m      7\u001b[0m \u001b[43m    \u001b[49m\u001b[43myear\u001b[49m\u001b[43m \u001b[49m\u001b[38;5;241;43m=\u001b[39;49m\u001b[43m \u001b[49m\u001b[43m[\u001b[49m\u001b[38;5;124;43m\"\u001b[39;49m\u001b[38;5;124;43m1982\u001b[39;49m\u001b[38;5;124;43m\"\u001b[39;49m\u001b[43m]\u001b[49m\n\u001b[1;32m      8\u001b[0m \u001b[43m)\u001b[49m\n\u001b[1;32m      9\u001b[0m remote\u001b[38;5;241m.\u001b[39mrequest_uid\n",
      "File \u001b[0;32m~/devel/COPDS/cads-api-client/cads_api_client/catalogue.py:38\u001b[0m, in \u001b[0;36mCollection.submit\u001b[0;34m(self, **request)\u001b[0m\n\u001b[1;32m     36\u001b[0m \u001b[38;5;28;01mdef\u001b[39;00m \u001b[38;5;21msubmit\u001b[39m(\u001b[38;5;28mself\u001b[39m, \u001b[38;5;241m*\u001b[39m\u001b[38;5;241m*\u001b[39mrequest: Any) \u001b[38;5;241m-\u001b[39m\u001b[38;5;241m>\u001b[39m processing\u001b[38;5;241m.\u001b[39mRemote:\n\u001b[1;32m     37\u001b[0m     retrieve_process \u001b[38;5;241m=\u001b[39m \u001b[38;5;28mself\u001b[39m\u001b[38;5;241m.\u001b[39mretrieve_process()\n\u001b[0;32m---> 38\u001b[0m     status_info \u001b[38;5;241m=\u001b[39m \u001b[43mretrieve_process\u001b[49m\u001b[38;5;241;43m.\u001b[39;49m\u001b[43mexecute\u001b[49m\u001b[43m(\u001b[49m\u001b[43minputs\u001b[49m\u001b[38;5;241;43m=\u001b[39;49m\u001b[43mrequest\u001b[49m\u001b[43m)\u001b[49m\n\u001b[1;32m     39\u001b[0m     \u001b[38;5;28;01mreturn\u001b[39;00m status_info\u001b[38;5;241m.\u001b[39mmake_remote()\n",
      "File \u001b[0;32m~/devel/COPDS/cads-api-client/cads_api_client/processing.py:84\u001b[0m, in \u001b[0;36mProcess.execute\u001b[0;34m(self, inputs, **kwargs)\u001b[0m\n\u001b[1;32m     82\u001b[0m \u001b[38;5;28;01massert\u001b[39;00m \u001b[38;5;124m\"\u001b[39m\u001b[38;5;124mjson\u001b[39m\u001b[38;5;124m\"\u001b[39m \u001b[38;5;129;01mnot\u001b[39;00m \u001b[38;5;129;01min\u001b[39;00m kwargs\n\u001b[1;32m     83\u001b[0m url \u001b[38;5;241m=\u001b[39m \u001b[38;5;124mf\u001b[39m\u001b[38;5;124m\"\u001b[39m\u001b[38;5;132;01m{\u001b[39;00m\u001b[38;5;28mself\u001b[39m\u001b[38;5;241m.\u001b[39mresponse\u001b[38;5;241m.\u001b[39mrequest\u001b[38;5;241m.\u001b[39murl\u001b[38;5;132;01m}\u001b[39;00m\u001b[38;5;124m/execute\u001b[39m\u001b[38;5;124m\"\u001b[39m\n\u001b[0;32m---> 84\u001b[0m \u001b[38;5;28;01mreturn\u001b[39;00m \u001b[43mStatusInfo\u001b[49m\u001b[38;5;241;43m.\u001b[39;49m\u001b[43mfrom_request\u001b[49m\u001b[43m(\u001b[49m\u001b[38;5;124;43m\"\u001b[39;49m\u001b[38;5;124;43mpost\u001b[39;49m\u001b[38;5;124;43m\"\u001b[39;49m\u001b[43m,\u001b[49m\u001b[43m \u001b[49m\u001b[43murl\u001b[49m\u001b[43m,\u001b[49m\u001b[43m \u001b[49m\u001b[43mjson\u001b[49m\u001b[38;5;241;43m=\u001b[39;49m\u001b[43m{\u001b[49m\u001b[38;5;124;43m\"\u001b[39;49m\u001b[38;5;124;43minputs\u001b[39;49m\u001b[38;5;124;43m\"\u001b[39;49m\u001b[43m:\u001b[49m\u001b[43m \u001b[49m\u001b[43minputs\u001b[49m\u001b[43m}\u001b[49m\u001b[43m,\u001b[49m\u001b[43m \u001b[49m\u001b[43mheaders\u001b[49m\u001b[38;5;241;43m=\u001b[39;49m\u001b[38;5;28;43mself\u001b[39;49m\u001b[38;5;241;43m.\u001b[39;49m\u001b[43mheaders\u001b[49m\u001b[43m,\u001b[49m\u001b[43m \u001b[49m\u001b[38;5;241;43m*\u001b[39;49m\u001b[38;5;241;43m*\u001b[39;49m\u001b[43mkwargs\u001b[49m\u001b[43m)\u001b[49m\n",
      "File \u001b[0;32m~/devel/COPDS/cads-api-client/cads_api_client/processing.py:43\u001b[0m, in \u001b[0;36mApiResponse.from_request\u001b[0;34m(cls, raise_for_status, headers, *args, **kwargs)\u001b[0m\n\u001b[1;32m     41\u001b[0m response \u001b[38;5;241m=\u001b[39m requests\u001b[38;5;241m.\u001b[39mrequest(\u001b[38;5;241m*\u001b[39margs, \u001b[38;5;241m*\u001b[39m\u001b[38;5;241m*\u001b[39m{\u001b[38;5;124m\"\u001b[39m\u001b[38;5;124mheaders\u001b[39m\u001b[38;5;124m\"\u001b[39m: headers, \u001b[38;5;241m*\u001b[39m\u001b[38;5;241m*\u001b[39mkwargs})\n\u001b[1;32m     42\u001b[0m \u001b[38;5;28;01mif\u001b[39;00m raise_for_status:\n\u001b[0;32m---> 43\u001b[0m     \u001b[43mresponse\u001b[49m\u001b[38;5;241;43m.\u001b[39;49m\u001b[43mraise_for_status\u001b[49m\u001b[43m(\u001b[49m\u001b[43m)\u001b[49m\n\u001b[1;32m     44\u001b[0m \u001b[38;5;28mself\u001b[39m \u001b[38;5;241m=\u001b[39m \u001b[38;5;28mcls\u001b[39m(response, headers\u001b[38;5;241m=\u001b[39mheaders)\n\u001b[1;32m     45\u001b[0m \u001b[38;5;28;01mreturn\u001b[39;00m \u001b[38;5;28mself\u001b[39m\n",
      "File \u001b[0;32m/usr/local/Caskroom/miniconda/base/envs/DEVELOP/lib/python3.10/site-packages/requests/models.py:1021\u001b[0m, in \u001b[0;36mResponse.raise_for_status\u001b[0;34m(self)\u001b[0m\n\u001b[1;32m   1016\u001b[0m     http_error_msg \u001b[38;5;241m=\u001b[39m (\n\u001b[1;32m   1017\u001b[0m         \u001b[38;5;124mf\u001b[39m\u001b[38;5;124m\"\u001b[39m\u001b[38;5;132;01m{\u001b[39;00m\u001b[38;5;28mself\u001b[39m\u001b[38;5;241m.\u001b[39mstatus_code\u001b[38;5;132;01m}\u001b[39;00m\u001b[38;5;124m Server Error: \u001b[39m\u001b[38;5;132;01m{\u001b[39;00mreason\u001b[38;5;132;01m}\u001b[39;00m\u001b[38;5;124m for url: \u001b[39m\u001b[38;5;132;01m{\u001b[39;00m\u001b[38;5;28mself\u001b[39m\u001b[38;5;241m.\u001b[39murl\u001b[38;5;132;01m}\u001b[39;00m\u001b[38;5;124m\"\u001b[39m\n\u001b[1;32m   1018\u001b[0m     )\n\u001b[1;32m   1020\u001b[0m \u001b[38;5;28;01mif\u001b[39;00m http_error_msg:\n\u001b[0;32m-> 1021\u001b[0m     \u001b[38;5;28;01mraise\u001b[39;00m HTTPError(http_error_msg, response\u001b[38;5;241m=\u001b[39m\u001b[38;5;28mself\u001b[39m)\n",
      "\u001b[0;31mHTTPError\u001b[0m: 500 Server Error: Internal Server Error for url: http://localhost:8080/api/retrieve/v1/processes/derived-near-surface-meteorological-variables/execute"
     ]
    }
   ],
   "source": [
    "collection = client.collection(\"derived-near-surface-meteorological-variables\")\n",
    "remote = collection.submit( \n",
    "    month =  [\"01\"], \n",
    "    reference_dataset = [\"cru\"], \n",
    "    variable = [\"surface_downwelling_longwave_radiation\", \"surface_air_pressure\"], \n",
    "    version = [\"1.1\"], \n",
    "    year = [\"1982\"]\n",
    ")\n",
    "remote.request_uid"
   ]
  },
  {
   "cell_type": "markdown",
   "id": "8a4504f3",
   "metadata": {},
   "source": [
    "### 3.2 Request Monitoring\n",
    "\n",
    "**Objectives**: Verify client capability monitor the requesst"
   ]
  },
  {
   "cell_type": "markdown",
   "id": "623b39e9",
   "metadata": {},
   "source": [
    "**remote.status** allows to monitor the process status\n",
    "\n",
    "_**expected result**: returns the updated status of the request: failed, successful, running_"
   ]
  },
  {
   "cell_type": "code",
   "execution_count": null,
   "id": "d9f750b6",
   "metadata": {},
   "outputs": [],
   "source": [
    "remote.status"
   ]
  },
  {
   "cell_type": "markdown",
   "id": "c198e314",
   "metadata": {},
   "source": [
    "**client.get_requests** returns the list of requests submitted \n",
    "\n",
    "_**expected result**: ids of the submitted requests._"
   ]
  },
  {
   "cell_type": "code",
   "execution_count": null,
   "id": "92396d01",
   "metadata": {
    "scrolled": false
   },
   "outputs": [],
   "source": [
    "requests = client.get_requests()\n",
    "requests.job_ids()"
   ]
  },
  {
   "cell_type": "markdown",
   "id": "01f7f962",
   "metadata": {},
   "source": [
    "_**expected result**: the remote.request_uid is in the list of the submitted requests._"
   ]
  },
  {
   "cell_type": "code",
   "execution_count": null,
   "id": "14e3617a",
   "metadata": {},
   "outputs": [],
   "source": [
    "remote.request_uid in requests.job_ids()"
   ]
  },
  {
   "cell_type": "markdown",
   "id": "d02e6af2",
   "metadata": {},
   "source": [
    "### 3.3 Data download\n",
    "\n",
    "**Objectives**: Verify client capability to download the data"
   ]
  },
  {
   "cell_type": "markdown",
   "id": "dd2cef08",
   "metadata": {},
   "source": [
    "**download** function is blocking: \n",
    "- waits until the requests is completed\n",
    "- downloads the data"
   ]
  },
  {
   "cell_type": "markdown",
   "id": "250b4941",
   "metadata": {},
   "source": [
    "\"_**expected result**: the data is downloaded and saved in $output_path._\""
   ]
  },
  {
   "cell_type": "code",
   "execution_count": null,
   "id": "e0e04fc0",
   "metadata": {},
   "outputs": [],
   "source": [
    "output_path = remote.download(\"test02.grib\")\n",
    "output_path"
   ]
  },
  {
   "cell_type": "code",
   "execution_count": null,
   "id": "8d9bdd2d",
   "metadata": {},
   "outputs": [],
   "source": [
    "ls -l $ouput_path"
   ]
  },
  {
   "cell_type": "markdown",
   "id": "a56e6b29",
   "metadata": {},
   "source": [
    "_**expected output**: data compatible with the request:_\n",
    "- _one variable: t (temperature)_\n",
    "- _three dimensions time (365), latitude (721) and longitude (1440)_"
   ]
  },
  {
   "cell_type": "code",
   "execution_count": null,
   "id": "0f8e7c90",
   "metadata": {},
   "outputs": [],
   "source": [
    "ds = xr.open_dataset(output_path)\n",
    "ds"
   ]
  },
  {
   "cell_type": "markdown",
   "id": "d7be5a18",
   "metadata": {},
   "source": [
    "## 4. Error Handling"
   ]
  },
  {
   "cell_type": "markdown",
   "id": "8c171814",
   "metadata": {},
   "source": [
    "**Objectives**: Verify how errors are handled: error messages and codes"
   ]
  },
  {
   "cell_type": "markdown",
   "id": "ede9fe40",
   "metadata": {},
   "source": [
    "### 4.1 Wrong URL"
   ]
  },
  {
   "cell_type": "markdown",
   "id": "9438eb37",
   "metadata": {},
   "source": [
    "_**expected output**: 404 Client Error: Not Found for url_"
   ]
  },
  {
   "cell_type": "code",
   "execution_count": null,
   "id": "a8698964",
   "metadata": {
    "scrolled": false,
    "tags": [
     "raises-exception"
    ]
   },
   "outputs": [],
   "source": [
    "client = cads_api_client.ApiClient(f\"{api_url}_1\")\n",
    "client.collections()"
   ]
  },
  {
   "cell_type": "markdown",
   "id": "d531ccc7",
   "metadata": {},
   "source": [
    "### 4.2 Missing collection"
   ]
  },
  {
   "cell_type": "markdown",
   "id": "7ef73bcf",
   "metadata": {},
   "source": [
    "_**expected output**: 404 Client Error: Not Found for url_"
   ]
  },
  {
   "cell_type": "code",
   "execution_count": null,
   "id": "86fbd668",
   "metadata": {
    "tags": [
     "raises-exception"
    ]
   },
   "outputs": [],
   "source": [
    "client = cads_api_client.ApiClient(api_url)\n",
    "client.collection(\"missing_collection\")"
   ]
  },
  {
   "cell_type": "markdown",
   "id": "5959e563",
   "metadata": {},
   "source": [
    "### 4.3 Unknown job"
   ]
  },
  {
   "cell_type": "markdown",
   "id": "8fa6c81e",
   "metadata": {},
   "source": [
    "_**expected output**: 404 Client Error: Not Found for url_"
   ]
  },
  {
   "cell_type": "code",
   "execution_count": null,
   "id": "04369560",
   "metadata": {
    "tags": [
     "raises-exception"
    ]
   },
   "outputs": [],
   "source": [
    "status_info = client.get_request(\"ffffffff-4455-6677-8899-aabbccddeeff\")"
   ]
  },
  {
   "cell_type": "markdown",
   "id": "7f573b16",
   "metadata": {},
   "source": [
    "### 4.4 Wrong request"
   ]
  },
  {
   "cell_type": "markdown",
   "id": "9e5eebdd",
   "metadata": {},
   "source": [
    "**non blocking request using collection.submit**\n",
    "\n",
    "_**expected output**: _collection.submit doesn't raise any Error_\n"
   ]
  },
  {
   "cell_type": "code",
   "execution_count": null,
   "id": "b9032ab3",
   "metadata": {},
   "outputs": [],
   "source": [
    "client = cads_api_client.ApiClient(api_url)\n",
    "collection = client.collection(\"reanalysis-era5-pressure-levels\")\n",
    "remote = collection.submit( \n",
    "    target=\"output.grib\",\n",
    "    product_type=\"reanalysis\", \n",
    "    variable=\"temperature\", \n",
    "    pressure_level=\"1\", \n",
    "    year=\"2222\", \n",
    "    month=\"01\", \n",
    "    day=\"25\", \n",
    "    time=\"06:00\",\n",
    "    format=\"grib\", \n",
    ")"
   ]
  },
  {
   "cell_type": "markdown",
   "id": "96a7c347",
   "metadata": {},
   "source": [
    "_**expected output**: remote.wait_on_result raises a ProcessingFailedError_"
   ]
  },
  {
   "cell_type": "code",
   "execution_count": null,
   "id": "5755cbef",
   "metadata": {
    "tags": [
     "raises-exception"
    ]
   },
   "outputs": [],
   "source": [
    "remote.wait_on_result()"
   ]
  },
  {
   "cell_type": "markdown",
   "id": "1f722e04",
   "metadata": {},
   "source": [
    "_**expected output**: result status code is 400_"
   ]
  },
  {
   "cell_type": "code",
   "execution_count": null,
   "id": "0acbc31d",
   "metadata": {},
   "outputs": [],
   "source": [
    "results = remote.make_results()"
   ]
  },
  {
   "cell_type": "code",
   "execution_count": null,
   "id": "0065164b",
   "metadata": {},
   "outputs": [],
   "source": [
    "results.status_code"
   ]
  },
  {
   "cell_type": "markdown",
   "id": "d4702b46",
   "metadata": {},
   "source": [
    "_**expected output**:_\n",
    "- _result.json describes the error in the fields: \"type\", \"title\" and \"detail\"_\n",
    "- _\"detail\" contains the error traceback_"
   ]
  },
  {
   "cell_type": "code",
   "execution_count": null,
   "id": "d40f43f6",
   "metadata": {},
   "outputs": [],
   "source": [
    "results.json"
   ]
  },
  {
   "cell_type": "code",
   "execution_count": null,
   "id": "57943cca",
   "metadata": {},
   "outputs": [],
   "source": [
    "headers = {\"Content-Type\"}"
   ]
  }
 ],
 "metadata": {
  "kernelspec": {
   "display_name": "Python 3 (ipykernel)",
   "language": "python",
   "name": "python3"
  },
  "language_info": {
   "codemirror_mode": {
    "name": "ipython",
    "version": 3
   },
   "file_extension": ".py",
   "mimetype": "text/x-python",
   "name": "python",
   "nbconvert_exporter": "python",
   "pygments_lexer": "ipython3",
   "version": "3.10.6"
  }
 },
 "nbformat": 4,
 "nbformat_minor": 5
}
