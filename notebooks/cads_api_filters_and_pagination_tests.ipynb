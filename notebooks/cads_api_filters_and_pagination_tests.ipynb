{
 "cells": [
  {
   "cell_type": "code",
   "execution_count": 2,
   "id": "928e9590",
   "metadata": {},
   "outputs": [],
   "source": [
    "import os\n",
    "import xarray as xr\n",
    "\n",
    "import cads_api_client"
   ]
  },
  {
   "cell_type": "code",
   "execution_count": 7,
   "id": "c51b26c0",
   "metadata": {},
   "outputs": [
    {
     "data": {
      "text/plain": [
       "'http://cds2-dev.copernicus-climate.eu/api'"
      ]
     },
     "execution_count": 7,
     "metadata": {},
     "output_type": "execute_result"
    }
   ],
   "source": [
    "api_url = os.getenv(\"CADS_API_ROOT_URL\", \"http://cds2-dev.copernicus-climate.eu/api\")\n",
    "api_url"
   ]
  },
  {
   "cell_type": "code",
   "execution_count": 10,
   "id": "99a1fd8d",
   "metadata": {},
   "outputs": [
    {
     "data": {
      "text/plain": [
       "<Response [200]>"
      ]
     },
     "execution_count": 10,
     "metadata": {},
     "output_type": "execute_result"
    }
   ],
   "source": [
    "client = cads_api_client.ApiClient(url=api_url, key=\"00112233-4455-6677-c899-aabbccddeeff\")\n",
    "collections = client.collections(limit=1, q=\"hourly\", kw=\"Temporal coverage: Past\")\n",
    "collections.response.url"
   ]
  },
  {
   "cell_type": "code",
   "execution_count": null,
   "id": "40d3988e",
   "metadata": {},
   "outputs": [],
   "source": []
  }
 ],
 "metadata": {
  "kernelspec": {
   "display_name": "Python 3 (ipykernel)",
   "language": "python",
   "name": "python3"
  },
  "language_info": {
   "codemirror_mode": {
    "name": "ipython",
    "version": 3
   },
   "file_extension": ".py",
   "mimetype": "text/x-python",
   "name": "python",
   "nbconvert_exporter": "python",
   "pygments_lexer": "ipython3",
   "version": "3.10.6"
  }
 },
 "nbformat": 4,
 "nbformat_minor": 5
}
