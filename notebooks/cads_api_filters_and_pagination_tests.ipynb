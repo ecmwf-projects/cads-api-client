{
 "cells": [
  {
   "cell_type": "markdown",
   "id": "374f02a7",
   "metadata": {},
   "source": [
    "# CADS API: filters and pagination tests"
   ]
  },
  {
   "cell_type": "code",
   "execution_count": 1,
   "id": "ca5fc958",
   "metadata": {},
   "outputs": [],
   "source": [
    "import os\n",
    "import xarray as xr\n",
    "\n",
    "import cads_api_client"
   ]
  },
  {
   "cell_type": "markdown",
   "id": "8cb34dab",
   "metadata": {},
   "source": [
    "## Client instantiation"
   ]
  },
  {
   "cell_type": "code",
   "execution_count": 2,
   "id": "a873e0ad",
   "metadata": {},
   "outputs": [
    {
     "data": {
      "text/plain": [
       "'http://cds2-dev.copernicus-climate.eu/api'"
      ]
     },
     "execution_count": 2,
     "metadata": {},
     "output_type": "execute_result"
    }
   ],
   "source": [
    "api_url = os.getenv(\"CADS_API_ROOT_URL\", \"http://cds2-dev.copernicus-climate.eu/api\")\n",
    "api_url"
   ]
  },
  {
   "cell_type": "code",
   "execution_count": 3,
   "id": "5bad9658",
   "metadata": {},
   "outputs": [],
   "source": [
    "client = cads_api_client.ApiClient(url=api_url, key=\"00112233-4455-6677-c899-aabbccddeeff\")"
   ]
  },
  {
   "cell_type": "markdown",
   "id": "a661613b",
   "metadata": {},
   "source": [
    "## 1. Catalogue Exploration"
   ]
  },
  {
   "cell_type": "markdown",
   "id": "e8acb8b1",
   "metadata": {},
   "source": [
    "### 1.1 Fetch all available collections\n",
    "\n",
    "**Objective**: verify the access to the complete list of **collections**\n",
    "<hr>"
   ]
  },
  {
   "cell_type": "markdown",
   "id": "9ed89b69",
   "metadata": {},
   "source": [
    "_**Expected result**:  client.collections() returns all available collections in the CDS_"
   ]
  },
  {
   "cell_type": "code",
   "execution_count": 4,
   "id": "b99e4fc8",
   "metadata": {
    "scrolled": false
   },
   "outputs": [
    {
     "data": {
      "text/plain": [
       "['cams-global-reanalysis-eac4-monthly',\n",
       " 'reanalysis-era5-single-levels',\n",
       " 'reanalysis-era5-land',\n",
       " 'reanalysis-era5-pressure-levels',\n",
       " 'reanalysis-era5-land-monthly-means',\n",
       " 'derived-near-surface-meteorological-variables']"
      ]
     },
     "execution_count": 4,
     "metadata": {},
     "output_type": "execute_result"
    }
   ],
   "source": [
    "client.collections().collection_ids()"
   ]
  },
  {
   "cell_type": "markdown",
   "id": "120fbfde",
   "metadata": {},
   "source": [
    "### 1.2 Pagination\n",
    "\n",
    "**Objective**: verify that returned **`collections`** can be paginated in groups of specified lenght. The user can move between pages usign **`next()`** and **`prev()`** methods\n",
    "<hr>\n",
    "\n",
    "_**Expected result**:  **`collections`** are paginated in groups of lenght `[limit]`. Calling **`next()`** moves to the following page. Calling **`prev()`** moves to the previous page. When the limits are reached **`next()`** and **`prev()`** return **`None`**_"
   ]
  },
  {
   "cell_type": "code",
   "execution_count": 5,
   "id": "89486fd9",
   "metadata": {},
   "outputs": [
    {
     "data": {
      "text/plain": [
       "1"
      ]
     },
     "execution_count": 5,
     "metadata": {},
     "output_type": "execute_result"
    }
   ],
   "source": [
    "collections = client.collections(limit=1)\n",
    "len(collections.json['collections'])"
   ]
  },
  {
   "cell_type": "code",
   "execution_count": 6,
   "id": "840a5f45",
   "metadata": {
    "scrolled": true
   },
   "outputs": [
    {
     "data": {
      "text/plain": [
       "'cams-global-reanalysis-eac4-monthly'"
      ]
     },
     "execution_count": 6,
     "metadata": {},
     "output_type": "execute_result"
    }
   ],
   "source": [
    "collections.json['collections'][0]['id']"
   ]
  },
  {
   "cell_type": "markdown",
   "id": "e1a86216",
   "metadata": {},
   "source": [
    "Use **`next()`** to move to the followgin page"
   ]
  },
  {
   "cell_type": "code",
   "execution_count": 7,
   "id": "637eee21",
   "metadata": {},
   "outputs": [
    {
     "data": {
      "text/plain": [
       "'reanalysis-era5-single-levels'"
      ]
     },
     "execution_count": 7,
     "metadata": {},
     "output_type": "execute_result"
    }
   ],
   "source": [
    "collections.next().json['collections'][0]['id']"
   ]
  },
  {
   "cell_type": "code",
   "execution_count": 8,
   "id": "bb7c265f",
   "metadata": {},
   "outputs": [
    {
     "data": {
      "text/plain": [
       "'derived-near-surface-meteorological-variables'"
      ]
     },
     "execution_count": 8,
     "metadata": {},
     "output_type": "execute_result"
    }
   ],
   "source": [
    "collections.next().next().next().next().next().json['collections'][0]['id']"
   ]
  },
  {
   "cell_type": "markdown",
   "id": "0c92ab4a",
   "metadata": {},
   "source": [
    "use **`prev()`** to move to the previus page"
   ]
  },
  {
   "cell_type": "code",
   "execution_count": 9,
   "id": "5d23e931",
   "metadata": {},
   "outputs": [
    {
     "data": {
      "text/plain": [
       "'cams-global-reanalysis-eac4-monthly'"
      ]
     },
     "execution_count": 9,
     "metadata": {},
     "output_type": "execute_result"
    }
   ],
   "source": [
    "collections.next().prev().json['collections'][0]['id']"
   ]
  },
  {
   "cell_type": "markdown",
   "id": "8474ce62",
   "metadata": {},
   "source": [
    "when the limit is reached **`next()`** return None"
   ]
  },
  {
   "cell_type": "code",
   "execution_count": 10,
   "id": "a9c6e99a",
   "metadata": {},
   "outputs": [
    {
     "data": {
      "text/plain": [
       "True"
      ]
     },
     "execution_count": 10,
     "metadata": {},
     "output_type": "execute_result"
    }
   ],
   "source": [
    "collections.next().next().next().next().next().next() is None"
   ]
  },
  {
   "cell_type": "markdown",
   "id": "85864c56",
   "metadata": {},
   "source": [
    "so does **`prev()`**"
   ]
  },
  {
   "cell_type": "code",
   "execution_count": 11,
   "id": "e9187782",
   "metadata": {
    "scrolled": true
   },
   "outputs": [
    {
     "data": {
      "text/plain": [
       "True"
      ]
     },
     "execution_count": 11,
     "metadata": {},
     "output_type": "execute_result"
    }
   ],
   "source": [
    "collections.prev() is None"
   ]
  },
  {
   "cell_type": "markdown",
   "id": "30ba4ac7",
   "metadata": {},
   "source": [
    "Try a different `limit` for page "
   ]
  },
  {
   "cell_type": "code",
   "execution_count": 12,
   "id": "92c11f97",
   "metadata": {
    "scrolled": true
   },
   "outputs": [
    {
     "data": {
      "text/plain": [
       "['cams-global-reanalysis-eac4-monthly',\n",
       " 'reanalysis-era5-single-levels',\n",
       " 'reanalysis-era5-land',\n",
       " 'reanalysis-era5-pressure-levels']"
      ]
     },
     "execution_count": 12,
     "metadata": {},
     "output_type": "execute_result"
    }
   ],
   "source": [
    "collections = client.collections(limit=4)\n",
    "collections.collection_ids()"
   ]
  },
  {
   "cell_type": "code",
   "execution_count": 13,
   "id": "cee59525",
   "metadata": {},
   "outputs": [
    {
     "data": {
      "text/plain": [
       "['reanalysis-era5-land-monthly-means',\n",
       " 'derived-near-surface-meteorological-variables']"
      ]
     },
     "execution_count": 13,
     "metadata": {},
     "output_type": "execute_result"
    }
   ],
   "source": [
    "collections.next().collection_ids()"
   ]
  },
  {
   "cell_type": "markdown",
   "id": "f7056e79",
   "metadata": {},
   "source": [
    "### 1.3 Filter by full text search in collections' tile\n",
    "\n",
    "**Objective**: verify that the catalogue can be filtered by full text search in collections' title\n",
    "<hr>\n",
    "\n",
    "_**Expected result**:  only **`collections`** with the specified full text `q` in the title are returned._"
   ]
  },
  {
   "cell_type": "code",
   "execution_count": 14,
   "id": "ccf7a50b",
   "metadata": {
    "scrolled": true
   },
   "outputs": [
    {
     "data": {
      "text/plain": [
       "['reanalysis-era5-single-levels',\n",
       " 'reanalysis-era5-land',\n",
       " 'reanalysis-era5-pressure-levels']"
      ]
     },
     "execution_count": 14,
     "metadata": {},
     "output_type": "execute_result"
    }
   ],
   "source": [
    "collections = client.collections(q=\"hourly\")\n",
    "collections.collection_ids()"
   ]
  },
  {
   "cell_type": "code",
   "execution_count": 15,
   "id": "7a0f0cb2",
   "metadata": {
    "scrolled": true
   },
   "outputs": [
    {
     "name": "stdout",
     "output_type": "stream",
     "text": [
      "ERA5 hourly data on single levels from 1959 to present\n",
      "ERA5-Land hourly data from 1950 to present\n",
      "ERA5 hourly data on pressure levels from 1959 to present\n"
     ]
    }
   ],
   "source": [
    "for collection in collections.json['collections']:\n",
    "    print(collection['title'])"
   ]
  },
  {
   "cell_type": "markdown",
   "id": "f353d783",
   "metadata": {},
   "source": [
    "### 1.4 Filter by keywords\n",
    "**Objective**: verify that the catalogue can be filtered by searching between datasets' keywords\n",
    "<hr>\n",
    "\n",
    "_**Expected result**:  only **`collections`** with the specified kewords `kw` are returned_"
   ]
  },
  {
   "cell_type": "code",
   "execution_count": 16,
   "id": "687422b8",
   "metadata": {},
   "outputs": [
    {
     "data": {
      "text/plain": [
       "['cams-global-reanalysis-eac4-monthly',\n",
       " 'reanalysis-era5-single-levels',\n",
       " 'reanalysis-era5-land',\n",
       " 'reanalysis-era5-pressure-levels',\n",
       " 'reanalysis-era5-land-monthly-means',\n",
       " 'derived-near-surface-meteorological-variables']"
      ]
     },
     "execution_count": 16,
     "metadata": {},
     "output_type": "execute_result"
    }
   ],
   "source": [
    "client.collections(kw=[\"Temporal coverage: Past\", \"Spatial coverage: Global\"]).collection_ids()"
   ]
  },
  {
   "cell_type": "code",
   "execution_count": 17,
   "id": "52c9f500",
   "metadata": {
    "scrolled": true
   },
   "outputs": [
    {
     "data": {
      "text/plain": [
       "['cams-global-reanalysis-eac4-monthly',\n",
       " 'reanalysis-era5-single-levels',\n",
       " 'reanalysis-era5-land',\n",
       " 'reanalysis-era5-pressure-levels',\n",
       " 'reanalysis-era5-land-monthly-means']"
      ]
     },
     "execution_count": 17,
     "metadata": {},
     "output_type": "execute_result"
    }
   ],
   "source": [
    "client.collections(kw=[\"Product type: Reanalysis\"]).collection_ids()"
   ]
  },
  {
   "cell_type": "markdown",
   "id": "32b74797",
   "metadata": {},
   "source": [
    "### 1.4 Sort collections by id, title or update\n",
    "**Objective**: verify that **collections** can be sorted by `id`, `title` or `update`\n",
    "<hr>\n",
    "\n",
    "_**Expected result**:  returned **`collections`** are sorted by `id`, `title` or `update`"
   ]
  },
  {
   "cell_type": "code",
   "execution_count": 18,
   "id": "e3fd5859",
   "metadata": {
    "scrolled": true
   },
   "outputs": [
    {
     "data": {
      "text/plain": [
       "['cams-global-reanalysis-eac4-monthly',\n",
       " 'derived-near-surface-meteorological-variables',\n",
       " 'reanalysis-era5-land',\n",
       " 'reanalysis-era5-land-monthly-means',\n",
       " 'reanalysis-era5-pressure-levels',\n",
       " 'reanalysis-era5-single-levels']"
      ]
     },
     "execution_count": 18,
     "metadata": {},
     "output_type": "execute_result"
    }
   ],
   "source": [
    "client.collections(sorting=\"id\").collection_ids()"
   ]
  },
  {
   "cell_type": "code",
   "execution_count": 19,
   "id": "eee6ab82",
   "metadata": {},
   "outputs": [
    {
     "data": {
      "text/plain": [
       "['cams-global-reanalysis-eac4-monthly',\n",
       " 'reanalysis-era5-pressure-levels',\n",
       " 'reanalysis-era5-single-levels',\n",
       " 'reanalysis-era5-land',\n",
       " 'reanalysis-era5-land-monthly-means',\n",
       " 'derived-near-surface-meteorological-variables']"
      ]
     },
     "execution_count": 19,
     "metadata": {},
     "output_type": "execute_result"
    }
   ],
   "source": [
    "client.collections(sorting=\"title\").collection_ids()"
   ]
  },
  {
   "cell_type": "code",
   "execution_count": 20,
   "id": "bf718c6d",
   "metadata": {},
   "outputs": [
    {
     "data": {
      "text/plain": [
       "['CAMS global reanalysis (EAC4) monthly averaged fields',\n",
       " 'ERA5 hourly data on pressure levels from 1959 to present',\n",
       " 'ERA5 hourly data on single levels from 1959 to present',\n",
       " 'ERA5-Land hourly data from 1950 to present',\n",
       " 'ERA5-Land monthly averaged data from 1950 to present',\n",
       " 'Near surface meteorological variables from 1979 to 2019 derived from bias-corrected reanalysis']"
      ]
     },
     "execution_count": 20,
     "metadata": {},
     "output_type": "execute_result"
    }
   ],
   "source": [
    "titles = [collection[\"title\"] for collection in client.collections().json['collections']]\n",
    "sorted(titles)"
   ]
  },
  {
   "cell_type": "code",
   "execution_count": 21,
   "id": "e04bcb02",
   "metadata": {
    "scrolled": true
   },
   "outputs": [
    {
     "data": {
      "text/plain": [
       "['cams-global-reanalysis-eac4-monthly',\n",
       " 'reanalysis-era5-single-levels',\n",
       " 'reanalysis-era5-land',\n",
       " 'reanalysis-era5-pressure-levels',\n",
       " 'reanalysis-era5-land-monthly-means',\n",
       " 'derived-near-surface-meteorological-variables']"
      ]
     },
     "execution_count": 21,
     "metadata": {},
     "output_type": "execute_result"
    }
   ],
   "source": [
    "client.collections(sorting=\"update\").collection_ids()"
   ]
  },
  {
   "cell_type": "markdown",
   "id": "485f56c7",
   "metadata": {},
   "source": [
    "### 1.5 A combination of the above\n",
    "**Objective**: verify that **collections** can be filtered by keyword, full text search in collections' title, then sorted by `title` and finally paginated.\n",
    "<hr>\n",
    "\n",
    "_**Expected result**:  returned **`collections`** are filtered by keyword, title text, sorted by `id` and paginated_"
   ]
  },
  {
   "cell_type": "code",
   "execution_count": 22,
   "id": "534f730c",
   "metadata": {},
   "outputs": [
    {
     "data": {
      "text/plain": [
       "['reanalysis-era5-land',\n",
       " 'reanalysis-era5-land-monthly-means',\n",
       " 'reanalysis-era5-pressure-levels']"
      ]
     },
     "execution_count": 22,
     "metadata": {},
     "output_type": "execute_result"
    }
   ],
   "source": [
    "collections = client.collections(\n",
    "    limit=3, \n",
    "    kw='Product type: Reanalysis', \n",
    "    q='era5', \n",
    "    sorting='id'\n",
    ")\n",
    "collections.collection_ids()"
   ]
  },
  {
   "cell_type": "code",
   "execution_count": 23,
   "id": "270f9828",
   "metadata": {},
   "outputs": [
    {
     "data": {
      "text/plain": [
       "['reanalysis-era5-single-levels']"
      ]
     },
     "execution_count": 23,
     "metadata": {},
     "output_type": "execute_result"
    }
   ],
   "source": [
    "collections.next().collection_ids()"
   ]
  }
 ],
 "metadata": {
  "kernelspec": {
   "display_name": "Python 3 (ipykernel)",
   "language": "python",
   "name": "python3"
  },
  "language_info": {
   "codemirror_mode": {
    "name": "ipython",
    "version": 3
   },
   "file_extension": ".py",
   "mimetype": "text/x-python",
   "name": "python",
   "nbconvert_exporter": "python",
   "pygments_lexer": "ipython3",
   "version": "3.10.6"
  }
 },
 "nbformat": 4,
 "nbformat_minor": 5
}
